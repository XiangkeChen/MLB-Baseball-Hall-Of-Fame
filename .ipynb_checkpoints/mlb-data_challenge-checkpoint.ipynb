{
 "cells": [
  {
   "cell_type": "markdown",
   "metadata": {
    "colab_type": "text",
    "id": "93qSIPwSv39P",
    "toc": true
   },
   "source": [
    "<h1>Table of Contents<span class=\"tocSkip\"></span></h1>\n",
    "<div class=\"toc\"><ul class=\"toc-item\"><li><span><a href=\"#Business-Context\" data-toc-modified-id=\"Business-Context-1\"><span class=\"toc-item-num\">1&nbsp;&nbsp;</span>Business Context</a></span><ul class=\"toc-item\"><li><span><a href=\"#Background\" data-toc-modified-id=\"Background-1.1\"><span class=\"toc-item-num\">1.1&nbsp;&nbsp;</span>Background</a></span></li><li><span><a href=\"#Problem-&amp;-Task\" data-toc-modified-id=\"Problem-&amp;-Task-1.2\"><span class=\"toc-item-num\">1.2&nbsp;&nbsp;</span>Problem &amp; Task</a></span></li></ul></li><li><span><a href=\"#Import-Required-Modules\" data-toc-modified-id=\"Import-Required-Modules-2\"><span class=\"toc-item-num\">2&nbsp;&nbsp;</span>Import Required Modules</a></span></li><li><span><a href=\"#Read-in-Datasets\" data-toc-modified-id=\"Read-in-Datasets-3\"><span class=\"toc-item-num\">3&nbsp;&nbsp;</span>Read in Datasets</a></span></li><li><span><a href=\"#Data-Preparation\" data-toc-modified-id=\"Data-Preparation-4\"><span class=\"toc-item-num\">4&nbsp;&nbsp;</span>Data Preparation</a></span><ul class=\"toc-item\"><li><span><a href=\"#Master-Table\" data-toc-modified-id=\"Master-Table-4.1\"><span class=\"toc-item-num\">4.1&nbsp;&nbsp;</span>Master Table</a></span><ul class=\"toc-item\"><li><span><a href=\"#Keep-Necessary-Columns\" data-toc-modified-id=\"Keep-Necessary-Columns-4.1.1\"><span class=\"toc-item-num\">4.1.1&nbsp;&nbsp;</span>Keep Necessary Columns</a></span></li><li><span><a href=\"#Handle-Missing-Values\" data-toc-modified-id=\"Handle-Missing-Values-4.1.2\"><span class=\"toc-item-num\">4.1.2&nbsp;&nbsp;</span>Handle Missing Values</a></span></li><li><span><a href=\"#Data-Engineering\" data-toc-modified-id=\"Data-Engineering-4.1.3\"><span class=\"toc-item-num\">4.1.3&nbsp;&nbsp;</span>Data Engineering</a></span></li></ul></li><li><span><a href=\"#Batting-Table\" data-toc-modified-id=\"Batting-Table-4.2\"><span class=\"toc-item-num\">4.2&nbsp;&nbsp;</span>Batting Table</a></span><ul class=\"toc-item\"><li><span><a href=\"#Handle-Missing-Values\" data-toc-modified-id=\"Handle-Missing-Values-4.2.1\"><span class=\"toc-item-num\">4.2.1&nbsp;&nbsp;</span>Handle Missing Values</a></span></li><li><span><a href=\"#Aggregate-to-individual-level\" data-toc-modified-id=\"Aggregate-to-individual-level-4.2.2\"><span class=\"toc-item-num\">4.2.2&nbsp;&nbsp;</span>Aggregate to individual level</a></span></li></ul></li><li><span><a href=\"#Hall-of-Fame-Table\" data-toc-modified-id=\"Hall-of-Fame-Table-4.3\"><span class=\"toc-item-num\">4.3&nbsp;&nbsp;</span>Hall of Fame Table</a></span><ul class=\"toc-item\"><li><span><a href=\"#Handle-Missing-Values\" data-toc-modified-id=\"Handle-Missing-Values-4.3.1\"><span class=\"toc-item-num\">4.3.1&nbsp;&nbsp;</span>Handle Missing Values</a></span></li><li><span><a href=\"#Keep-Right-Category\" data-toc-modified-id=\"Keep-Right-Category-4.3.2\"><span class=\"toc-item-num\">4.3.2&nbsp;&nbsp;</span>Keep Right Category</a></span></li><li><span><a href=\"#Keep-Necessary-Columns\" data-toc-modified-id=\"Keep-Necessary-Columns-4.3.3\"><span class=\"toc-item-num\">4.3.3&nbsp;&nbsp;</span>Keep Necessary Columns</a></span></li></ul></li></ul></li><li><span><a href=\"#Final-Data-Transformation\" data-toc-modified-id=\"Final-Data-Transformation-5\"><span class=\"toc-item-num\">5&nbsp;&nbsp;</span>Final Data Transformation</a></span></li><li><span><a href=\"#Exploratory-Data-Analysis\" data-toc-modified-id=\"Exploratory-Data-Analysis-6\"><span class=\"toc-item-num\">6&nbsp;&nbsp;</span>Exploratory Data Analysis</a></span></li><li><span><a href=\"#Predictive-Modeling\" data-toc-modified-id=\"Predictive-Modeling-7\"><span class=\"toc-item-num\">7&nbsp;&nbsp;</span>Predictive Modeling</a></span><ul class=\"toc-item\"><li><span><a href=\"#Data-Engineering\" data-toc-modified-id=\"Data-Engineering-7.1\"><span class=\"toc-item-num\">7.1&nbsp;&nbsp;</span>Data Engineering</a></span><ul class=\"toc-item\"><li><span><a href=\"#Feature-Sepcification\" data-toc-modified-id=\"Feature-Sepcification-7.1.1\"><span class=\"toc-item-num\">7.1.1&nbsp;&nbsp;</span>Feature Sepcification</a></span></li><li><span><a href=\"#Normalize-data\" data-toc-modified-id=\"Normalize-data-7.1.2\"><span class=\"toc-item-num\">7.1.2&nbsp;&nbsp;</span>Normalize data</a></span></li><li><span><a href=\"#Feature-Selection---Chi2\" data-toc-modified-id=\"Feature-Selection---Chi2-7.1.3\"><span class=\"toc-item-num\">7.1.3&nbsp;&nbsp;</span>Feature Selection - Chi2</a></span></li></ul></li><li><span><a href=\"#Model-Construction\" data-toc-modified-id=\"Model-Construction-7.2\"><span class=\"toc-item-num\">7.2&nbsp;&nbsp;</span>Model Construction</a></span><ul class=\"toc-item\"><li><span><a href=\"#K-Nearest-Neighbors\" data-toc-modified-id=\"K-Nearest-Neighbors-7.2.1\"><span class=\"toc-item-num\">7.2.1&nbsp;&nbsp;</span>K-Nearest Neighbors</a></span></li><li><span><a href=\"#Decision-Tree\" data-toc-modified-id=\"Decision-Tree-7.2.2\"><span class=\"toc-item-num\">7.2.2&nbsp;&nbsp;</span>Decision Tree</a></span></li><li><span><a href=\"#Random-Forest\" data-toc-modified-id=\"Random-Forest-7.2.3\"><span class=\"toc-item-num\">7.2.3&nbsp;&nbsp;</span>Random Forest</a></span></li><li><span><a href=\"#XGBoost\" data-toc-modified-id=\"XGBoost-7.2.4\"><span class=\"toc-item-num\">7.2.4&nbsp;&nbsp;</span>XGBoost</a></span><ul class=\"toc-item\"><li><span><a href=\"#Hyperparameter-Tuning\" data-toc-modified-id=\"Hyperparameter-Tuning-7.2.4.1\"><span class=\"toc-item-num\">7.2.4.1&nbsp;&nbsp;</span>Hyperparameter Tuning</a></span></li><li><span><a href=\"#Visualize-Results:-Feature-Importance-and-sample-tree\" data-toc-modified-id=\"Visualize-Results:-Feature-Importance-and-sample-tree-7.2.4.2\"><span class=\"toc-item-num\">7.2.4.2&nbsp;&nbsp;</span>Visualize Results: Feature Importance and sample tree</a></span></li></ul></li></ul></li><li><span><a href=\"#Model-Comparison\" data-toc-modified-id=\"Model-Comparison-7.3\"><span class=\"toc-item-num\">7.3&nbsp;&nbsp;</span>Model Comparison</a></span></li></ul></li><li><span><a href=\"#Final-Data-Outpuut\" data-toc-modified-id=\"Final-Data-Outpuut-8\"><span class=\"toc-item-num\">8&nbsp;&nbsp;</span>Final Data Outpuut</a></span></li><li><span><a href=\"#Reflection-&amp;-What's-Next\" data-toc-modified-id=\"Reflection-&amp;-What's-Next-9\"><span class=\"toc-item-num\">9&nbsp;&nbsp;</span>Reflection &amp; What's Next</a></span><ul class=\"toc-item\"><li><span><a href=\"#Imbalanced-Issue\" data-toc-modified-id=\"Imbalanced-Issue-9.1\"><span class=\"toc-item-num\">9.1&nbsp;&nbsp;</span>Imbalanced Issue</a></span></li><li><span><a href=\"#Model-Aspect\" data-toc-modified-id=\"Model-Aspect-9.2\"><span class=\"toc-item-num\">9.2&nbsp;&nbsp;</span>Model Aspect</a></span><ul class=\"toc-item\"><li><span><a href=\"#Constructing-Model\" data-toc-modified-id=\"Constructing-Model-9.2.1\"><span class=\"toc-item-num\">9.2.1&nbsp;&nbsp;</span>Constructing Model</a></span></li><li><span><a href=\"#Evaluating-Models\" data-toc-modified-id=\"Evaluating-Models-9.2.2\"><span class=\"toc-item-num\">9.2.2&nbsp;&nbsp;</span>Evaluating Models</a></span></li><li><span><a href=\"#Time-Series-Model\" data-toc-modified-id=\"Time-Series-Model-9.2.3\"><span class=\"toc-item-num\">9.2.3&nbsp;&nbsp;</span>Time Series Model</a></span></li></ul></li><li><span><a href=\"#Data-Source-Aspect\" data-toc-modified-id=\"Data-Source-Aspect-9.3\"><span class=\"toc-item-num\">9.3&nbsp;&nbsp;</span>Data Source Aspect</a></span></li><li><span><a href=\"#Data-Engineer-Aspect\" data-toc-modified-id=\"Data-Engineer-Aspect-9.4\"><span class=\"toc-item-num\">9.4&nbsp;&nbsp;</span>Data Engineer Aspect</a></span></li><li><span><a href=\"#Application-Aspect\" data-toc-modified-id=\"Application-Aspect-9.5\"><span class=\"toc-item-num\">9.5&nbsp;&nbsp;</span>Application Aspect</a></span></li></ul></li></ul></div>"
   ]
  },
  {
   "cell_type": "code",
   "execution_count": 0,
   "metadata": {
    "colab": {},
    "colab_type": "code",
    "id": "7s8nAJQ5d4od"
   },
   "outputs": [],
   "source": [
    "# Google Colab Environment Set up \n",
    "from google.colab import files\n",
    "uploaded = files.upload()"
   ]
  },
  {
   "cell_type": "markdown",
   "metadata": {
    "colab_type": "text",
    "id": "YtH0Q3PQktIZ"
   },
   "source": [
    "# Business Context"
   ]
  },
  {
   "cell_type": "markdown",
   "metadata": {
    "colab_type": "text",
    "id": "qvLpDKkHku0g"
   },
   "source": [
    "## Background\n",
    "\n",
    "There are lots of baseball fans around the world. And players who are talented in this area will be honored as **Hall of Fame**. \n",
    "\n",
    "This is one of most honorable award in baseball area.\n",
    "\n",
    "So if we identify which player is more likely to be selected by Hall of Fame, we might have better investment.\n",
    "\n",
    "- For executives, they can know which players have higher potential\n",
    "- For advertisement companies, they can know which players might bring higher revenue"
   ]
  },
  {
   "cell_type": "markdown",
   "metadata": {
    "colab_type": "text",
    "id": "4sfGhlzak2eS"
   },
   "source": [
    "## Problem & Task\n",
    "\n",
    "For this exercise, I am going to analyze Major League Baseball statistics and come up with an implementation of a classifier that indicates if a player is in the baseball Hall of Fame or not, based on the players history performance."
   ]
  },
  {
   "cell_type": "markdown",
   "metadata": {
    "colab_type": "text",
    "id": "hwyv1rYMdO2K"
   },
   "source": [
    "# Import Required Modules\n",
    "I imported all the modules I used/tested out. Mostly from scikit-learn."
   ]
  },
  {
   "cell_type": "code",
   "execution_count": 2,
   "metadata": {
    "colab": {},
    "colab_type": "code",
    "id": "2HrOoi8kdO2L"
   },
   "outputs": [
    {
     "ename": "ModuleNotFoundError",
     "evalue": "No module named 'xgboost'",
     "output_type": "error",
     "traceback": [
      "\u001b[0;31m---------------------------------------------------------------------------\u001b[0m",
      "\u001b[0;31mModuleNotFoundError\u001b[0m                       Traceback (most recent call last)",
      "\u001b[0;32m<ipython-input-2-ef7550ac5089>\u001b[0m in \u001b[0;36m<module>\u001b[0;34m\u001b[0m\n\u001b[1;32m      4\u001b[0m \u001b[0;32mimport\u001b[0m \u001b[0mmatplotlib\u001b[0m\u001b[0;34m.\u001b[0m\u001b[0mpyplot\u001b[0m \u001b[0;32mas\u001b[0m \u001b[0mplt\u001b[0m\u001b[0;34m\u001b[0m\u001b[0;34m\u001b[0m\u001b[0m\n\u001b[1;32m      5\u001b[0m \u001b[0;34m\u001b[0m\u001b[0m\n\u001b[0;32m----> 6\u001b[0;31m \u001b[0;32mimport\u001b[0m \u001b[0mxgboost\u001b[0m \u001b[0;32mas\u001b[0m \u001b[0mxgb\u001b[0m\u001b[0;34m\u001b[0m\u001b[0;34m\u001b[0m\u001b[0m\n\u001b[0m\u001b[1;32m      7\u001b[0m \u001b[0;32mfrom\u001b[0m \u001b[0msklearn\u001b[0m \u001b[0;32mimport\u001b[0m \u001b[0mpreprocessing\u001b[0m\u001b[0;34m\u001b[0m\u001b[0;34m\u001b[0m\u001b[0m\n\u001b[1;32m      8\u001b[0m \u001b[0;32mfrom\u001b[0m \u001b[0msklearn\u001b[0m\u001b[0;34m.\u001b[0m\u001b[0mfeature_selection\u001b[0m \u001b[0;32mimport\u001b[0m \u001b[0mVarianceThreshold\u001b[0m\u001b[0;34m,\u001b[0m \u001b[0mSelectPercentile\u001b[0m\u001b[0;34m,\u001b[0m \u001b[0mchi2\u001b[0m\u001b[0;34m,\u001b[0m \u001b[0mf_classif\u001b[0m\u001b[0;34m,\u001b[0m \u001b[0mmutual_info_classif\u001b[0m\u001b[0;34m\u001b[0m\u001b[0;34m\u001b[0m\u001b[0m\n",
      "\u001b[0;31mModuleNotFoundError\u001b[0m: No module named 'xgboost'"
     ]
    }
   ],
   "source": [
    "import pandas as pd\n",
    "import numpy as np\n",
    "import seaborn as sns\n",
    "import matplotlib.pyplot as plt\n",
    "\n",
    "import xgboost as xgb\n",
    "from sklearn import preprocessing\n",
    "from sklearn.feature_selection import VarianceThreshold, SelectPercentile, chi2, f_classif, mutual_info_classif\n",
    "\n",
    "from sklearn.tree import DecisionTreeClassifier\n",
    "from sklearn.model_selection import train_test_split, GridSearchCV, StratifiedKFold\n",
    "from sklearn.ensemble import RandomForestClassifier\n",
    "from sklearn.neighbors import KNeighborsClassifier\n",
    "from sklearn.metrics import classification_report, roc_curve, auc, roc_auc_score, accuracy_score, confusion_matrix"
   ]
  },
  {
   "cell_type": "markdown",
   "metadata": {
    "colab_type": "text",
    "id": "uEEYTeFydO2T"
   },
   "source": [
    "# Read in Datasets"
   ]
  },
  {
   "cell_type": "code",
   "execution_count": null,
   "metadata": {
    "colab": {},
    "colab_type": "code",
    "id": "MlHkx0i5ehxQ"
   },
   "outputs": [],
   "source": [
    "# Read in data\n",
    "Master = pd.read_csv('Master.csv')\n",
    "Batting = pd.read_csv('Batting.csv')\n",
    "HallofFame = pd.read_csv('HallOfFame.csv')"
   ]
  },
  {
   "cell_type": "code",
   "execution_count": 0,
   "metadata": {
    "colab": {
     "base_uri": "https://localhost:8080/",
     "height": 204
    },
    "colab_type": "code",
    "executionInfo": {
     "elapsed": 1885,
     "status": "ok",
     "timestamp": 1583684672491,
     "user": {
      "displayName": "Xiangke Chen",
      "photoUrl": "https://lh3.googleusercontent.com/a-/AOh14GhU8b9X1cBQL4I7pL6vh4lO_U7dhCO4vv1mws8RlQ=s64",
      "userId": "04092284610189200730"
     },
     "user_tz": 300
    },
    "id": "alr41l-sdO2Y",
    "outputId": "ec034b66-70b3-4a94-8cbe-6252414271f8"
   },
   "outputs": [
    {
     "data": {
      "text/html": [
       "<div>\n",
       "<style scoped>\n",
       "    .dataframe tbody tr th:only-of-type {\n",
       "        vertical-align: middle;\n",
       "    }\n",
       "\n",
       "    .dataframe tbody tr th {\n",
       "        vertical-align: top;\n",
       "    }\n",
       "\n",
       "    .dataframe thead th {\n",
       "        text-align: right;\n",
       "    }\n",
       "</style>\n",
       "<table border=\"1\" class=\"dataframe\">\n",
       "  <thead>\n",
       "    <tr style=\"text-align: right;\">\n",
       "      <th></th>\n",
       "      <th>playerID</th>\n",
       "      <th>yearID</th>\n",
       "      <th>stint</th>\n",
       "      <th>teamID</th>\n",
       "      <th>lgID</th>\n",
       "      <th>G</th>\n",
       "      <th>AB</th>\n",
       "      <th>R</th>\n",
       "      <th>H</th>\n",
       "      <th>2B</th>\n",
       "      <th>3B</th>\n",
       "      <th>HR</th>\n",
       "      <th>RBI</th>\n",
       "      <th>SB</th>\n",
       "      <th>CS</th>\n",
       "      <th>BB</th>\n",
       "      <th>SO</th>\n",
       "      <th>IBB</th>\n",
       "      <th>HBP</th>\n",
       "      <th>SH</th>\n",
       "      <th>SF</th>\n",
       "      <th>GIDP</th>\n",
       "    </tr>\n",
       "  </thead>\n",
       "  <tbody>\n",
       "    <tr>\n",
       "      <th>0</th>\n",
       "      <td>abercda01</td>\n",
       "      <td>1871</td>\n",
       "      <td>1</td>\n",
       "      <td>TRO</td>\n",
       "      <td>NaN</td>\n",
       "      <td>1</td>\n",
       "      <td>4.0</td>\n",
       "      <td>0.0</td>\n",
       "      <td>0.0</td>\n",
       "      <td>0.0</td>\n",
       "      <td>0.0</td>\n",
       "      <td>0.0</td>\n",
       "      <td>0.0</td>\n",
       "      <td>0.0</td>\n",
       "      <td>0.0</td>\n",
       "      <td>0.0</td>\n",
       "      <td>0.0</td>\n",
       "      <td>NaN</td>\n",
       "      <td>NaN</td>\n",
       "      <td>NaN</td>\n",
       "      <td>NaN</td>\n",
       "      <td>NaN</td>\n",
       "    </tr>\n",
       "    <tr>\n",
       "      <th>1</th>\n",
       "      <td>addybo01</td>\n",
       "      <td>1871</td>\n",
       "      <td>1</td>\n",
       "      <td>RC1</td>\n",
       "      <td>NaN</td>\n",
       "      <td>25</td>\n",
       "      <td>118.0</td>\n",
       "      <td>30.0</td>\n",
       "      <td>32.0</td>\n",
       "      <td>6.0</td>\n",
       "      <td>0.0</td>\n",
       "      <td>0.0</td>\n",
       "      <td>13.0</td>\n",
       "      <td>8.0</td>\n",
       "      <td>1.0</td>\n",
       "      <td>4.0</td>\n",
       "      <td>0.0</td>\n",
       "      <td>NaN</td>\n",
       "      <td>NaN</td>\n",
       "      <td>NaN</td>\n",
       "      <td>NaN</td>\n",
       "      <td>NaN</td>\n",
       "    </tr>\n",
       "    <tr>\n",
       "      <th>2</th>\n",
       "      <td>allisar01</td>\n",
       "      <td>1871</td>\n",
       "      <td>1</td>\n",
       "      <td>CL1</td>\n",
       "      <td>NaN</td>\n",
       "      <td>29</td>\n",
       "      <td>137.0</td>\n",
       "      <td>28.0</td>\n",
       "      <td>40.0</td>\n",
       "      <td>4.0</td>\n",
       "      <td>5.0</td>\n",
       "      <td>0.0</td>\n",
       "      <td>19.0</td>\n",
       "      <td>3.0</td>\n",
       "      <td>1.0</td>\n",
       "      <td>2.0</td>\n",
       "      <td>5.0</td>\n",
       "      <td>NaN</td>\n",
       "      <td>NaN</td>\n",
       "      <td>NaN</td>\n",
       "      <td>NaN</td>\n",
       "      <td>NaN</td>\n",
       "    </tr>\n",
       "    <tr>\n",
       "      <th>3</th>\n",
       "      <td>allisdo01</td>\n",
       "      <td>1871</td>\n",
       "      <td>1</td>\n",
       "      <td>WS3</td>\n",
       "      <td>NaN</td>\n",
       "      <td>27</td>\n",
       "      <td>133.0</td>\n",
       "      <td>28.0</td>\n",
       "      <td>44.0</td>\n",
       "      <td>10.0</td>\n",
       "      <td>2.0</td>\n",
       "      <td>2.0</td>\n",
       "      <td>27.0</td>\n",
       "      <td>1.0</td>\n",
       "      <td>1.0</td>\n",
       "      <td>0.0</td>\n",
       "      <td>2.0</td>\n",
       "      <td>NaN</td>\n",
       "      <td>NaN</td>\n",
       "      <td>NaN</td>\n",
       "      <td>NaN</td>\n",
       "      <td>NaN</td>\n",
       "    </tr>\n",
       "    <tr>\n",
       "      <th>4</th>\n",
       "      <td>ansonca01</td>\n",
       "      <td>1871</td>\n",
       "      <td>1</td>\n",
       "      <td>RC1</td>\n",
       "      <td>NaN</td>\n",
       "      <td>25</td>\n",
       "      <td>120.0</td>\n",
       "      <td>29.0</td>\n",
       "      <td>39.0</td>\n",
       "      <td>11.0</td>\n",
       "      <td>3.0</td>\n",
       "      <td>0.0</td>\n",
       "      <td>16.0</td>\n",
       "      <td>6.0</td>\n",
       "      <td>2.0</td>\n",
       "      <td>2.0</td>\n",
       "      <td>1.0</td>\n",
       "      <td>NaN</td>\n",
       "      <td>NaN</td>\n",
       "      <td>NaN</td>\n",
       "      <td>NaN</td>\n",
       "      <td>NaN</td>\n",
       "    </tr>\n",
       "  </tbody>\n",
       "</table>\n",
       "</div>"
      ],
      "text/plain": [
       "    playerID  yearID  stint teamID lgID   G  ...   SO  IBB  HBP  SH  SF  GIDP\n",
       "0  abercda01    1871      1    TRO  NaN   1  ...  0.0  NaN  NaN NaN NaN   NaN\n",
       "1   addybo01    1871      1    RC1  NaN  25  ...  0.0  NaN  NaN NaN NaN   NaN\n",
       "2  allisar01    1871      1    CL1  NaN  29  ...  5.0  NaN  NaN NaN NaN   NaN\n",
       "3  allisdo01    1871      1    WS3  NaN  27  ...  2.0  NaN  NaN NaN NaN   NaN\n",
       "4  ansonca01    1871      1    RC1  NaN  25  ...  1.0  NaN  NaN NaN NaN   NaN\n",
       "\n",
       "[5 rows x 22 columns]"
      ]
     },
     "execution_count": 5,
     "metadata": {
      "tags": []
     },
     "output_type": "execute_result"
    }
   ],
   "source": [
    "# Preview Batting data\n",
    "Batting.head()"
   ]
  },
  {
   "cell_type": "code",
   "execution_count": 0,
   "metadata": {
    "colab": {
     "base_uri": "https://localhost:8080/",
     "height": 204
    },
    "colab_type": "code",
    "executionInfo": {
     "elapsed": 1871,
     "status": "ok",
     "timestamp": 1583684672491,
     "user": {
      "displayName": "Xiangke Chen",
      "photoUrl": "https://lh3.googleusercontent.com/a-/AOh14GhU8b9X1cBQL4I7pL6vh4lO_U7dhCO4vv1mws8RlQ=s64",
      "userId": "04092284610189200730"
     },
     "user_tz": 300
    },
    "id": "PsYxgJTvdO2e",
    "outputId": "f58fa03b-493c-4d1d-f0b8-637412689960"
   },
   "outputs": [
    {
     "data": {
      "text/html": [
       "<div>\n",
       "<style scoped>\n",
       "    .dataframe tbody tr th:only-of-type {\n",
       "        vertical-align: middle;\n",
       "    }\n",
       "\n",
       "    .dataframe tbody tr th {\n",
       "        vertical-align: top;\n",
       "    }\n",
       "\n",
       "    .dataframe thead th {\n",
       "        text-align: right;\n",
       "    }\n",
       "</style>\n",
       "<table border=\"1\" class=\"dataframe\">\n",
       "  <thead>\n",
       "    <tr style=\"text-align: right;\">\n",
       "      <th></th>\n",
       "      <th>playerID</th>\n",
       "      <th>yearid</th>\n",
       "      <th>votedBy</th>\n",
       "      <th>ballots</th>\n",
       "      <th>needed</th>\n",
       "      <th>votes</th>\n",
       "      <th>inducted</th>\n",
       "      <th>category</th>\n",
       "      <th>needed_note</th>\n",
       "    </tr>\n",
       "  </thead>\n",
       "  <tbody>\n",
       "    <tr>\n",
       "      <th>0</th>\n",
       "      <td>cobbty01</td>\n",
       "      <td>1936</td>\n",
       "      <td>BBWAA</td>\n",
       "      <td>226.0</td>\n",
       "      <td>170.0</td>\n",
       "      <td>222.0</td>\n",
       "      <td>Y</td>\n",
       "      <td>Player</td>\n",
       "      <td>NaN</td>\n",
       "    </tr>\n",
       "    <tr>\n",
       "      <th>1</th>\n",
       "      <td>ruthba01</td>\n",
       "      <td>1936</td>\n",
       "      <td>BBWAA</td>\n",
       "      <td>226.0</td>\n",
       "      <td>170.0</td>\n",
       "      <td>215.0</td>\n",
       "      <td>Y</td>\n",
       "      <td>Player</td>\n",
       "      <td>NaN</td>\n",
       "    </tr>\n",
       "    <tr>\n",
       "      <th>2</th>\n",
       "      <td>wagneho01</td>\n",
       "      <td>1936</td>\n",
       "      <td>BBWAA</td>\n",
       "      <td>226.0</td>\n",
       "      <td>170.0</td>\n",
       "      <td>215.0</td>\n",
       "      <td>Y</td>\n",
       "      <td>Player</td>\n",
       "      <td>NaN</td>\n",
       "    </tr>\n",
       "    <tr>\n",
       "      <th>3</th>\n",
       "      <td>mathech01</td>\n",
       "      <td>1936</td>\n",
       "      <td>BBWAA</td>\n",
       "      <td>226.0</td>\n",
       "      <td>170.0</td>\n",
       "      <td>205.0</td>\n",
       "      <td>Y</td>\n",
       "      <td>Player</td>\n",
       "      <td>NaN</td>\n",
       "    </tr>\n",
       "    <tr>\n",
       "      <th>4</th>\n",
       "      <td>johnswa01</td>\n",
       "      <td>1936</td>\n",
       "      <td>BBWAA</td>\n",
       "      <td>226.0</td>\n",
       "      <td>170.0</td>\n",
       "      <td>189.0</td>\n",
       "      <td>Y</td>\n",
       "      <td>Player</td>\n",
       "      <td>NaN</td>\n",
       "    </tr>\n",
       "  </tbody>\n",
       "</table>\n",
       "</div>"
      ],
      "text/plain": [
       "    playerID  yearid votedBy  ballots  ...  votes  inducted category needed_note\n",
       "0   cobbty01    1936   BBWAA    226.0  ...  222.0         Y   Player         NaN\n",
       "1   ruthba01    1936   BBWAA    226.0  ...  215.0         Y   Player         NaN\n",
       "2  wagneho01    1936   BBWAA    226.0  ...  215.0         Y   Player         NaN\n",
       "3  mathech01    1936   BBWAA    226.0  ...  205.0         Y   Player         NaN\n",
       "4  johnswa01    1936   BBWAA    226.0  ...  189.0         Y   Player         NaN\n",
       "\n",
       "[5 rows x 9 columns]"
      ]
     },
     "execution_count": 6,
     "metadata": {
      "tags": []
     },
     "output_type": "execute_result"
    }
   ],
   "source": [
    "# Preview HallofFame data\n",
    "HallofFame.head()"
   ]
  },
  {
   "cell_type": "code",
   "execution_count": 0,
   "metadata": {
    "colab": {
     "base_uri": "https://localhost:8080/",
     "height": 309
    },
    "colab_type": "code",
    "executionInfo": {
     "elapsed": 1859,
     "status": "ok",
     "timestamp": 1583684672492,
     "user": {
      "displayName": "Xiangke Chen",
      "photoUrl": "https://lh3.googleusercontent.com/a-/AOh14GhU8b9X1cBQL4I7pL6vh4lO_U7dhCO4vv1mws8RlQ=s64",
      "userId": "04092284610189200730"
     },
     "user_tz": 300
    },
    "id": "DDb9GerCdO2i",
    "outputId": "9c309467-2d67-4d34-f88a-284c0a325b24",
    "scrolled": true
   },
   "outputs": [
    {
     "data": {
      "text/html": [
       "<div>\n",
       "<style scoped>\n",
       "    .dataframe tbody tr th:only-of-type {\n",
       "        vertical-align: middle;\n",
       "    }\n",
       "\n",
       "    .dataframe tbody tr th {\n",
       "        vertical-align: top;\n",
       "    }\n",
       "\n",
       "    .dataframe thead th {\n",
       "        text-align: right;\n",
       "    }\n",
       "</style>\n",
       "<table border=\"1\" class=\"dataframe\">\n",
       "  <thead>\n",
       "    <tr style=\"text-align: right;\">\n",
       "      <th></th>\n",
       "      <th>playerID</th>\n",
       "      <th>birthYear</th>\n",
       "      <th>birthMonth</th>\n",
       "      <th>birthDay</th>\n",
       "      <th>birthCountry</th>\n",
       "      <th>birthState</th>\n",
       "      <th>birthCity</th>\n",
       "      <th>deathYear</th>\n",
       "      <th>deathMonth</th>\n",
       "      <th>deathDay</th>\n",
       "      <th>deathCountry</th>\n",
       "      <th>deathState</th>\n",
       "      <th>deathCity</th>\n",
       "      <th>nameFirst</th>\n",
       "      <th>nameLast</th>\n",
       "      <th>nameGiven</th>\n",
       "      <th>weight</th>\n",
       "      <th>height</th>\n",
       "      <th>bats</th>\n",
       "      <th>throws</th>\n",
       "      <th>debut</th>\n",
       "      <th>finalGame</th>\n",
       "      <th>retroID</th>\n",
       "      <th>bbrefID</th>\n",
       "    </tr>\n",
       "  </thead>\n",
       "  <tbody>\n",
       "    <tr>\n",
       "      <th>0</th>\n",
       "      <td>aardsda01</td>\n",
       "      <td>1981.0</td>\n",
       "      <td>12.0</td>\n",
       "      <td>27.0</td>\n",
       "      <td>USA</td>\n",
       "      <td>CO</td>\n",
       "      <td>Denver</td>\n",
       "      <td>NaN</td>\n",
       "      <td>NaN</td>\n",
       "      <td>NaN</td>\n",
       "      <td>NaN</td>\n",
       "      <td>NaN</td>\n",
       "      <td>NaN</td>\n",
       "      <td>David</td>\n",
       "      <td>Aardsma</td>\n",
       "      <td>David Allan</td>\n",
       "      <td>220.0</td>\n",
       "      <td>75.0</td>\n",
       "      <td>R</td>\n",
       "      <td>R</td>\n",
       "      <td>2004-04-06</td>\n",
       "      <td>2015-08-23</td>\n",
       "      <td>aardd001</td>\n",
       "      <td>aardsda01</td>\n",
       "    </tr>\n",
       "    <tr>\n",
       "      <th>1</th>\n",
       "      <td>aaronha01</td>\n",
       "      <td>1934.0</td>\n",
       "      <td>2.0</td>\n",
       "      <td>5.0</td>\n",
       "      <td>USA</td>\n",
       "      <td>AL</td>\n",
       "      <td>Mobile</td>\n",
       "      <td>NaN</td>\n",
       "      <td>NaN</td>\n",
       "      <td>NaN</td>\n",
       "      <td>NaN</td>\n",
       "      <td>NaN</td>\n",
       "      <td>NaN</td>\n",
       "      <td>Hank</td>\n",
       "      <td>Aaron</td>\n",
       "      <td>Henry Louis</td>\n",
       "      <td>180.0</td>\n",
       "      <td>72.0</td>\n",
       "      <td>R</td>\n",
       "      <td>R</td>\n",
       "      <td>1954-04-13</td>\n",
       "      <td>1976-10-03</td>\n",
       "      <td>aaroh101</td>\n",
       "      <td>aaronha01</td>\n",
       "    </tr>\n",
       "    <tr>\n",
       "      <th>2</th>\n",
       "      <td>aaronto01</td>\n",
       "      <td>1939.0</td>\n",
       "      <td>8.0</td>\n",
       "      <td>5.0</td>\n",
       "      <td>USA</td>\n",
       "      <td>AL</td>\n",
       "      <td>Mobile</td>\n",
       "      <td>1984.0</td>\n",
       "      <td>8.0</td>\n",
       "      <td>16.0</td>\n",
       "      <td>USA</td>\n",
       "      <td>GA</td>\n",
       "      <td>Atlanta</td>\n",
       "      <td>Tommie</td>\n",
       "      <td>Aaron</td>\n",
       "      <td>Tommie Lee</td>\n",
       "      <td>190.0</td>\n",
       "      <td>75.0</td>\n",
       "      <td>R</td>\n",
       "      <td>R</td>\n",
       "      <td>1962-04-10</td>\n",
       "      <td>1971-09-26</td>\n",
       "      <td>aarot101</td>\n",
       "      <td>aaronto01</td>\n",
       "    </tr>\n",
       "    <tr>\n",
       "      <th>3</th>\n",
       "      <td>aasedo01</td>\n",
       "      <td>1954.0</td>\n",
       "      <td>9.0</td>\n",
       "      <td>8.0</td>\n",
       "      <td>USA</td>\n",
       "      <td>CA</td>\n",
       "      <td>Orange</td>\n",
       "      <td>NaN</td>\n",
       "      <td>NaN</td>\n",
       "      <td>NaN</td>\n",
       "      <td>NaN</td>\n",
       "      <td>NaN</td>\n",
       "      <td>NaN</td>\n",
       "      <td>Don</td>\n",
       "      <td>Aase</td>\n",
       "      <td>Donald William</td>\n",
       "      <td>190.0</td>\n",
       "      <td>75.0</td>\n",
       "      <td>R</td>\n",
       "      <td>R</td>\n",
       "      <td>1977-07-26</td>\n",
       "      <td>1990-10-03</td>\n",
       "      <td>aased001</td>\n",
       "      <td>aasedo01</td>\n",
       "    </tr>\n",
       "    <tr>\n",
       "      <th>4</th>\n",
       "      <td>abadan01</td>\n",
       "      <td>1972.0</td>\n",
       "      <td>8.0</td>\n",
       "      <td>25.0</td>\n",
       "      <td>USA</td>\n",
       "      <td>FL</td>\n",
       "      <td>Palm Beach</td>\n",
       "      <td>NaN</td>\n",
       "      <td>NaN</td>\n",
       "      <td>NaN</td>\n",
       "      <td>NaN</td>\n",
       "      <td>NaN</td>\n",
       "      <td>NaN</td>\n",
       "      <td>Andy</td>\n",
       "      <td>Abad</td>\n",
       "      <td>Fausto Andres</td>\n",
       "      <td>184.0</td>\n",
       "      <td>73.0</td>\n",
       "      <td>L</td>\n",
       "      <td>L</td>\n",
       "      <td>2001-09-10</td>\n",
       "      <td>2006-04-13</td>\n",
       "      <td>abada001</td>\n",
       "      <td>abadan01</td>\n",
       "    </tr>\n",
       "  </tbody>\n",
       "</table>\n",
       "</div>"
      ],
      "text/plain": [
       "    playerID  birthYear  birthMonth  ...   finalGame   retroID    bbrefID\n",
       "0  aardsda01     1981.0        12.0  ...  2015-08-23  aardd001  aardsda01\n",
       "1  aaronha01     1934.0         2.0  ...  1976-10-03  aaroh101  aaronha01\n",
       "2  aaronto01     1939.0         8.0  ...  1971-09-26  aarot101  aaronto01\n",
       "3   aasedo01     1954.0         9.0  ...  1990-10-03  aased001   aasedo01\n",
       "4   abadan01     1972.0         8.0  ...  2006-04-13  abada001   abadan01\n",
       "\n",
       "[5 rows x 24 columns]"
      ]
     },
     "execution_count": 7,
     "metadata": {
      "tags": []
     },
     "output_type": "execute_result"
    }
   ],
   "source": [
    "# Preview Master data\n",
    "Master.head()"
   ]
  },
  {
   "cell_type": "code",
   "execution_count": 0,
   "metadata": {
    "colab": {
     "base_uri": "https://localhost:8080/",
     "height": 68
    },
    "colab_type": "code",
    "executionInfo": {
     "elapsed": 840,
     "status": "ok",
     "timestamp": 1583684675927,
     "user": {
      "displayName": "Xiangke Chen",
      "photoUrl": "https://lh3.googleusercontent.com/a-/AOh14GhU8b9X1cBQL4I7pL6vh4lO_U7dhCO4vv1mws8RlQ=s64",
      "userId": "04092284610189200730"
     },
     "user_tz": 300
    },
    "id": "Gei8W0tZdO2s",
    "outputId": "60d9cfcf-59e0-4a6d-caaf-605d86d160c8"
   },
   "outputs": [
    {
     "name": "stdout",
     "output_type": "stream",
     "text": [
      "For table Batting, there are 101332 rows and 22 columns.\n",
      "For table Hall Of Fame, there are 4120 rows and 9 columns.\n",
      "For table Master, there are 18846 rows and 24 columns.\n"
     ]
    }
   ],
   "source": [
    "# Count number of rows and columns for all data\n",
    "print('For table Batting, there are {0} rows and {1} columns.'.format(Batting.shape[0],Batting.shape[1]))\n",
    "print('For table Hall Of Fame, there are {0} rows and {1} columns.'.format(HallofFame.shape[0],HallofFame.shape[1]))\n",
    "print('For table Master, there are {0} rows and {1} columns.'.format(Master.shape[0],Master.shape[1]))"
   ]
  },
  {
   "cell_type": "markdown",
   "metadata": {
    "colab_type": "text",
    "id": "u-9y5rmHdO23"
   },
   "source": [
    "# Data Preparation"
   ]
  },
  {
   "cell_type": "markdown",
   "metadata": {
    "colab_type": "text",
    "id": "YgR3Ai-UdO25"
   },
   "source": [
    "## Master Table\n",
    "\n",
    "Master Table contains player names, DOB, and biographical info etc. These information are good indicators of if they are in Hall of Fame of not."
   ]
  },
  {
   "cell_type": "markdown",
   "metadata": {
    "colab_type": "text",
    "id": "nE-2xemfdO27"
   },
   "source": [
    "|Column Name|Explanation|\n",
    "|--|--|\n",
    "|playerID|       A unique code asssigned to each player. The playerID\n",
    "||links the data in this file with records in the other files|\n",
    "|birthYear|      Year player was born|\n",
    "|birthMonth|     Month player was born|\n",
    "|birthDay|       Day player was born\n",
    "|birthCountry|   Country where player was born|\n",
    "|birthState|     State where player was born|\n",
    "|birthCity|      City where player was born|\n",
    "|deathYear|      Year player died|\n",
    "|deathMonth|     Month player died|\n",
    "|deathDay|       Day player died|\n",
    "|deathCountry|   Country where player died|\n",
    "|deathState|     State where player died|\n",
    "|deathCity|      City where player died|\n",
    "|nameFirst|      Player's first name|\n",
    "|nameLast|       Player's last name|\n",
    "|nameGiven|      Player's given name (typically first and middle)|\n",
    "|weight|         Player's weight in pounds|\n",
    "|height|         Player's height in inches|\n",
    "|bats|           Player's batting hand (left, right, or both)         |\n",
    "|throws|         Player's throwing hand (left or right)|\n",
    "|debut|          Date that player made first major league appearance|\n",
    "|finalGame|      Date that player made first major league appearance (blank if still active)|\n",
    "|retroID|        ID used by retrosheet|\n",
    "|bbrefID|        ID used by Baseball Reference website|"
   ]
  },
  {
   "cell_type": "markdown",
   "metadata": {
    "colab_type": "text",
    "id": "hEbe1hTDdO28"
   },
   "source": [
    "There are 18846 rows in total in this table with 18846 unique players. So there are no duplicate records. Each row represent an player's information."
   ]
  },
  {
   "cell_type": "code",
   "execution_count": 0,
   "metadata": {
    "colab": {
     "base_uri": "https://localhost:8080/",
     "height": 34
    },
    "colab_type": "code",
    "executionInfo": {
     "elapsed": 861,
     "status": "ok",
     "timestamp": 1583684677281,
     "user": {
      "displayName": "Xiangke Chen",
      "photoUrl": "https://lh3.googleusercontent.com/a-/AOh14GhU8b9X1cBQL4I7pL6vh4lO_U7dhCO4vv1mws8RlQ=s64",
      "userId": "04092284610189200730"
     },
     "user_tz": 300
    },
    "id": "FT2yGFpedO29",
    "outputId": "dd2ef843-66ec-466f-b647-655788fb045c"
   },
   "outputs": [
    {
     "data": {
      "text/plain": [
       "18846"
      ]
     },
     "execution_count": 9,
     "metadata": {
      "tags": []
     },
     "output_type": "execute_result"
    }
   ],
   "source": [
    "# check how many players are in this table\n",
    "Master.playerID.nunique()"
   ]
  },
  {
   "cell_type": "markdown",
   "metadata": {
    "colab_type": "text",
    "id": "Y5qrGoPNdO3D"
   },
   "source": [
    "### Keep Necessary Columns"
   ]
  },
  {
   "cell_type": "markdown",
   "metadata": {
    "colab_type": "text",
    "id": "F0ToiSsqdO3E"
   },
   "source": [
    "Not all columns are useful for prediction. For example, I only need to know when was the player born so that I could know his age. I don't need the birth month, or where is his birth city etc. \n",
    "\n",
    "To avoid information redundant, I decided to drop some columns based on my understanding. Given more knowledge of the data and the domain knowledge, I could make better decisions. For now, I decided to drop them."
   ]
  },
  {
   "cell_type": "code",
   "execution_count": 0,
   "metadata": {
    "colab": {
     "base_uri": "https://localhost:8080/",
     "height": 204
    },
    "colab_type": "code",
    "executionInfo": {
     "elapsed": 1023,
     "status": "ok",
     "timestamp": 1583684678642,
     "user": {
      "displayName": "Xiangke Chen",
      "photoUrl": "https://lh3.googleusercontent.com/a-/AOh14GhU8b9X1cBQL4I7pL6vh4lO_U7dhCO4vv1mws8RlQ=s64",
      "userId": "04092284610189200730"
     },
     "user_tz": 300
    },
    "id": "sXJHRyANdO3G",
    "outputId": "ccee5f74-1082-4347-da1a-a4f2bb3d0002"
   },
   "outputs": [
    {
     "data": {
      "text/html": [
       "<div>\n",
       "<style scoped>\n",
       "    .dataframe tbody tr th:only-of-type {\n",
       "        vertical-align: middle;\n",
       "    }\n",
       "\n",
       "    .dataframe tbody tr th {\n",
       "        vertical-align: top;\n",
       "    }\n",
       "\n",
       "    .dataframe thead th {\n",
       "        text-align: right;\n",
       "    }\n",
       "</style>\n",
       "<table border=\"1\" class=\"dataframe\">\n",
       "  <thead>\n",
       "    <tr style=\"text-align: right;\">\n",
       "      <th></th>\n",
       "      <th>playerID</th>\n",
       "      <th>birthYear</th>\n",
       "      <th>deathYear</th>\n",
       "      <th>deathMonth</th>\n",
       "      <th>weight</th>\n",
       "      <th>height</th>\n",
       "      <th>bats</th>\n",
       "      <th>throws</th>\n",
       "      <th>debut</th>\n",
       "      <th>finalGame</th>\n",
       "    </tr>\n",
       "  </thead>\n",
       "  <tbody>\n",
       "    <tr>\n",
       "      <th>0</th>\n",
       "      <td>aardsda01</td>\n",
       "      <td>1981.0</td>\n",
       "      <td>NaN</td>\n",
       "      <td>NaN</td>\n",
       "      <td>220.0</td>\n",
       "      <td>75.0</td>\n",
       "      <td>R</td>\n",
       "      <td>R</td>\n",
       "      <td>2004-04-06</td>\n",
       "      <td>2015-08-23</td>\n",
       "    </tr>\n",
       "    <tr>\n",
       "      <th>1</th>\n",
       "      <td>aaronha01</td>\n",
       "      <td>1934.0</td>\n",
       "      <td>NaN</td>\n",
       "      <td>NaN</td>\n",
       "      <td>180.0</td>\n",
       "      <td>72.0</td>\n",
       "      <td>R</td>\n",
       "      <td>R</td>\n",
       "      <td>1954-04-13</td>\n",
       "      <td>1976-10-03</td>\n",
       "    </tr>\n",
       "    <tr>\n",
       "      <th>2</th>\n",
       "      <td>aaronto01</td>\n",
       "      <td>1939.0</td>\n",
       "      <td>1984.0</td>\n",
       "      <td>8.0</td>\n",
       "      <td>190.0</td>\n",
       "      <td>75.0</td>\n",
       "      <td>R</td>\n",
       "      <td>R</td>\n",
       "      <td>1962-04-10</td>\n",
       "      <td>1971-09-26</td>\n",
       "    </tr>\n",
       "    <tr>\n",
       "      <th>3</th>\n",
       "      <td>aasedo01</td>\n",
       "      <td>1954.0</td>\n",
       "      <td>NaN</td>\n",
       "      <td>NaN</td>\n",
       "      <td>190.0</td>\n",
       "      <td>75.0</td>\n",
       "      <td>R</td>\n",
       "      <td>R</td>\n",
       "      <td>1977-07-26</td>\n",
       "      <td>1990-10-03</td>\n",
       "    </tr>\n",
       "    <tr>\n",
       "      <th>4</th>\n",
       "      <td>abadan01</td>\n",
       "      <td>1972.0</td>\n",
       "      <td>NaN</td>\n",
       "      <td>NaN</td>\n",
       "      <td>184.0</td>\n",
       "      <td>73.0</td>\n",
       "      <td>L</td>\n",
       "      <td>L</td>\n",
       "      <td>2001-09-10</td>\n",
       "      <td>2006-04-13</td>\n",
       "    </tr>\n",
       "  </tbody>\n",
       "</table>\n",
       "</div>"
      ],
      "text/plain": [
       "    playerID  birthYear  deathYear  ...  throws       debut   finalGame\n",
       "0  aardsda01     1981.0        NaN  ...       R  2004-04-06  2015-08-23\n",
       "1  aaronha01     1934.0        NaN  ...       R  1954-04-13  1976-10-03\n",
       "2  aaronto01     1939.0     1984.0  ...       R  1962-04-10  1971-09-26\n",
       "3   aasedo01     1954.0        NaN  ...       R  1977-07-26  1990-10-03\n",
       "4   abadan01     1972.0        NaN  ...       L  2001-09-10  2006-04-13\n",
       "\n",
       "[5 rows x 10 columns]"
      ]
     },
     "execution_count": 10,
     "metadata": {
      "tags": []
     },
     "output_type": "execute_result"
    }
   ],
   "source": [
    "# drop columns\n",
    "droplist = ['birthMonth','birthDay', 'birthCountry','birthState', 'birthCity','deathDay','deathCountry',\n",
    "            'deathState', 'deathCity', 'nameFirst', 'nameLast','nameGiven','retroID', 'bbrefID']\n",
    "master_x = Master.drop(droplist,axis = 1).copy()\n",
    "\n",
    "# overview the current data\n",
    "master_x.head()"
   ]
  },
  {
   "cell_type": "markdown",
   "metadata": {
    "colab_type": "text",
    "id": "gLNHLHmFdO3L"
   },
   "source": [
    "### Handle Missing Values\n",
    "I check the data for columns with missing values and decide how to handle them. The data is pretty clean.\n",
    "\n",
    "**Death column**\n",
    "\n",
    "There are lots of missing values in *death* related fields which make sense. Because many players are still alive. For those who are dead, their information are also useful. So the missing values here makes sense. Given more knowledge of the data, I could make better decisions like creating dummy variables.\n",
    "\n",
    "For now, I think these missing values make sense and I would choose to keep them first.\n",
    "\n",
    "**Other columns**\n",
    "\n",
    "For columns like throws, bats, they indicate players' characteristics and I do think they are important. Since there only less than 1% missing, I decided to remove these missing values first. Given more knowledge of the data, I could make better imputation like using predictive modelings or find some third part data to complete the information.\n",
    "\n",
    "For columns like height, weight, same operations: remove just for now."
   ]
  },
  {
   "cell_type": "code",
   "execution_count": 0,
   "metadata": {
    "colab": {
     "base_uri": "https://localhost:8080/",
     "height": 204
    },
    "colab_type": "code",
    "executionInfo": {
     "elapsed": 876,
     "status": "ok",
     "timestamp": 1583684679301,
     "user": {
      "displayName": "Xiangke Chen",
      "photoUrl": "https://lh3.googleusercontent.com/a-/AOh14GhU8b9X1cBQL4I7pL6vh4lO_U7dhCO4vv1mws8RlQ=s64",
      "userId": "04092284610189200730"
     },
     "user_tz": 300
    },
    "id": "cNrh-3lKdO3P",
    "outputId": "e5053627-31ae-43a9-d6ea-27ef6940edca"
   },
   "outputs": [
    {
     "data": {
      "text/plain": [
       "playerID      0.000000\n",
       "birthYear     0.007588\n",
       "deathYear     0.504616\n",
       "deathMonth    0.504669\n",
       "weight        0.046217\n",
       "height        0.042715\n",
       "bats          0.063196\n",
       "throws        0.051894\n",
       "debut         0.010241\n",
       "finalGame     0.010241\n",
       "dtype: float64"
      ]
     },
     "execution_count": 11,
     "metadata": {
      "tags": []
     },
     "output_type": "execute_result"
    }
   ],
   "source": [
    "# Change setting to display all columns and rows\n",
    "pd.set_option(\"display.max_columns\", None)\n",
    "pd.set_option(\"display.max_rows\", None)\n",
    "\n",
    "# check the the missing percentage\n",
    "1 - master_x.count()/len(master_x.index)"
   ]
  },
  {
   "cell_type": "code",
   "execution_count": 0,
   "metadata": {
    "colab": {
     "base_uri": "https://localhost:8080/",
     "height": 204
    },
    "colab_type": "code",
    "executionInfo": {
     "elapsed": 670,
     "status": "ok",
     "timestamp": 1583684679549,
     "user": {
      "displayName": "Xiangke Chen",
      "photoUrl": "https://lh3.googleusercontent.com/a-/AOh14GhU8b9X1cBQL4I7pL6vh4lO_U7dhCO4vv1mws8RlQ=s64",
      "userId": "04092284610189200730"
     },
     "user_tz": 300
    },
    "id": "kU3ABQAJdO3U",
    "outputId": "5ad60366-b6c9-4ed9-e3cd-2fa5e9e6e2d7"
   },
   "outputs": [
    {
     "data": {
      "text/plain": [
       "playerID      0.000000\n",
       "birthYear     0.000000\n",
       "deathYear     0.532386\n",
       "deathMonth    0.532443\n",
       "weight        0.000000\n",
       "height        0.000000\n",
       "bats          0.000000\n",
       "throws        0.000000\n",
       "debut         0.000000\n",
       "finalGame     0.000000\n",
       "dtype: float64"
      ]
     },
     "execution_count": 12,
     "metadata": {
      "tags": []
     },
     "output_type": "execute_result"
    }
   ],
   "source": [
    "# drop empty rows\n",
    "master_x = master_x[(master_x.debut.notnull() & master_x.finalGame.notnull()) & master_x.birthYear.notnull() & \n",
    "                   master_x.throws.notnull() & master_x.bats.notnull()]\n",
    "\n",
    "# impute missing values using median number (height, weight)\n",
    "master_x.weight.fillna((master_x.weight.median()), inplace=True)\n",
    "master_x.height.fillna((master_x.height.median()), inplace=True)\n",
    "\n",
    "# the current missing values percentage after processing\n",
    "1 - master_x.count()/len(master_x.index)"
   ]
  },
  {
   "cell_type": "code",
   "execution_count": 0,
   "metadata": {
    "colab": {
     "base_uri": "https://localhost:8080/",
     "height": 34
    },
    "colab_type": "code",
    "executionInfo": {
     "elapsed": 822,
     "status": "ok",
     "timestamp": 1583684680437,
     "user": {
      "displayName": "Xiangke Chen",
      "photoUrl": "https://lh3.googleusercontent.com/a-/AOh14GhU8b9X1cBQL4I7pL6vh4lO_U7dhCO4vv1mws8RlQ=s64",
      "userId": "04092284610189200730"
     },
     "user_tz": 300
    },
    "id": "sko55ZF-dO3Z",
    "outputId": "0d3ffd40-752b-4d84-930f-fe407633fe2d"
   },
   "outputs": [
    {
     "data": {
      "text/plain": [
       "(17446, 10)"
      ]
     },
     "execution_count": 13,
     "metadata": {
      "tags": []
     },
     "output_type": "execute_result"
    }
   ],
   "source": [
    "# ther are 17446 records remaining\n",
    "master_x.shape"
   ]
  },
  {
   "cell_type": "markdown",
   "metadata": {
    "colab_type": "text",
    "id": "u10bOdtndO3c"
   },
   "source": [
    "### Data Engineering"
   ]
  },
  {
   "cell_type": "markdown",
   "metadata": {
    "colab_type": "text",
    "id": "iwJBzWWXdO3e"
   },
   "source": [
    "I care more about the players' age instead of when he was born. So I am gonna to replace the birth-year column with the age."
   ]
  },
  {
   "cell_type": "markdown",
   "metadata": {
    "colab_type": "text",
    "id": "Pc_zLri7dO3h"
   },
   "source": [
    "If a player dies within the five year span, he is eligible six months after his death provided he meets the above criteria. If an active player dies, he is eligible six months after his death.\n",
    "\n",
    "The age calculation follows the following rules\n",
    "* If the player is still alive (deathYear is null), then I use current year (2015) - birth year\n",
    "* If the player is not alive (deathYear is not null), then I use death year  - birth year"
   ]
  },
  {
   "cell_type": "code",
   "execution_count": 0,
   "metadata": {
    "colab": {},
    "colab_type": "code",
    "id": "sjLn_9nXdO3m"
   },
   "outputs": [],
   "source": [
    "# calculate the age\n",
    "master_x['age'] = np.where(master_x.deathYear.isnull(),master_x.birthYear.apply(lambda x: 2015 - x),master_x.deathYear - master_x.birthYear)"
   ]
  },
  {
   "cell_type": "markdown",
   "metadata": {
    "colab_type": "text",
    "id": "Ihh0rKdzdO3q"
   },
   "source": [
    "**Restriction for Hall of Fame - retire at least 5 years**\n",
    "\n",
    "If the player wants to enter Hall of Fame, one condition is that the player has been retired for at least five seasons. \n",
    "\n",
    "If a player comes back and plays in the major leagues, the clock restarts. The easiest way to figure out the rule is to add six to the last season the player was active. Therefore, players eligible in 2007 played their last game in 2001.\n",
    "\n",
    "So I want to find these inactive players. Only players retired for more than 5 years are qualified to enter Hall of Fame."
   ]
  },
  {
   "cell_type": "code",
   "execution_count": 0,
   "metadata": {
    "colab": {},
    "colab_type": "code",
    "id": "ou85PAJVdO3r",
    "scrolled": true
   },
   "outputs": [],
   "source": [
    "# create a new column indicating the final game year for each player\n",
    "master_x['finalgame_year'] = master_x.finalGame.apply(lambda x: float(str(x)[:4]))\n",
    "\n",
    "# create label indicating the retire years so far\n",
    "master_x['retire'] = master_x.finalgame_year.apply(lambda x: 2015 - int(x))"
   ]
  },
  {
   "cell_type": "markdown",
   "metadata": {
    "colab_type": "text",
    "id": "tJvZ86y_dO3v"
   },
   "source": [
    "Now I have done with this dataset. I am going to select only necessary columns for prediction."
   ]
  },
  {
   "cell_type": "code",
   "execution_count": 0,
   "metadata": {
    "colab": {
     "base_uri": "https://localhost:8080/",
     "height": 34
    },
    "colab_type": "code",
    "executionInfo": {
     "elapsed": 1411,
     "status": "ok",
     "timestamp": 1583684689016,
     "user": {
      "displayName": "Xiangke Chen",
      "photoUrl": "https://lh3.googleusercontent.com/a-/AOh14GhU8b9X1cBQL4I7pL6vh4lO_U7dhCO4vv1mws8RlQ=s64",
      "userId": "04092284610189200730"
     },
     "user_tz": 300
    },
    "id": "8Egt5DW9dO3x",
    "outputId": "b520735d-abb9-4ba0-ea18-8a5c443d6d8e"
   },
   "outputs": [
    {
     "data": {
      "text/plain": [
       "(17446, 9)"
      ]
     },
     "execution_count": 18,
     "metadata": {
      "tags": []
     },
     "output_type": "execute_result"
    }
   ],
   "source": [
    "# 17250 records with 10 features\n",
    "master_final.shape"
   ]
  },
  {
   "cell_type": "code",
   "execution_count": 0,
   "metadata": {
    "colab": {
     "base_uri": "https://localhost:8080/",
     "height": 204
    },
    "colab_type": "code",
    "executionInfo": {
     "elapsed": 921,
     "status": "ok",
     "timestamp": 1583684691467,
     "user": {
      "displayName": "Xiangke Chen",
      "photoUrl": "https://lh3.googleusercontent.com/a-/AOh14GhU8b9X1cBQL4I7pL6vh4lO_U7dhCO4vv1mws8RlQ=s64",
      "userId": "04092284610189200730"
     },
     "user_tz": 300
    },
    "id": "VOPyxQi4dO34",
    "outputId": "70270ef1-cde9-4b24-c0b4-a5be0757d9d5"
   },
   "outputs": [
    {
     "data": {
      "text/html": [
       "<div>\n",
       "<style scoped>\n",
       "    .dataframe tbody tr th:only-of-type {\n",
       "        vertical-align: middle;\n",
       "    }\n",
       "\n",
       "    .dataframe tbody tr th {\n",
       "        vertical-align: top;\n",
       "    }\n",
       "\n",
       "    .dataframe thead th {\n",
       "        text-align: right;\n",
       "    }\n",
       "</style>\n",
       "<table border=\"1\" class=\"dataframe\">\n",
       "  <thead>\n",
       "    <tr style=\"text-align: right;\">\n",
       "      <th></th>\n",
       "      <th>playerID</th>\n",
       "      <th>age</th>\n",
       "      <th>weight</th>\n",
       "      <th>height</th>\n",
       "      <th>bats</th>\n",
       "      <th>throws</th>\n",
       "      <th>debut</th>\n",
       "      <th>finalgame_year</th>\n",
       "      <th>retire</th>\n",
       "    </tr>\n",
       "  </thead>\n",
       "  <tbody>\n",
       "    <tr>\n",
       "      <th>0</th>\n",
       "      <td>aardsda01</td>\n",
       "      <td>34.0</td>\n",
       "      <td>220.0</td>\n",
       "      <td>75.0</td>\n",
       "      <td>R</td>\n",
       "      <td>R</td>\n",
       "      <td>2004-04-06</td>\n",
       "      <td>2015.0</td>\n",
       "      <td>0</td>\n",
       "    </tr>\n",
       "    <tr>\n",
       "      <th>1</th>\n",
       "      <td>aaronha01</td>\n",
       "      <td>81.0</td>\n",
       "      <td>180.0</td>\n",
       "      <td>72.0</td>\n",
       "      <td>R</td>\n",
       "      <td>R</td>\n",
       "      <td>1954-04-13</td>\n",
       "      <td>1976.0</td>\n",
       "      <td>39</td>\n",
       "    </tr>\n",
       "    <tr>\n",
       "      <th>2</th>\n",
       "      <td>aaronto01</td>\n",
       "      <td>45.0</td>\n",
       "      <td>190.0</td>\n",
       "      <td>75.0</td>\n",
       "      <td>R</td>\n",
       "      <td>R</td>\n",
       "      <td>1962-04-10</td>\n",
       "      <td>1971.0</td>\n",
       "      <td>44</td>\n",
       "    </tr>\n",
       "    <tr>\n",
       "      <th>3</th>\n",
       "      <td>aasedo01</td>\n",
       "      <td>61.0</td>\n",
       "      <td>190.0</td>\n",
       "      <td>75.0</td>\n",
       "      <td>R</td>\n",
       "      <td>R</td>\n",
       "      <td>1977-07-26</td>\n",
       "      <td>1990.0</td>\n",
       "      <td>25</td>\n",
       "    </tr>\n",
       "    <tr>\n",
       "      <th>4</th>\n",
       "      <td>abadan01</td>\n",
       "      <td>43.0</td>\n",
       "      <td>184.0</td>\n",
       "      <td>73.0</td>\n",
       "      <td>L</td>\n",
       "      <td>L</td>\n",
       "      <td>2001-09-10</td>\n",
       "      <td>2006.0</td>\n",
       "      <td>9</td>\n",
       "    </tr>\n",
       "  </tbody>\n",
       "</table>\n",
       "</div>"
      ],
      "text/plain": [
       "    playerID   age  weight  height bats throws       debut  finalgame_year  \\\n",
       "0  aardsda01  34.0   220.0    75.0    R      R  2004-04-06          2015.0   \n",
       "1  aaronha01  81.0   180.0    72.0    R      R  1954-04-13          1976.0   \n",
       "2  aaronto01  45.0   190.0    75.0    R      R  1962-04-10          1971.0   \n",
       "3   aasedo01  61.0   190.0    75.0    R      R  1977-07-26          1990.0   \n",
       "4   abadan01  43.0   184.0    73.0    L      L  2001-09-10          2006.0   \n",
       "\n",
       "   retire  \n",
       "0       0  \n",
       "1      39  \n",
       "2      44  \n",
       "3      25  \n",
       "4       9  "
      ]
     },
     "execution_count": 19,
     "metadata": {
      "tags": []
     },
     "output_type": "execute_result"
    }
   ],
   "source": [
    "master_final = master_x[['playerID','age','weight', 'height', 'bats', 'throws', 'debut','finalgame_year','retire']]\n",
    "master_final.head()"
   ]
  },
  {
   "cell_type": "markdown",
   "metadata": {
    "colab_type": "text",
    "id": "tAwiBOtedO3_"
   },
   "source": [
    "## Batting Table"
   ]
  },
  {
   "cell_type": "markdown",
   "metadata": {
    "colab_type": "text",
    "id": "gNGUsp2TdO4b"
   },
   "source": [
    "**Data Description of Batting Table**\n",
    "\n",
    "|Column Name|Explanation|\n",
    "|--|--|\n",
    "|playerID|Player ID code|\n",
    "|yearID|Year|\n",
    "|stint|player's stint (order of appearances within a season)\n",
    "|teamID|Team|\n",
    "|lgID|League|\n",
    "|G|Games|\n",
    "|AB|At Bats|\n",
    "|R|Runs|\n",
    "|H|Hits|\n",
    "|2B|Doubles|\n",
    "|3B|Triples|\n",
    "|HR|Homeruns|\n",
    "|RBI|Runs Batted In|\n",
    "|SB|Stolen Bases|\n",
    "|CS|Caught Stealing|\n",
    "|BB|Base on Balls|\n",
    "|SO|Strikeouts|\n",
    "|IBB|Intentional walks|\n",
    "|HBP|Hit by pitch|\n",
    "|SH|Sacrifice hits|\n",
    "|SF|Sacrifice flies|\n",
    "|GIDP|Grounded into double plays|"
   ]
  },
  {
   "cell_type": "markdown",
   "metadata": {
    "colab_type": "text",
    "id": "4BicjVPwdO4d"
   },
   "source": [
    "This table includes year by year batting statistics for each player. Not all stats are indicators of positive performance."
   ]
  },
  {
   "cell_type": "markdown",
   "metadata": {
    "colab_type": "text",
    "id": "VKj_Bgm0dO4f"
   },
   "source": [
    "### Handle Missing Values\n",
    "\n",
    "The data is pretty clean. The thresholds and choice of imputation in this section are relatively arbitrary due to limited time. Given more knowledge of the data, I could make better imputations such as filling in missing values with the average or mode.\n",
    "\n",
    "**For columns missing more than 20%**\n",
    "\n",
    "I decided to drop them\n",
    "\n",
    "**For columns missing less than 20%**\n",
    "\n",
    "I decided to use median value to impute them."
   ]
  },
  {
   "cell_type": "code",
   "execution_count": 0,
   "metadata": {
    "colab": {
     "base_uri": "https://localhost:8080/",
     "height": 408
    },
    "colab_type": "code",
    "executionInfo": {
     "elapsed": 851,
     "status": "ok",
     "timestamp": 1583684693771,
     "user": {
      "displayName": "Xiangke Chen",
      "photoUrl": "https://lh3.googleusercontent.com/a-/AOh14GhU8b9X1cBQL4I7pL6vh4lO_U7dhCO4vv1mws8RlQ=s64",
      "userId": "04092284610189200730"
     },
     "user_tz": 300
    },
    "id": "zZu2ZHZOdO4g",
    "outputId": "27437f47-450c-48ad-82fa-9c3428b14a8e"
   },
   "outputs": [
    {
     "data": {
      "text/plain": [
       "playerID    0.000000\n",
       "yearID      0.000000\n",
       "stint       0.000000\n",
       "teamID      0.000000\n",
       "lgID        0.007273\n",
       "G           0.000000\n",
       "AB          0.050813\n",
       "R           0.050813\n",
       "H           0.050813\n",
       "2B          0.050813\n",
       "3B          0.050813\n",
       "HR          0.050813\n",
       "RBI         0.054997\n",
       "SB          0.063642\n",
       "CS          0.282270\n",
       "BB          0.050813\n",
       "SO          0.128163\n",
       "IBB         0.411637\n",
       "HBP         0.078544\n",
       "SH          0.113360\n",
       "SF          0.406397\n",
       "GIDP        0.308461\n",
       "dtype: float64"
      ]
     },
     "execution_count": 20,
     "metadata": {
      "tags": []
     },
     "output_type": "execute_result"
    }
   ],
   "source": [
    "# check the the missing percentage\n",
    "1- Batting.count()/len(Batting.index)"
   ]
  },
  {
   "cell_type": "code",
   "execution_count": 0,
   "metadata": {
    "colab": {
     "base_uri": "https://localhost:8080/",
     "height": 340
    },
    "colab_type": "code",
    "executionInfo": {
     "elapsed": 710,
     "status": "ok",
     "timestamp": 1583684694025,
     "user": {
      "displayName": "Xiangke Chen",
      "photoUrl": "https://lh3.googleusercontent.com/a-/AOh14GhU8b9X1cBQL4I7pL6vh4lO_U7dhCO4vv1mws8RlQ=s64",
      "userId": "04092284610189200730"
     },
     "user_tz": 300
    },
    "id": "24eluOsEdO4l",
    "outputId": "ee3c37ba-da06-47d8-9d5e-39752149ac75"
   },
   "outputs": [
    {
     "data": {
      "text/plain": [
       "playerID    0.000000\n",
       "yearID      0.000000\n",
       "stint       0.000000\n",
       "teamID      0.000000\n",
       "lgID        0.007273\n",
       "G           0.000000\n",
       "AB          0.000000\n",
       "R           0.000000\n",
       "H           0.000000\n",
       "2B          0.000000\n",
       "3B          0.000000\n",
       "HR          0.000000\n",
       "RBI         0.000000\n",
       "SB          0.000000\n",
       "BB          0.000000\n",
       "SO          0.000000\n",
       "HBP         0.000000\n",
       "SH          0.000000\n",
       "dtype: float64"
      ]
     },
     "execution_count": 21,
     "metadata": {
      "tags": []
     },
     "output_type": "execute_result"
    }
   ],
   "source": [
    "# remove independent variables with high missingness\n",
    "Batting = Batting.loc[:,Batting.isnull().mean() < 0.2]\n",
    "\n",
    "# impute missing values using median values\n",
    "Batting.fillna((Batting.median()), inplace=True)\n",
    "\n",
    "# the current missing values percentage after processing\n",
    "1 - Batting.count()/len(Batting.index)"
   ]
  },
  {
   "cell_type": "markdown",
   "metadata": {
    "colab_type": "text",
    "id": "_q7zsFINdO4o"
   },
   "source": [
    "### Aggregate to individual level"
   ]
  },
  {
   "cell_type": "markdown",
   "metadata": {
    "colab_type": "text",
    "id": "7soGpH6gdO4p"
   },
   "source": [
    "**Restriction for Hall of Fame - attended at least 10 seasons**\n",
    "\n",
    "The player must have competed in ten seasons. A single game counts as a \"season\" in the eyes of the Hall.\n",
    "\n",
    "So here, in the `Batting` table, I am going to calculate the number of seasons based on how many years a player show up."
   ]
  },
  {
   "cell_type": "code",
   "execution_count": 0,
   "metadata": {
    "colab": {
     "base_uri": "https://localhost:8080/",
     "height": 204
    },
    "colab_type": "code",
    "executionInfo": {
     "elapsed": 925,
     "status": "ok",
     "timestamp": 1583684695977,
     "user": {
      "displayName": "Xiangke Chen",
      "photoUrl": "https://lh3.googleusercontent.com/a-/AOh14GhU8b9X1cBQL4I7pL6vh4lO_U7dhCO4vv1mws8RlQ=s64",
      "userId": "04092284610189200730"
     },
     "user_tz": 300
    },
    "id": "xjqlmXMfdO4q",
    "outputId": "2763ede7-b13d-49cf-a165-778d315415ef"
   },
   "outputs": [
    {
     "data": {
      "text/html": [
       "<div>\n",
       "<style scoped>\n",
       "    .dataframe tbody tr th:only-of-type {\n",
       "        vertical-align: middle;\n",
       "    }\n",
       "\n",
       "    .dataframe tbody tr th {\n",
       "        vertical-align: top;\n",
       "    }\n",
       "\n",
       "    .dataframe thead th {\n",
       "        text-align: right;\n",
       "    }\n",
       "</style>\n",
       "<table border=\"1\" class=\"dataframe\">\n",
       "  <thead>\n",
       "    <tr style=\"text-align: right;\">\n",
       "      <th></th>\n",
       "      <th>playerID</th>\n",
       "      <th>seasons</th>\n",
       "    </tr>\n",
       "  </thead>\n",
       "  <tbody>\n",
       "    <tr>\n",
       "      <th>0</th>\n",
       "      <td>aardsda01</td>\n",
       "      <td>9</td>\n",
       "    </tr>\n",
       "    <tr>\n",
       "      <th>1</th>\n",
       "      <td>aaronha01</td>\n",
       "      <td>23</td>\n",
       "    </tr>\n",
       "    <tr>\n",
       "      <th>2</th>\n",
       "      <td>aaronto01</td>\n",
       "      <td>7</td>\n",
       "    </tr>\n",
       "    <tr>\n",
       "      <th>3</th>\n",
       "      <td>aasedo01</td>\n",
       "      <td>13</td>\n",
       "    </tr>\n",
       "    <tr>\n",
       "      <th>4</th>\n",
       "      <td>abadan01</td>\n",
       "      <td>3</td>\n",
       "    </tr>\n",
       "  </tbody>\n",
       "</table>\n",
       "</div>"
      ],
      "text/plain": [
       "    playerID  seasons\n",
       "0  aardsda01        9\n",
       "1  aaronha01       23\n",
       "2  aaronto01        7\n",
       "3   aasedo01       13\n",
       "4   abadan01        3"
      ]
     },
     "execution_count": 22,
     "metadata": {
      "tags": []
     },
     "output_type": "execute_result"
    }
   ],
   "source": [
    "Batting_season = Batting.groupby(['playerID'],as_index = False)['yearID'].count()\n",
    "Batting_season.columns = ['playerID','seasons']\n",
    "Batting_season.head()"
   ]
  },
  {
   "cell_type": "markdown",
   "metadata": {
    "colab_type": "text",
    "id": "41OHmpLCdO4v"
   },
   "source": [
    "**Aggregation Information**\n",
    "\n",
    "This table contains the history performance for each player. For prediction, since our objective is to predict if a player is in Hall of Fame or not based on history performance, it makes more sense to do aggregation. We can summarize the information by each player."
   ]
  },
  {
   "cell_type": "code",
   "execution_count": 0,
   "metadata": {
    "colab": {},
    "colab_type": "code",
    "id": "KwVe4QzBdO4w"
   },
   "outputs": [],
   "source": [
    "# aggregate data to individual level, performance calculated based on average values\n",
    "Batting_agg = Batting.groupby(['playerID'],as_index = False).mean()\n",
    "\n",
    "# join the season column\n",
    "Batting_agg = pd.merge(Batting_season,Batting_agg,how = 'inner',on = 'playerID')"
   ]
  },
  {
   "cell_type": "markdown",
   "metadata": {
    "colab_type": "text",
    "id": "19X4Y486dO41"
   },
   "source": [
    "After handling the missing values, I only want to keep necessary columns for prediction"
   ]
  },
  {
   "cell_type": "code",
   "execution_count": 0,
   "metadata": {
    "colab": {
     "base_uri": "https://localhost:8080/",
     "height": 204
    },
    "colab_type": "code",
    "executionInfo": {
     "elapsed": 505,
     "status": "ok",
     "timestamp": 1583684698228,
     "user": {
      "displayName": "Xiangke Chen",
      "photoUrl": "https://lh3.googleusercontent.com/a-/AOh14GhU8b9X1cBQL4I7pL6vh4lO_U7dhCO4vv1mws8RlQ=s64",
      "userId": "04092284610189200730"
     },
     "user_tz": 300
    },
    "id": "zM0dl1ivdO43",
    "outputId": "48835b4c-1463-4687-bacc-79c3237cf852"
   },
   "outputs": [
    {
     "data": {
      "text/html": [
       "<div>\n",
       "<style scoped>\n",
       "    .dataframe tbody tr th:only-of-type {\n",
       "        vertical-align: middle;\n",
       "    }\n",
       "\n",
       "    .dataframe tbody tr th {\n",
       "        vertical-align: top;\n",
       "    }\n",
       "\n",
       "    .dataframe thead th {\n",
       "        text-align: right;\n",
       "    }\n",
       "</style>\n",
       "<table border=\"1\" class=\"dataframe\">\n",
       "  <thead>\n",
       "    <tr style=\"text-align: right;\">\n",
       "      <th></th>\n",
       "      <th>playerID</th>\n",
       "      <th>seasons</th>\n",
       "      <th>G</th>\n",
       "      <th>AB</th>\n",
       "      <th>R</th>\n",
       "      <th>H</th>\n",
       "      <th>2B</th>\n",
       "      <th>3B</th>\n",
       "      <th>HR</th>\n",
       "      <th>RBI</th>\n",
       "      <th>SB</th>\n",
       "      <th>BB</th>\n",
       "      <th>SO</th>\n",
       "      <th>HBP</th>\n",
       "      <th>SH</th>\n",
       "    </tr>\n",
       "  </thead>\n",
       "  <tbody>\n",
       "    <tr>\n",
       "      <th>0</th>\n",
       "      <td>aardsda01</td>\n",
       "      <td>9</td>\n",
       "      <td>36.777778</td>\n",
       "      <td>0.444444</td>\n",
       "      <td>0.000000</td>\n",
       "      <td>0.000000</td>\n",
       "      <td>0.000000</td>\n",
       "      <td>0.000000</td>\n",
       "      <td>0.000000</td>\n",
       "      <td>0.000000</td>\n",
       "      <td>0.000000</td>\n",
       "      <td>0.000000</td>\n",
       "      <td>0.222222</td>\n",
       "      <td>0.000000</td>\n",
       "      <td>0.111111</td>\n",
       "    </tr>\n",
       "    <tr>\n",
       "      <th>1</th>\n",
       "      <td>aaronha01</td>\n",
       "      <td>23</td>\n",
       "      <td>143.391304</td>\n",
       "      <td>537.565217</td>\n",
       "      <td>94.521739</td>\n",
       "      <td>163.956522</td>\n",
       "      <td>27.130435</td>\n",
       "      <td>4.260870</td>\n",
       "      <td>32.826087</td>\n",
       "      <td>99.869565</td>\n",
       "      <td>10.434783</td>\n",
       "      <td>60.956522</td>\n",
       "      <td>60.130435</td>\n",
       "      <td>1.391304</td>\n",
       "      <td>0.913043</td>\n",
       "    </tr>\n",
       "    <tr>\n",
       "      <th>2</th>\n",
       "      <td>aaronto01</td>\n",
       "      <td>7</td>\n",
       "      <td>62.428571</td>\n",
       "      <td>134.857143</td>\n",
       "      <td>14.571429</td>\n",
       "      <td>30.857143</td>\n",
       "      <td>6.000000</td>\n",
       "      <td>0.857143</td>\n",
       "      <td>1.857143</td>\n",
       "      <td>13.428571</td>\n",
       "      <td>1.285714</td>\n",
       "      <td>12.285714</td>\n",
       "      <td>20.714286</td>\n",
       "      <td>0.000000</td>\n",
       "      <td>1.285714</td>\n",
       "    </tr>\n",
       "    <tr>\n",
       "      <th>3</th>\n",
       "      <td>aasedo01</td>\n",
       "      <td>13</td>\n",
       "      <td>34.461538</td>\n",
       "      <td>48.615385</td>\n",
       "      <td>4.230769</td>\n",
       "      <td>9.307692</td>\n",
       "      <td>0.846154</td>\n",
       "      <td>0.000000</td>\n",
       "      <td>0.000000</td>\n",
       "      <td>3.384615</td>\n",
       "      <td>0.000000</td>\n",
       "      <td>2.538462</td>\n",
       "      <td>8.692308</td>\n",
       "      <td>0.000000</td>\n",
       "      <td>0.846154</td>\n",
       "    </tr>\n",
       "    <tr>\n",
       "      <th>4</th>\n",
       "      <td>abadan01</td>\n",
       "      <td>3</td>\n",
       "      <td>5.000000</td>\n",
       "      <td>7.000000</td>\n",
       "      <td>0.333333</td>\n",
       "      <td>0.666667</td>\n",
       "      <td>0.000000</td>\n",
       "      <td>0.000000</td>\n",
       "      <td>0.000000</td>\n",
       "      <td>0.000000</td>\n",
       "      <td>0.000000</td>\n",
       "      <td>1.333333</td>\n",
       "      <td>1.666667</td>\n",
       "      <td>0.000000</td>\n",
       "      <td>0.000000</td>\n",
       "    </tr>\n",
       "  </tbody>\n",
       "</table>\n",
       "</div>"
      ],
      "text/plain": [
       "    playerID  seasons           G          AB          R           H  \\\n",
       "0  aardsda01        9   36.777778    0.444444   0.000000    0.000000   \n",
       "1  aaronha01       23  143.391304  537.565217  94.521739  163.956522   \n",
       "2  aaronto01        7   62.428571  134.857143  14.571429   30.857143   \n",
       "3   aasedo01       13   34.461538   48.615385   4.230769    9.307692   \n",
       "4   abadan01        3    5.000000    7.000000   0.333333    0.666667   \n",
       "\n",
       "          2B        3B         HR        RBI         SB         BB         SO  \\\n",
       "0   0.000000  0.000000   0.000000   0.000000   0.000000   0.000000   0.222222   \n",
       "1  27.130435  4.260870  32.826087  99.869565  10.434783  60.956522  60.130435   \n",
       "2   6.000000  0.857143   1.857143  13.428571   1.285714  12.285714  20.714286   \n",
       "3   0.846154  0.000000   0.000000   3.384615   0.000000   2.538462   8.692308   \n",
       "4   0.000000  0.000000   0.000000   0.000000   0.000000   1.333333   1.666667   \n",
       "\n",
       "        HBP        SH  \n",
       "0  0.000000  0.111111  \n",
       "1  1.391304  0.913043  \n",
       "2  0.000000  1.285714  \n",
       "3  0.000000  0.846154  \n",
       "4  0.000000  0.000000  "
      ]
     },
     "execution_count": 24,
     "metadata": {
      "tags": []
     },
     "output_type": "execute_result"
    }
   ],
   "source": [
    "# drop columns\n",
    "droplist = ['yearID','stint']\n",
    "Batting_final = Batting_agg.drop(droplist,axis = 1).copy()\n",
    "\n",
    "# overview the current data\n",
    "Batting_final.head()"
   ]
  },
  {
   "cell_type": "code",
   "execution_count": 0,
   "metadata": {
    "colab": {
     "base_uri": "https://localhost:8080/",
     "height": 34
    },
    "colab_type": "code",
    "executionInfo": {
     "elapsed": 754,
     "status": "ok",
     "timestamp": 1583684699297,
     "user": {
      "displayName": "Xiangke Chen",
      "photoUrl": "https://lh3.googleusercontent.com/a-/AOh14GhU8b9X1cBQL4I7pL6vh4lO_U7dhCO4vv1mws8RlQ=s64",
      "userId": "04092284610189200730"
     },
     "user_tz": 300
    },
    "id": "tNbkt-xSdO49",
    "outputId": "dee0fa55-ceb0-48f3-ca55-ebdfca94a6b7",
    "scrolled": true
   },
   "outputs": [
    {
     "data": {
      "text/plain": [
       "(18659, 15)"
      ]
     },
     "execution_count": 25,
     "metadata": {
      "tags": []
     },
     "output_type": "execute_result"
    }
   ],
   "source": [
    "# final data contasin 18659 rows and 15 features\n",
    "Batting_final.shape"
   ]
  },
  {
   "cell_type": "markdown",
   "metadata": {
    "colab_type": "text",
    "id": "6JVnn_mtdO5C"
   },
   "source": [
    "## Hall of Fame Table"
   ]
  },
  {
   "cell_type": "code",
   "execution_count": 0,
   "metadata": {
    "colab": {
     "base_uri": "https://localhost:8080/",
     "height": 204
    },
    "colab_type": "code",
    "executionInfo": {
     "elapsed": 1212,
     "status": "ok",
     "timestamp": 1583684700185,
     "user": {
      "displayName": "Xiangke Chen",
      "photoUrl": "https://lh3.googleusercontent.com/a-/AOh14GhU8b9X1cBQL4I7pL6vh4lO_U7dhCO4vv1mws8RlQ=s64",
      "userId": "04092284610189200730"
     },
     "user_tz": 300
    },
    "id": "ZmUMwMTsdO5E",
    "outputId": "2949a7d1-8b7e-44fe-e753-b2ebde25c614",
    "scrolled": true
   },
   "outputs": [
    {
     "data": {
      "text/html": [
       "<div>\n",
       "<style scoped>\n",
       "    .dataframe tbody tr th:only-of-type {\n",
       "        vertical-align: middle;\n",
       "    }\n",
       "\n",
       "    .dataframe tbody tr th {\n",
       "        vertical-align: top;\n",
       "    }\n",
       "\n",
       "    .dataframe thead th {\n",
       "        text-align: right;\n",
       "    }\n",
       "</style>\n",
       "<table border=\"1\" class=\"dataframe\">\n",
       "  <thead>\n",
       "    <tr style=\"text-align: right;\">\n",
       "      <th></th>\n",
       "      <th>playerID</th>\n",
       "      <th>yearid</th>\n",
       "      <th>votedBy</th>\n",
       "      <th>ballots</th>\n",
       "      <th>needed</th>\n",
       "      <th>votes</th>\n",
       "      <th>inducted</th>\n",
       "      <th>category</th>\n",
       "      <th>needed_note</th>\n",
       "    </tr>\n",
       "  </thead>\n",
       "  <tbody>\n",
       "    <tr>\n",
       "      <th>0</th>\n",
       "      <td>cobbty01</td>\n",
       "      <td>1936</td>\n",
       "      <td>BBWAA</td>\n",
       "      <td>226.0</td>\n",
       "      <td>170.0</td>\n",
       "      <td>222.0</td>\n",
       "      <td>Y</td>\n",
       "      <td>Player</td>\n",
       "      <td>NaN</td>\n",
       "    </tr>\n",
       "    <tr>\n",
       "      <th>1</th>\n",
       "      <td>ruthba01</td>\n",
       "      <td>1936</td>\n",
       "      <td>BBWAA</td>\n",
       "      <td>226.0</td>\n",
       "      <td>170.0</td>\n",
       "      <td>215.0</td>\n",
       "      <td>Y</td>\n",
       "      <td>Player</td>\n",
       "      <td>NaN</td>\n",
       "    </tr>\n",
       "    <tr>\n",
       "      <th>2</th>\n",
       "      <td>wagneho01</td>\n",
       "      <td>1936</td>\n",
       "      <td>BBWAA</td>\n",
       "      <td>226.0</td>\n",
       "      <td>170.0</td>\n",
       "      <td>215.0</td>\n",
       "      <td>Y</td>\n",
       "      <td>Player</td>\n",
       "      <td>NaN</td>\n",
       "    </tr>\n",
       "    <tr>\n",
       "      <th>3</th>\n",
       "      <td>mathech01</td>\n",
       "      <td>1936</td>\n",
       "      <td>BBWAA</td>\n",
       "      <td>226.0</td>\n",
       "      <td>170.0</td>\n",
       "      <td>205.0</td>\n",
       "      <td>Y</td>\n",
       "      <td>Player</td>\n",
       "      <td>NaN</td>\n",
       "    </tr>\n",
       "    <tr>\n",
       "      <th>4</th>\n",
       "      <td>johnswa01</td>\n",
       "      <td>1936</td>\n",
       "      <td>BBWAA</td>\n",
       "      <td>226.0</td>\n",
       "      <td>170.0</td>\n",
       "      <td>189.0</td>\n",
       "      <td>Y</td>\n",
       "      <td>Player</td>\n",
       "      <td>NaN</td>\n",
       "    </tr>\n",
       "  </tbody>\n",
       "</table>\n",
       "</div>"
      ],
      "text/plain": [
       "    playerID  yearid votedBy  ballots  needed  votes inducted category  \\\n",
       "0   cobbty01    1936   BBWAA    226.0   170.0  222.0        Y   Player   \n",
       "1   ruthba01    1936   BBWAA    226.0   170.0  215.0        Y   Player   \n",
       "2  wagneho01    1936   BBWAA    226.0   170.0  215.0        Y   Player   \n",
       "3  mathech01    1936   BBWAA    226.0   170.0  205.0        Y   Player   \n",
       "4  johnswa01    1936   BBWAA    226.0   170.0  189.0        Y   Player   \n",
       "\n",
       "  needed_note  \n",
       "0         NaN  \n",
       "1         NaN  \n",
       "2         NaN  \n",
       "3         NaN  \n",
       "4         NaN  "
      ]
     },
     "execution_count": 26,
     "metadata": {
      "tags": []
     },
     "output_type": "execute_result"
    }
   ],
   "source": [
    "# overview the data\n",
    "HallofFame.head()"
   ]
  },
  {
   "cell_type": "markdown",
   "metadata": {
    "colab_type": "text",
    "id": "wViwhJmSdO5I"
   },
   "source": [
    "Since I only want to predict players(batters) instead of umpire or others. I keep only players' related records."
   ]
  },
  {
   "cell_type": "markdown",
   "metadata": {
    "colab_type": "text",
    "id": "ZOKUOAMRdO5K"
   },
   "source": [
    "### Handle Missing Values\n",
    "\n",
    "The data is pretty clean. The thresholds and choice of imputation in this section are relatively arbitrary due to limited time. Given more knowledge of the data, I could make better imputations such as filling in missing values with the average or mode.\n",
    "\n",
    "All columns missingness are less than 10% except for `needed_note` column. So I gonna to drop this column and impute missing values using their median values respectively. "
   ]
  },
  {
   "cell_type": "code",
   "execution_count": 0,
   "metadata": {
    "colab": {
     "base_uri": "https://localhost:8080/",
     "height": 170
    },
    "colab_type": "code",
    "executionInfo": {
     "elapsed": 505,
     "status": "ok",
     "timestamp": 1583684700427,
     "user": {
      "displayName": "Xiangke Chen",
      "photoUrl": "https://lh3.googleusercontent.com/a-/AOh14GhU8b9X1cBQL4I7pL6vh4lO_U7dhCO4vv1mws8RlQ=s64",
      "userId": "04092284610189200730"
     },
     "user_tz": 300
    },
    "id": "B4xhfrBPdO5N",
    "outputId": "4a877cb8-e5c6-4950-a7ef-20cb4712fa7f"
   },
   "outputs": [
    {
     "data": {
      "text/plain": [
       "playerID    0.0\n",
       "yearid      0.0\n",
       "votedBy     0.0\n",
       "ballots     0.0\n",
       "needed      0.0\n",
       "votes       0.0\n",
       "inducted    0.0\n",
       "category    0.0\n",
       "dtype: float64"
      ]
     },
     "execution_count": 27,
     "metadata": {
      "tags": []
     },
     "output_type": "execute_result"
    }
   ],
   "source": [
    "# remove independent variables with high missingness\n",
    "HallofFame = HallofFame.loc[:,HallofFame.isnull().mean() < 0.2]\n",
    "\n",
    "# impute missing values using median values\n",
    "HallofFame.fillna((HallofFame.median()), inplace=True)\n",
    "\n",
    "# the current missing values percentage after processing\n",
    "1 - HallofFame.count()/len(HallofFame.index)"
   ]
  },
  {
   "cell_type": "markdown",
   "metadata": {
    "colab_type": "text",
    "id": "a4b9D79CdO5T"
   },
   "source": [
    "### Keep Right Category"
   ]
  },
  {
   "cell_type": "markdown",
   "metadata": {
    "colab_type": "text",
    "id": "67S9glEMdO5X"
   },
   "source": [
    "I can exclude any players whose primary position was pitcher or was an executive or other non-player. So I am going to limit the people whose primary position are \"players\""
   ]
  },
  {
   "cell_type": "code",
   "execution_count": 0,
   "metadata": {
    "colab": {},
    "colab_type": "code",
    "id": "SXJyBM40dO5Y"
   },
   "outputs": [],
   "source": [
    "# only keep players \n",
    "HallofFame = HallofFame[HallofFame.category == 'Player']\n",
    "\n",
    "# only keep people who entered Hall of Fame\n",
    "HallofFame = HallofFame[HallofFame.inducted == 'Y']"
   ]
  },
  {
   "cell_type": "markdown",
   "metadata": {
    "colab_type": "text",
    "id": "GeyOo7kFdO5a"
   },
   "source": [
    "### Keep Necessary Columns"
   ]
  },
  {
   "cell_type": "markdown",
   "metadata": {
    "colab_type": "text",
    "id": "vG5NMS_NdO5e"
   },
   "source": [
    "After handling the missing values, I only want to keep necessary columns for prediction"
   ]
  },
  {
   "cell_type": "code",
   "execution_count": 0,
   "metadata": {
    "colab": {
     "base_uri": "https://localhost:8080/",
     "height": 204
    },
    "colab_type": "code",
    "executionInfo": {
     "elapsed": 867,
     "status": "ok",
     "timestamp": 1583684704738,
     "user": {
      "displayName": "Xiangke Chen",
      "photoUrl": "https://lh3.googleusercontent.com/a-/AOh14GhU8b9X1cBQL4I7pL6vh4lO_U7dhCO4vv1mws8RlQ=s64",
      "userId": "04092284610189200730"
     },
     "user_tz": 300
    },
    "id": "KfrGbXQRdO5g",
    "outputId": "3f951cfc-48da-4908-eace-e5b25643fe2c"
   },
   "outputs": [
    {
     "data": {
      "text/html": [
       "<div>\n",
       "<style scoped>\n",
       "    .dataframe tbody tr th:only-of-type {\n",
       "        vertical-align: middle;\n",
       "    }\n",
       "\n",
       "    .dataframe tbody tr th {\n",
       "        vertical-align: top;\n",
       "    }\n",
       "\n",
       "    .dataframe thead th {\n",
       "        text-align: right;\n",
       "    }\n",
       "</style>\n",
       "<table border=\"1\" class=\"dataframe\">\n",
       "  <thead>\n",
       "    <tr style=\"text-align: right;\">\n",
       "      <th></th>\n",
       "      <th>inducted</th>\n",
       "      <th>playerID</th>\n",
       "    </tr>\n",
       "  </thead>\n",
       "  <tbody>\n",
       "    <tr>\n",
       "      <th>0</th>\n",
       "      <td>Y</td>\n",
       "      <td>cobbty01</td>\n",
       "    </tr>\n",
       "    <tr>\n",
       "      <th>1</th>\n",
       "      <td>Y</td>\n",
       "      <td>ruthba01</td>\n",
       "    </tr>\n",
       "    <tr>\n",
       "      <th>2</th>\n",
       "      <td>Y</td>\n",
       "      <td>wagneho01</td>\n",
       "    </tr>\n",
       "    <tr>\n",
       "      <th>3</th>\n",
       "      <td>Y</td>\n",
       "      <td>mathech01</td>\n",
       "    </tr>\n",
       "    <tr>\n",
       "      <th>4</th>\n",
       "      <td>Y</td>\n",
       "      <td>johnswa01</td>\n",
       "    </tr>\n",
       "  </tbody>\n",
       "</table>\n",
       "</div>"
      ],
      "text/plain": [
       "  inducted   playerID\n",
       "0        Y   cobbty01\n",
       "1        Y   ruthba01\n",
       "2        Y  wagneho01\n",
       "3        Y  mathech01\n",
       "4        Y  johnswa01"
      ]
     },
     "execution_count": 29,
     "metadata": {
      "tags": []
     },
     "output_type": "execute_result"
    }
   ],
   "source": [
    "# select necessary columns and put predict variable in the beginning\n",
    "HallofFame_final = HallofFame[['inducted','playerID']]\n",
    "HallofFame_final.head()"
   ]
  },
  {
   "cell_type": "code",
   "execution_count": 0,
   "metadata": {
    "colab": {
     "base_uri": "https://localhost:8080/",
     "height": 34
    },
    "colab_type": "code",
    "executionInfo": {
     "elapsed": 284,
     "status": "ok",
     "timestamp": 1583684705827,
     "user": {
      "displayName": "Xiangke Chen",
      "photoUrl": "https://lh3.googleusercontent.com/a-/AOh14GhU8b9X1cBQL4I7pL6vh4lO_U7dhCO4vv1mws8RlQ=s64",
      "userId": "04092284610189200730"
     },
     "user_tz": 300
    },
    "id": "mgKr78GpdO5l",
    "outputId": "64afe90d-dec4-4214-ed2d-db0a078e87f6"
   },
   "outputs": [
    {
     "data": {
      "text/plain": [
       "(247, 2)"
      ]
     },
     "execution_count": 30,
     "metadata": {
      "tags": []
     },
     "output_type": "execute_result"
    }
   ],
   "source": [
    "# final data has 247 records and 2 columns\n",
    "HallofFame_final.shape"
   ]
  },
  {
   "cell_type": "markdown",
   "metadata": {
    "colab_type": "text",
    "id": "wWZ1fOZvdO5p"
   },
   "source": [
    "# Final Data Transformation"
   ]
  },
  {
   "cell_type": "markdown",
   "metadata": {
    "colab_type": "text",
    "id": "AfA9fsUFdO5u"
   },
   "source": [
    "* The right join of batting table ensures all the players in the table are batter or at least, were betters."
   ]
  },
  {
   "cell_type": "code",
   "execution_count": 0,
   "metadata": {
    "colab": {
     "base_uri": "https://localhost:8080/",
     "height": 309
    },
    "colab_type": "code",
    "executionInfo": {
     "elapsed": 837,
     "status": "ok",
     "timestamp": 1583684847926,
     "user": {
      "displayName": "Xiangke Chen",
      "photoUrl": "https://lh3.googleusercontent.com/a-/AOh14GhU8b9X1cBQL4I7pL6vh4lO_U7dhCO4vv1mws8RlQ=s64",
      "userId": "04092284610189200730"
     },
     "user_tz": 300
    },
    "id": "o1tUMqODdO5w",
    "outputId": "ec589a8f-4b77-46a4-cea2-3b591ff8dee9"
   },
   "outputs": [
    {
     "data": {
      "text/html": [
       "<div>\n",
       "<style scoped>\n",
       "    .dataframe tbody tr th:only-of-type {\n",
       "        vertical-align: middle;\n",
       "    }\n",
       "\n",
       "    .dataframe tbody tr th {\n",
       "        vertical-align: top;\n",
       "    }\n",
       "\n",
       "    .dataframe thead th {\n",
       "        text-align: right;\n",
       "    }\n",
       "</style>\n",
       "<table border=\"1\" class=\"dataframe\">\n",
       "  <thead>\n",
       "    <tr style=\"text-align: right;\">\n",
       "      <th></th>\n",
       "      <th>inducted</th>\n",
       "      <th>playerID</th>\n",
       "      <th>seasons</th>\n",
       "      <th>G</th>\n",
       "      <th>AB</th>\n",
       "      <th>R</th>\n",
       "      <th>H</th>\n",
       "      <th>2B</th>\n",
       "      <th>3B</th>\n",
       "      <th>HR</th>\n",
       "      <th>RBI</th>\n",
       "      <th>SB</th>\n",
       "      <th>BB</th>\n",
       "      <th>SO</th>\n",
       "      <th>HBP</th>\n",
       "      <th>SH</th>\n",
       "      <th>age</th>\n",
       "      <th>weight</th>\n",
       "      <th>height</th>\n",
       "      <th>bats</th>\n",
       "      <th>throws</th>\n",
       "      <th>debut</th>\n",
       "      <th>finalgame_year</th>\n",
       "      <th>retire</th>\n",
       "    </tr>\n",
       "  </thead>\n",
       "  <tbody>\n",
       "    <tr>\n",
       "      <th>0</th>\n",
       "      <td>Y</td>\n",
       "      <td>cobbty01</td>\n",
       "      <td>24</td>\n",
       "      <td>126.458333</td>\n",
       "      <td>476.416667</td>\n",
       "      <td>93.583333</td>\n",
       "      <td>174.541667</td>\n",
       "      <td>30.166667</td>\n",
       "      <td>12.291667</td>\n",
       "      <td>4.875000</td>\n",
       "      <td>80.708333</td>\n",
       "      <td>37.166667</td>\n",
       "      <td>52.041667</td>\n",
       "      <td>18.208333</td>\n",
       "      <td>3.916667</td>\n",
       "      <td>12.291667</td>\n",
       "      <td>75.0</td>\n",
       "      <td>175.0</td>\n",
       "      <td>73.0</td>\n",
       "      <td>L</td>\n",
       "      <td>R</td>\n",
       "      <td>1905-08-30</td>\n",
       "      <td>1928.0</td>\n",
       "      <td>87</td>\n",
       "    </tr>\n",
       "    <tr>\n",
       "      <th>1</th>\n",
       "      <td>Y</td>\n",
       "      <td>ruthba01</td>\n",
       "      <td>22</td>\n",
       "      <td>113.772727</td>\n",
       "      <td>381.727273</td>\n",
       "      <td>98.818182</td>\n",
       "      <td>130.590909</td>\n",
       "      <td>23.000000</td>\n",
       "      <td>6.181818</td>\n",
       "      <td>32.454545</td>\n",
       "      <td>100.772727</td>\n",
       "      <td>5.590909</td>\n",
       "      <td>93.727273</td>\n",
       "      <td>60.454545</td>\n",
       "      <td>1.954545</td>\n",
       "      <td>5.136364</td>\n",
       "      <td>53.0</td>\n",
       "      <td>215.0</td>\n",
       "      <td>74.0</td>\n",
       "      <td>L</td>\n",
       "      <td>L</td>\n",
       "      <td>1914-07-11</td>\n",
       "      <td>1935.0</td>\n",
       "      <td>80</td>\n",
       "    </tr>\n",
       "    <tr>\n",
       "      <th>2</th>\n",
       "      <td>Y</td>\n",
       "      <td>wagneho01</td>\n",
       "      <td>21</td>\n",
       "      <td>132.952381</td>\n",
       "      <td>496.666667</td>\n",
       "      <td>82.666667</td>\n",
       "      <td>162.619048</td>\n",
       "      <td>30.476190</td>\n",
       "      <td>12.000000</td>\n",
       "      <td>4.809524</td>\n",
       "      <td>82.476190</td>\n",
       "      <td>34.380952</td>\n",
       "      <td>45.857143</td>\n",
       "      <td>21.761905</td>\n",
       "      <td>5.952381</td>\n",
       "      <td>10.523810</td>\n",
       "      <td>81.0</td>\n",
       "      <td>200.0</td>\n",
       "      <td>71.0</td>\n",
       "      <td>R</td>\n",
       "      <td>R</td>\n",
       "      <td>1897-07-19</td>\n",
       "      <td>1917.0</td>\n",
       "      <td>98</td>\n",
       "    </tr>\n",
       "    <tr>\n",
       "      <th>3</th>\n",
       "      <td>Y</td>\n",
       "      <td>mathech01</td>\n",
       "      <td>18</td>\n",
       "      <td>35.888889</td>\n",
       "      <td>93.555556</td>\n",
       "      <td>8.388889</td>\n",
       "      <td>20.111111</td>\n",
       "      <td>2.777778</td>\n",
       "      <td>0.666667</td>\n",
       "      <td>0.388889</td>\n",
       "      <td>9.166667</td>\n",
       "      <td>1.111111</td>\n",
       "      <td>6.444444</td>\n",
       "      <td>9.666667</td>\n",
       "      <td>0.944444</td>\n",
       "      <td>3.833333</td>\n",
       "      <td>45.0</td>\n",
       "      <td>195.0</td>\n",
       "      <td>73.0</td>\n",
       "      <td>R</td>\n",
       "      <td>R</td>\n",
       "      <td>1900-07-17</td>\n",
       "      <td>1916.0</td>\n",
       "      <td>99</td>\n",
       "    </tr>\n",
       "    <tr>\n",
       "      <th>4</th>\n",
       "      <td>Y</td>\n",
       "      <td>johnswa01</td>\n",
       "      <td>21</td>\n",
       "      <td>44.428571</td>\n",
       "      <td>110.666667</td>\n",
       "      <td>11.476190</td>\n",
       "      <td>26.047619</td>\n",
       "      <td>4.476190</td>\n",
       "      <td>1.952381</td>\n",
       "      <td>1.142857</td>\n",
       "      <td>12.142857</td>\n",
       "      <td>0.619048</td>\n",
       "      <td>5.238095</td>\n",
       "      <td>14.809524</td>\n",
       "      <td>0.619048</td>\n",
       "      <td>3.333333</td>\n",
       "      <td>59.0</td>\n",
       "      <td>200.0</td>\n",
       "      <td>73.0</td>\n",
       "      <td>R</td>\n",
       "      <td>R</td>\n",
       "      <td>1907-08-02</td>\n",
       "      <td>1927.0</td>\n",
       "      <td>88</td>\n",
       "    </tr>\n",
       "  </tbody>\n",
       "</table>\n",
       "</div>"
      ],
      "text/plain": [
       "  inducted   playerID  seasons           G          AB          R           H  \\\n",
       "0        Y   cobbty01       24  126.458333  476.416667  93.583333  174.541667   \n",
       "1        Y   ruthba01       22  113.772727  381.727273  98.818182  130.590909   \n",
       "2        Y  wagneho01       21  132.952381  496.666667  82.666667  162.619048   \n",
       "3        Y  mathech01       18   35.888889   93.555556   8.388889   20.111111   \n",
       "4        Y  johnswa01       21   44.428571  110.666667  11.476190   26.047619   \n",
       "\n",
       "          2B         3B         HR         RBI         SB         BB  \\\n",
       "0  30.166667  12.291667   4.875000   80.708333  37.166667  52.041667   \n",
       "1  23.000000   6.181818  32.454545  100.772727   5.590909  93.727273   \n",
       "2  30.476190  12.000000   4.809524   82.476190  34.380952  45.857143   \n",
       "3   2.777778   0.666667   0.388889    9.166667   1.111111   6.444444   \n",
       "4   4.476190   1.952381   1.142857   12.142857   0.619048   5.238095   \n",
       "\n",
       "          SO       HBP         SH   age  weight  height bats throws  \\\n",
       "0  18.208333  3.916667  12.291667  75.0   175.0    73.0    L      R   \n",
       "1  60.454545  1.954545   5.136364  53.0   215.0    74.0    L      L   \n",
       "2  21.761905  5.952381  10.523810  81.0   200.0    71.0    R      R   \n",
       "3   9.666667  0.944444   3.833333  45.0   195.0    73.0    R      R   \n",
       "4  14.809524  0.619048   3.333333  59.0   200.0    73.0    R      R   \n",
       "\n",
       "        debut  finalgame_year  retire  \n",
       "0  1905-08-30          1928.0      87  \n",
       "1  1914-07-11          1935.0      80  \n",
       "2  1897-07-19          1917.0      98  \n",
       "3  1900-07-17          1916.0      99  \n",
       "4  1907-08-02          1927.0      88  "
      ]
     },
     "execution_count": 44,
     "metadata": {
      "tags": []
     },
     "output_type": "execute_result"
    }
   ],
   "source": [
    "# merge table battle and hall of fame\n",
    "full_data = pd.merge(HallofFame_final,Batting_final,how = 'right' , on = 'playerID')\n",
    "\n",
    "# merge the above table and master(individual) table\n",
    "full_data = pd.merge(full_data,master_final, how = 'inner' , on = 'playerID')\n",
    "\n",
    "# overview the data\n",
    "full_data.head()"
   ]
  },
  {
   "cell_type": "markdown",
   "metadata": {
    "colab_type": "text",
    "id": "uS37QBLhdO5z"
   },
   "source": [
    "Since we only merge with people who has been selected by Hall of Fame, most people are not selected. So there are lots of missing values in `inducted` variale.\n",
    "\n",
    "I am going to use `N` to replace `NA` values. All of these people are not selected."
   ]
  },
  {
   "cell_type": "code",
   "execution_count": 0,
   "metadata": {
    "colab": {
     "base_uri": "https://localhost:8080/",
     "height": 442
    },
    "colab_type": "code",
    "executionInfo": {
     "elapsed": 809,
     "status": "ok",
     "timestamp": 1583684847928,
     "user": {
      "displayName": "Xiangke Chen",
      "photoUrl": "https://lh3.googleusercontent.com/a-/AOh14GhU8b9X1cBQL4I7pL6vh4lO_U7dhCO4vv1mws8RlQ=s64",
      "userId": "04092284610189200730"
     },
     "user_tz": 300
    },
    "id": "7Bb-t4hvdO51",
    "outputId": "bbb0c713-6f54-41a6-e24d-593ce30ae3c0"
   },
   "outputs": [
    {
     "data": {
      "text/plain": [
       "inducted          17225\n",
       "playerID              0\n",
       "seasons               0\n",
       "G                     0\n",
       "AB                    0\n",
       "R                     0\n",
       "H                     0\n",
       "2B                    0\n",
       "3B                    0\n",
       "HR                    0\n",
       "RBI                   0\n",
       "SB                    0\n",
       "BB                    0\n",
       "SO                    0\n",
       "HBP                   0\n",
       "SH                    0\n",
       "age                   0\n",
       "weight                0\n",
       "height                0\n",
       "bats                  0\n",
       "throws                0\n",
       "debut                 0\n",
       "finalgame_year        0\n",
       "retire                0\n",
       "dtype: int64"
      ]
     },
     "execution_count": 45,
     "metadata": {
      "tags": []
     },
     "output_type": "execute_result"
    }
   ],
   "source": [
    "# check the missingness\n",
    "full_data.isnull().sum()"
   ]
  },
  {
   "cell_type": "code",
   "execution_count": 0,
   "metadata": {
    "colab": {},
    "colab_type": "code",
    "id": "1MRHOfyHdO56"
   },
   "outputs": [],
   "source": [
    "# replace NA with 'N'\n",
    "full_data.fillna('N',inplace = True)"
   ]
  },
  {
   "cell_type": "markdown",
   "metadata": {
    "colab_type": "text",
    "id": "J6DzmclbyCII"
   },
   "source": [
    "# Exploratory Data Analysis"
   ]
  },
  {
   "cell_type": "markdown",
   "metadata": {
    "colab_type": "text",
    "id": "eIO04-ivzIJg"
   },
   "source": [
    "This is a very **imbalanced data** in terms of target variable and will cause some problem in our feature prediction. With this in mind, let me finish the prediction and discuss more about the consequence of using imbalanced data."
   ]
  },
  {
   "cell_type": "code",
   "execution_count": 0,
   "metadata": {
    "colab": {
     "base_uri": "https://localhost:8080/",
     "height": 351
    },
    "colab_type": "code",
    "executionInfo": {
     "elapsed": 1368,
     "status": "ok",
     "timestamp": 1583684848980,
     "user": {
      "displayName": "Xiangke Chen",
      "photoUrl": "https://lh3.googleusercontent.com/a-/AOh14GhU8b9X1cBQL4I7pL6vh4lO_U7dhCO4vv1mws8RlQ=s64",
      "userId": "04092284610189200730"
     },
     "user_tz": 300
    },
    "id": "Nk2AI6Eey6V1",
    "outputId": "6be2e3ac-1444-4b8b-a3fc-c6700b598689"
   },
   "outputs": [
    {
     "data": {
      "text/plain": [
       "<matplotlib.axes._subplots.AxesSubplot at 0x7f4be498b860>"
      ]
     },
     "execution_count": 47,
     "metadata": {
      "tags": []
     },
     "output_type": "execute_result"
    },
    {
     "data": {
      "image/png": "[encoded data removed]",
      "text/plain": [
       "<Figure size 432x360 with 1 Axes>"
      ]
     },
     "metadata": {
      "tags": []
     },
     "output_type": "display_data"
    }
   ],
   "source": [
    "# check the distribution\n",
    "plt.figure(figsize = (6,5))\n",
    "sns.countplot(full_data.inducted)"
   ]
  },
  {
   "cell_type": "markdown",
   "metadata": {
    "colab_type": "text",
    "id": "4SEK-Xilzaqr"
   },
   "source": [
    "The distribution of `bats` and `throws` are also not very balanced. This make sense since most people are right handed. I am not sure if this will impact our analysis at this point, but I'll do **feature selection** later do see if this feature is important."
   ]
  },
  {
   "cell_type": "code",
   "execution_count": 0,
   "metadata": {
    "colab": {
     "base_uri": "https://localhost:8080/",
     "height": 336
    },
    "colab_type": "code",
    "executionInfo": {
     "elapsed": 1324,
     "status": "ok",
     "timestamp": 1583684849316,
     "user": {
      "displayName": "Xiangke Chen",
      "photoUrl": "https://lh3.googleusercontent.com/a-/AOh14GhU8b9X1cBQL4I7pL6vh4lO_U7dhCO4vv1mws8RlQ=s64",
      "userId": "04092284610189200730"
     },
     "user_tz": 300
    },
    "id": "DLk1SEDozXIh",
    "outputId": "457631b3-89ed-4053-be7b-b9a15872f408"
   },
   "outputs": [
    {
     "data": {
      "image/png": "[encoded data removed]",
      "text/plain": [
       "<Figure size 864x360 with 2 Axes>"
      ]
     },
     "metadata": {
      "tags": []
     },
     "output_type": "display_data"
    }
   ],
   "source": [
    "# check the distribution\n",
    "plt.figure(figsize = (12,5))\n",
    "plt.subplot(1,2,1)\n",
    "sns.countplot(full_data.bats)\n",
    "plt.subplot(1,2,2)\n",
    "sns.countplot(full_data.throws)\n",
    "plt.show()"
   ]
  },
  {
   "cell_type": "markdown",
   "metadata": {
    "colab_type": "text",
    "id": "3WHVkAwa2Aeg"
   },
   "source": [
    "It seems that most players' ages are in reasonable range. \n",
    "\n",
    "However, by looking at the box plot, there are some outliers which might not be reasonsble."
   ]
  },
  {
   "cell_type": "code",
   "execution_count": 0,
   "metadata": {
    "colab": {
     "base_uri": "https://localhost:8080/",
     "height": 350
    },
    "colab_type": "code",
    "executionInfo": {
     "elapsed": 1239,
     "status": "ok",
     "timestamp": 1583684852103,
     "user": {
      "displayName": "Xiangke Chen",
      "photoUrl": "https://lh3.googleusercontent.com/a-/AOh14GhU8b9X1cBQL4I7pL6vh4lO_U7dhCO4vv1mws8RlQ=s64",
      "userId": "04092284610189200730"
     },
     "user_tz": 300
    },
    "id": "ZpieNH-QzOu0",
    "outputId": "1def9329-a246-4adb-d6fd-d5a9ef07cc45"
   },
   "outputs": [
    {
     "data": {
      "image/png": "[encoded data removed]",
      "text/plain": [
       "<Figure size 864x360 with 2 Axes>"
      ]
     },
     "metadata": {
      "tags": []
     },
     "output_type": "display_data"
    }
   ],
   "source": [
    "# age distribution\n",
    "plt.figure(figsize = (12,5))\n",
    "plt.subplot(1,2,1)\n",
    "plt.title('Age Distribution')\n",
    "sns.distplot(full_data.age)\n",
    "plt.subplot(1,2,2)\n",
    "plt.title('Age BoxPLot')\n",
    "sns.boxplot(full_data.age)\n",
    "plt.show()"
   ]
  },
  {
   "cell_type": "markdown",
   "metadata": {
    "colab_type": "text",
    "id": "ZPztpKWy3S6Y"
   },
   "source": [
    "So there are some people aged more than 120 years old which doesn't make sense. I decided to remove them in terms of the data quality.\n",
    "\n",
    "The lowest age here is -19 years old which should be removed"
   ]
  },
  {
   "cell_type": "code",
   "execution_count": 0,
   "metadata": {
    "colab": {
     "base_uri": "https://localhost:8080/",
     "height": 459
    },
    "colab_type": "code",
    "executionInfo": {
     "elapsed": 496,
     "status": "ok",
     "timestamp": 1583684854033,
     "user": {
      "displayName": "Xiangke Chen",
      "photoUrl": "https://lh3.googleusercontent.com/a-/AOh14GhU8b9X1cBQL4I7pL6vh4lO_U7dhCO4vv1mws8RlQ=s64",
      "userId": "04092284610189200730"
     },
     "user_tz": 300
    },
    "id": "UQG9ULLw0ehe",
    "outputId": "2dd39037-ae56-4cd4-eec8-888dc025a50b"
   },
   "outputs": [
    {
     "name": "stdout",
     "output_type": "stream",
     "text": [
      "Max Age\n",
      "---------\n",
      "3736     168.0\n",
      "13102    164.0\n",
      "12768    161.0\n",
      "7981     159.0\n",
      "8358     156.0\n",
      "16803    155.0\n",
      "3954     151.0\n",
      "7367     150.0\n",
      "11875    150.0\n",
      "8556     147.0\n",
      "Name: age, dtype: float64\n",
      "Min Age\n",
      "---------\n",
      "7882    -19.0\n",
      "14651    20.0\n",
      "11901    20.0\n",
      "3729     20.0\n",
      "2740     21.0\n",
      "14225    21.0\n",
      "14307    21.0\n",
      "11703    21.0\n",
      "7046     21.0\n",
      "16717    21.0\n",
      "Name: age, dtype: float64\n"
     ]
    }
   ],
   "source": [
    "print('Max Age')\n",
    "print('---------')\n",
    "print(full_data.age.sort_values(ascending = False)[:10])\n",
    "print('Min Age')\n",
    "print('---------')\n",
    "print(full_data.age.sort_values(ascending = True)[:10])"
   ]
  },
  {
   "cell_type": "code",
   "execution_count": 0,
   "metadata": {
    "colab": {},
    "colab_type": "code",
    "id": "20iPrF8P3l83"
   },
   "outputs": [],
   "source": [
    "# only keep resonable age\n",
    "full_data = full_data[(full_data.age <= 120) & (full_data.age > 15)]"
   ]
  },
  {
   "cell_type": "markdown",
   "metadata": {
    "colab_type": "text",
    "id": "cePz9qPj47Zx"
   },
   "source": [
    "Same situation happens for players' weight and height. It's possible for baseball players that are heavier than others or extreme high. I lack this domain knowledge. Given more time, I could make better decisions.\n",
    "\n",
    "For now, I just use 1.5 quantile to replace those \"outliers\" values."
   ]
  },
  {
   "cell_type": "code",
   "execution_count": 0,
   "metadata": {
    "colab": {
     "base_uri": "https://localhost:8080/",
     "height": 350
    },
    "colab_type": "code",
    "executionInfo": {
     "elapsed": 1287,
     "status": "ok",
     "timestamp": 1583684861443,
     "user": {
      "displayName": "Xiangke Chen",
      "photoUrl": "https://lh3.googleusercontent.com/a-/AOh14GhU8b9X1cBQL4I7pL6vh4lO_U7dhCO4vv1mws8RlQ=s64",
      "userId": "04092284610189200730"
     },
     "user_tz": 300
    },
    "id": "5hPW_FT34aoc",
    "outputId": "35330579-4e9b-4319-f352-cc9ea84291dc"
   },
   "outputs": [
    {
     "data": {
      "image/png": "[encoded data removed]",
      "text/plain": [
       "<Figure size 1440x360 with 4 Axes>"
      ]
     },
     "metadata": {
      "tags": []
     },
     "output_type": "display_data"
    }
   ],
   "source": [
    "# weight distribution\n",
    "plt.figure(figsize = (20,5))\n",
    "plt.subplot(1,4,1)\n",
    "plt.title('weight Distribution')\n",
    "sns.distplot(full_data.weight)\n",
    "plt.subplot(1,4,2)\n",
    "plt.title('weight BoxPLot')\n",
    "sns.boxplot(full_data.weight)\n",
    "plt.subplot(1,4,3)\n",
    "plt.title('height Distribution')\n",
    "sns.distplot(full_data.height)\n",
    "plt.subplot(1,4,4)\n",
    "plt.title('height BoxPLot')\n",
    "sns.boxplot(full_data.height)\n",
    "plt.show()"
   ]
  },
  {
   "cell_type": "code",
   "execution_count": 0,
   "metadata": {
    "colab": {},
    "colab_type": "code",
    "id": "Kv7LVMqz5ecH"
   },
   "outputs": [],
   "source": [
    "# create a function to remove outlier based on quantile\n",
    "def remove_outlier(column_name,low,high):\n",
    "  q1, q3= np.percentile(full_data[column_name],[low,high])\n",
    "  iqr = q3 - q1\n",
    "  lower_bound = q1 -(1.5 * iqr) \n",
    "  upper_bound = q3 +(1.5 * iqr)\n",
    "  full_data.loc[full_data[column_name] > upper_bound ,column_name] = upper_bound\n",
    "  full_data.loc[full_data[column_name] < lower_bound ,column_name] = lower_bound"
   ]
  },
  {
   "cell_type": "code",
   "execution_count": 0,
   "metadata": {
    "colab": {},
    "colab_type": "code",
    "id": "HSAKaa_j-puU"
   },
   "outputs": [],
   "source": [
    "# remove outliers in weight column\n",
    "remove_outlier('weight',25,75)\n",
    "\n",
    "# remove outliers in height column\n",
    "remove_outlier('height',25,75)"
   ]
  },
  {
   "cell_type": "markdown",
   "metadata": {
    "colab_type": "text",
    "id": "cLdABSAS828A"
   },
   "source": [
    "# Predictive Modeling"
   ]
  },
  {
   "cell_type": "markdown",
   "metadata": {
    "colab_type": "text",
    "id": "EKeRk5fj828A"
   },
   "source": [
    "## Data Engineering"
   ]
  },
  {
   "cell_type": "markdown",
   "metadata": {
    "colab_type": "text",
    "id": "4WgSNAgndO6s"
   },
   "source": [
    "### Feature Sepcification"
   ]
  },
  {
   "cell_type": "markdown",
   "metadata": {
    "colab_type": "text",
    "id": "D-4nHbmzdO6Q"
   },
   "source": [
    "A player is eligible for election to the Baseball Hall of Fame if satisfies the following criteria:\n",
    "\n",
    "* The player must have competed in ten seasons. A single game counts as a \"season\" in the eyes of the Hall.\n",
    "* The player has been retired for at least five seasons. If a player comes back and plays in the major leagues, the clock restarts. The easiest way to figure out the rule is to add six to the last season the player was active. Therefore, players eligible in 2007 played their last game in 2001.\n",
    "* A screening committee must approve the player's worthiness. Most players are given a token appearance on the ballot if they meet the ten year rule and they were a regular player for most of that time.\n",
    "* The player may not be on the ineligible list (banned from baseball).\n",
    "* If a player dies within the five year span, he is eligible six months after his death provided he meets the above criteria. If an active player dies, he is eligible six months after his death.\n",
    "* To remain on the ballot, the player must receive at least five percent of the votes for any given year. If a player fails to receive 5%. He falls off the ballot until 16 years after his retirement (see below).\n",
    "* A player is considered elected if he receives at least 75% of all ballots cast in an election.\n",
    "\n",
    "[Reference link](https://www.baseball-reference.com/bullpen/Hall_of_Fame)"
   ]
  },
  {
   "cell_type": "markdown",
   "metadata": {
    "colab_type": "text",
    "id": "TgE0V2M1dO6T"
   },
   "source": [
    "So I need to create a feature which indicates if this player is qualified for selection or not.\n",
    "\n",
    "* I don't or I can't include the vote information because if we know how many votes will they receive, the prediction becomes meaningless and highly rely on this feature\n",
    "* I don't include the death feature since this is an extreme case and less people have this situation. For the sake of time, I save this operation for next step and will finish it later."
   ]
  },
  {
   "cell_type": "code",
   "execution_count": 0,
   "metadata": {
    "colab": {},
    "colab_type": "code",
    "id": "IrwVlYk1dO6U"
   },
   "outputs": [],
   "source": [
    "full_data['qualification'] = False # set all players' qualifaction as False\n",
    "full_data.loc[((full_data['retire'] >= 5) & (full_data['seasons'] >= 10)),'qualification'] = True"
   ]
  },
  {
   "cell_type": "markdown",
   "metadata": {
    "colab_type": "text",
    "id": "5ncjFrPFdO6a"
   },
   "source": [
    "Still imbalanced but this time, this feature is used for filtering. "
   ]
  },
  {
   "cell_type": "code",
   "execution_count": 0,
   "metadata": {
    "colab": {
     "base_uri": "https://localhost:8080/",
     "height": 351
    },
    "colab_type": "code",
    "executionInfo": {
     "elapsed": 1136,
     "status": "ok",
     "timestamp": 1583685068743,
     "user": {
      "displayName": "Xiangke Chen",
      "photoUrl": "https://lh3.googleusercontent.com/a-/AOh14GhU8b9X1cBQL4I7pL6vh4lO_U7dhCO4vv1mws8RlQ=s64",
      "userId": "04092284610189200730"
     },
     "user_tz": 300
    },
    "id": "qO3M4wuNdO6b",
    "outputId": "073df1b2-076d-42c3-cac0-1522d86420d4"
   },
   "outputs": [
    {
     "data": {
      "text/plain": [
       "<matplotlib.axes._subplots.AxesSubplot at 0x7f4be4648160>"
      ]
     },
     "execution_count": 62,
     "metadata": {
      "tags": []
     },
     "output_type": "execute_result"
    },
    {
     "data": {
      "image/png": "[encoded data removed]",
      "text/plain": [
       "<Figure size 432x360 with 1 Axes>"
      ]
     },
     "metadata": {
      "tags": []
     },
     "output_type": "display_data"
    }
   ],
   "source": [
    "# check the distribution\n",
    "plt.figure(figsize = (6,5))\n",
    "sns.countplot(full_data.qualification)"
   ]
  },
  {
   "cell_type": "markdown",
   "metadata": {
    "colab_type": "text",
    "id": "og8fVpeDdO6o"
   },
   "source": [
    "* The `qualification` column already contains the retire information and it is generated from the combination of `final game year`, `retire`, `season`. So we don't these three columns anymore"
   ]
  },
  {
   "cell_type": "code",
   "execution_count": 0,
   "metadata": {
    "colab": {
     "base_uri": "https://localhost:8080/",
     "height": 224
    },
    "colab_type": "code",
    "executionInfo": {
     "elapsed": 1150,
     "status": "ok",
     "timestamp": 1583685070703,
     "user": {
      "displayName": "Xiangke Chen",
      "photoUrl": "https://lh3.googleusercontent.com/a-/AOh14GhU8b9X1cBQL4I7pL6vh4lO_U7dhCO4vv1mws8RlQ=s64",
      "userId": "04092284610189200730"
     },
     "user_tz": 300
    },
    "id": "Dey7N4hRdO6q",
    "outputId": "4b8cb5e8-6eb8-4e1a-8b2b-d5f55d88308b"
   },
   "outputs": [
    {
     "data": {
      "text/html": [
       "<div>\n",
       "<style scoped>\n",
       "    .dataframe tbody tr th:only-of-type {\n",
       "        vertical-align: middle;\n",
       "    }\n",
       "\n",
       "    .dataframe tbody tr th {\n",
       "        vertical-align: top;\n",
       "    }\n",
       "\n",
       "    .dataframe thead th {\n",
       "        text-align: right;\n",
       "    }\n",
       "</style>\n",
       "<table border=\"1\" class=\"dataframe\">\n",
       "  <thead>\n",
       "    <tr style=\"text-align: right;\">\n",
       "      <th></th>\n",
       "      <th>inducted</th>\n",
       "      <th>playerID</th>\n",
       "      <th>G</th>\n",
       "      <th>AB</th>\n",
       "      <th>R</th>\n",
       "      <th>H</th>\n",
       "      <th>2B</th>\n",
       "      <th>3B</th>\n",
       "      <th>HR</th>\n",
       "      <th>RBI</th>\n",
       "      <th>SB</th>\n",
       "      <th>BB</th>\n",
       "      <th>SO</th>\n",
       "      <th>HBP</th>\n",
       "      <th>SH</th>\n",
       "      <th>age</th>\n",
       "      <th>weight</th>\n",
       "      <th>height</th>\n",
       "      <th>bats</th>\n",
       "      <th>throws</th>\n",
       "    </tr>\n",
       "  </thead>\n",
       "  <tbody>\n",
       "    <tr>\n",
       "      <th>0</th>\n",
       "      <td>Y</td>\n",
       "      <td>cobbty01</td>\n",
       "      <td>126.458333</td>\n",
       "      <td>476.416667</td>\n",
       "      <td>93.583333</td>\n",
       "      <td>174.541667</td>\n",
       "      <td>30.166667</td>\n",
       "      <td>12.291667</td>\n",
       "      <td>4.875000</td>\n",
       "      <td>80.708333</td>\n",
       "      <td>37.166667</td>\n",
       "      <td>52.041667</td>\n",
       "      <td>18.208333</td>\n",
       "      <td>3.916667</td>\n",
       "      <td>12.291667</td>\n",
       "      <td>75.0</td>\n",
       "      <td>175.0</td>\n",
       "      <td>73.0</td>\n",
       "      <td>L</td>\n",
       "      <td>R</td>\n",
       "    </tr>\n",
       "    <tr>\n",
       "      <th>1</th>\n",
       "      <td>Y</td>\n",
       "      <td>ruthba01</td>\n",
       "      <td>113.772727</td>\n",
       "      <td>381.727273</td>\n",
       "      <td>98.818182</td>\n",
       "      <td>130.590909</td>\n",
       "      <td>23.000000</td>\n",
       "      <td>6.181818</td>\n",
       "      <td>32.454545</td>\n",
       "      <td>100.772727</td>\n",
       "      <td>5.590909</td>\n",
       "      <td>93.727273</td>\n",
       "      <td>60.454545</td>\n",
       "      <td>1.954545</td>\n",
       "      <td>5.136364</td>\n",
       "      <td>53.0</td>\n",
       "      <td>215.0</td>\n",
       "      <td>74.0</td>\n",
       "      <td>L</td>\n",
       "      <td>L</td>\n",
       "    </tr>\n",
       "    <tr>\n",
       "      <th>2</th>\n",
       "      <td>Y</td>\n",
       "      <td>wagneho01</td>\n",
       "      <td>132.952381</td>\n",
       "      <td>496.666667</td>\n",
       "      <td>82.666667</td>\n",
       "      <td>162.619048</td>\n",
       "      <td>30.476190</td>\n",
       "      <td>12.000000</td>\n",
       "      <td>4.809524</td>\n",
       "      <td>82.476190</td>\n",
       "      <td>34.380952</td>\n",
       "      <td>45.857143</td>\n",
       "      <td>21.761905</td>\n",
       "      <td>5.952381</td>\n",
       "      <td>10.523810</td>\n",
       "      <td>81.0</td>\n",
       "      <td>200.0</td>\n",
       "      <td>71.0</td>\n",
       "      <td>R</td>\n",
       "      <td>R</td>\n",
       "    </tr>\n",
       "    <tr>\n",
       "      <th>3</th>\n",
       "      <td>Y</td>\n",
       "      <td>mathech01</td>\n",
       "      <td>35.888889</td>\n",
       "      <td>93.555556</td>\n",
       "      <td>8.388889</td>\n",
       "      <td>20.111111</td>\n",
       "      <td>2.777778</td>\n",
       "      <td>0.666667</td>\n",
       "      <td>0.388889</td>\n",
       "      <td>9.166667</td>\n",
       "      <td>1.111111</td>\n",
       "      <td>6.444444</td>\n",
       "      <td>9.666667</td>\n",
       "      <td>0.944444</td>\n",
       "      <td>3.833333</td>\n",
       "      <td>45.0</td>\n",
       "      <td>195.0</td>\n",
       "      <td>73.0</td>\n",
       "      <td>R</td>\n",
       "      <td>R</td>\n",
       "    </tr>\n",
       "    <tr>\n",
       "      <th>4</th>\n",
       "      <td>Y</td>\n",
       "      <td>johnswa01</td>\n",
       "      <td>44.428571</td>\n",
       "      <td>110.666667</td>\n",
       "      <td>11.476190</td>\n",
       "      <td>26.047619</td>\n",
       "      <td>4.476190</td>\n",
       "      <td>1.952381</td>\n",
       "      <td>1.142857</td>\n",
       "      <td>12.142857</td>\n",
       "      <td>0.619048</td>\n",
       "      <td>5.238095</td>\n",
       "      <td>14.809524</td>\n",
       "      <td>0.619048</td>\n",
       "      <td>3.333333</td>\n",
       "      <td>59.0</td>\n",
       "      <td>200.0</td>\n",
       "      <td>73.0</td>\n",
       "      <td>R</td>\n",
       "      <td>R</td>\n",
       "    </tr>\n",
       "  </tbody>\n",
       "</table>\n",
       "</div>"
      ],
      "text/plain": [
       "  inducted   playerID           G          AB          R           H  \\\n",
       "0        Y   cobbty01  126.458333  476.416667  93.583333  174.541667   \n",
       "1        Y   ruthba01  113.772727  381.727273  98.818182  130.590909   \n",
       "2        Y  wagneho01  132.952381  496.666667  82.666667  162.619048   \n",
       "3        Y  mathech01   35.888889   93.555556   8.388889   20.111111   \n",
       "4        Y  johnswa01   44.428571  110.666667  11.476190   26.047619   \n",
       "\n",
       "          2B         3B         HR         RBI         SB         BB  \\\n",
       "0  30.166667  12.291667   4.875000   80.708333  37.166667  52.041667   \n",
       "1  23.000000   6.181818  32.454545  100.772727   5.590909  93.727273   \n",
       "2  30.476190  12.000000   4.809524   82.476190  34.380952  45.857143   \n",
       "3   2.777778   0.666667   0.388889    9.166667   1.111111   6.444444   \n",
       "4   4.476190   1.952381   1.142857   12.142857   0.619048   5.238095   \n",
       "\n",
       "          SO       HBP         SH   age  weight  height bats throws  \n",
       "0  18.208333  3.916667  12.291667  75.0   175.0    73.0    L      R  \n",
       "1  60.454545  1.954545   5.136364  53.0   215.0    74.0    L      L  \n",
       "2  21.761905  5.952381  10.523810  81.0   200.0    71.0    R      R  \n",
       "3   9.666667  0.944444   3.833333  45.0   195.0    73.0    R      R  \n",
       "4  14.809524  0.619048   3.333333  59.0   200.0    73.0    R      R  "
      ]
     },
     "execution_count": 63,
     "metadata": {
      "tags": []
     },
     "output_type": "execute_result"
    }
   ],
   "source": [
    "# select qualifed players\n",
    "full_data = full_data[full_data.qualification == True]\n",
    "\n",
    "# select necessary columns\n",
    "droplist = ['seasons','debut','finalgame_year','retire','qualification']\n",
    "final = full_data.drop(droplist, axis = 1)\n",
    "\n",
    "# overview the data\n",
    "final.head()"
   ]
  },
  {
   "cell_type": "markdown",
   "metadata": {
    "colab_type": "text",
    "id": "Sb_M8DdpdO6s"
   },
   "source": [
    "I could see from the preview that there are categorical variables which seem like they might be important, so I chose to convert them to numeric using one-hot encoding so they would be more useful in the modelling stage."
   ]
  },
  {
   "cell_type": "code",
   "execution_count": 0,
   "metadata": {
    "colab": {},
    "colab_type": "code",
    "id": "Hmgf950cdO6v"
   },
   "outputs": [],
   "source": [
    "# explicit show the target variable\n",
    "final.rename(columns = {'inducted':'TARGET'}, inplace = True)\n",
    "\n",
    "# Specify playerID\n",
    "id_var = 'playerID'\n",
    "\n",
    "# use numeric value to show the target variable\n",
    "final.TARGET = np.where(final.TARGET == 'Y', 1, 0)\n",
    "\n",
    "# retrieve all categorical variables from data\n",
    "cat_cols = ['bats','throws']\n",
    "\n",
    "# Encode categorical features into dataframe\n",
    "x = pd.get_dummies(final, columns = cat_cols)\n",
    "\n",
    "# Drop dependent variable to create dataframe with independent variables only\n",
    "x = x.drop([id_var,'TARGET'],axis = 1)\n",
    "\n",
    "# create dataframe with dependent variable\n",
    "y = final['TARGET']"
   ]
  },
  {
   "cell_type": "code",
   "execution_count": 0,
   "metadata": {
    "colab": {
     "base_uri": "https://localhost:8080/",
     "height": 224
    },
    "colab_type": "code",
    "executionInfo": {
     "elapsed": 366,
     "status": "ok",
     "timestamp": 1583685072193,
     "user": {
      "displayName": "Xiangke Chen",
      "photoUrl": "https://lh3.googleusercontent.com/a-/AOh14GhU8b9X1cBQL4I7pL6vh4lO_U7dhCO4vv1mws8RlQ=s64",
      "userId": "04092284610189200730"
     },
     "user_tz": 300
    },
    "id": "KkUy94wwdO61",
    "outputId": "62fc874f-a5a6-4c5f-fd6b-eb207af17367"
   },
   "outputs": [
    {
     "data": {
      "text/html": [
       "<div>\n",
       "<style scoped>\n",
       "    .dataframe tbody tr th:only-of-type {\n",
       "        vertical-align: middle;\n",
       "    }\n",
       "\n",
       "    .dataframe tbody tr th {\n",
       "        vertical-align: top;\n",
       "    }\n",
       "\n",
       "    .dataframe thead th {\n",
       "        text-align: right;\n",
       "    }\n",
       "</style>\n",
       "<table border=\"1\" class=\"dataframe\">\n",
       "  <thead>\n",
       "    <tr style=\"text-align: right;\">\n",
       "      <th></th>\n",
       "      <th>G</th>\n",
       "      <th>AB</th>\n",
       "      <th>R</th>\n",
       "      <th>H</th>\n",
       "      <th>2B</th>\n",
       "      <th>3B</th>\n",
       "      <th>HR</th>\n",
       "      <th>RBI</th>\n",
       "      <th>SB</th>\n",
       "      <th>BB</th>\n",
       "      <th>SO</th>\n",
       "      <th>HBP</th>\n",
       "      <th>SH</th>\n",
       "      <th>age</th>\n",
       "      <th>weight</th>\n",
       "      <th>height</th>\n",
       "      <th>bats_B</th>\n",
       "      <th>bats_L</th>\n",
       "      <th>bats_R</th>\n",
       "      <th>throws_L</th>\n",
       "      <th>throws_R</th>\n",
       "    </tr>\n",
       "  </thead>\n",
       "  <tbody>\n",
       "    <tr>\n",
       "      <th>0</th>\n",
       "      <td>126.458333</td>\n",
       "      <td>476.416667</td>\n",
       "      <td>93.583333</td>\n",
       "      <td>174.541667</td>\n",
       "      <td>30.166667</td>\n",
       "      <td>12.291667</td>\n",
       "      <td>4.875000</td>\n",
       "      <td>80.708333</td>\n",
       "      <td>37.166667</td>\n",
       "      <td>52.041667</td>\n",
       "      <td>18.208333</td>\n",
       "      <td>3.916667</td>\n",
       "      <td>12.291667</td>\n",
       "      <td>75.0</td>\n",
       "      <td>175.0</td>\n",
       "      <td>73.0</td>\n",
       "      <td>0</td>\n",
       "      <td>1</td>\n",
       "      <td>0</td>\n",
       "      <td>0</td>\n",
       "      <td>1</td>\n",
       "    </tr>\n",
       "    <tr>\n",
       "      <th>1</th>\n",
       "      <td>113.772727</td>\n",
       "      <td>381.727273</td>\n",
       "      <td>98.818182</td>\n",
       "      <td>130.590909</td>\n",
       "      <td>23.000000</td>\n",
       "      <td>6.181818</td>\n",
       "      <td>32.454545</td>\n",
       "      <td>100.772727</td>\n",
       "      <td>5.590909</td>\n",
       "      <td>93.727273</td>\n",
       "      <td>60.454545</td>\n",
       "      <td>1.954545</td>\n",
       "      <td>5.136364</td>\n",
       "      <td>53.0</td>\n",
       "      <td>215.0</td>\n",
       "      <td>74.0</td>\n",
       "      <td>0</td>\n",
       "      <td>1</td>\n",
       "      <td>0</td>\n",
       "      <td>1</td>\n",
       "      <td>0</td>\n",
       "    </tr>\n",
       "    <tr>\n",
       "      <th>2</th>\n",
       "      <td>132.952381</td>\n",
       "      <td>496.666667</td>\n",
       "      <td>82.666667</td>\n",
       "      <td>162.619048</td>\n",
       "      <td>30.476190</td>\n",
       "      <td>12.000000</td>\n",
       "      <td>4.809524</td>\n",
       "      <td>82.476190</td>\n",
       "      <td>34.380952</td>\n",
       "      <td>45.857143</td>\n",
       "      <td>21.761905</td>\n",
       "      <td>5.952381</td>\n",
       "      <td>10.523810</td>\n",
       "      <td>81.0</td>\n",
       "      <td>200.0</td>\n",
       "      <td>71.0</td>\n",
       "      <td>0</td>\n",
       "      <td>0</td>\n",
       "      <td>1</td>\n",
       "      <td>0</td>\n",
       "      <td>1</td>\n",
       "    </tr>\n",
       "    <tr>\n",
       "      <th>3</th>\n",
       "      <td>35.888889</td>\n",
       "      <td>93.555556</td>\n",
       "      <td>8.388889</td>\n",
       "      <td>20.111111</td>\n",
       "      <td>2.777778</td>\n",
       "      <td>0.666667</td>\n",
       "      <td>0.388889</td>\n",
       "      <td>9.166667</td>\n",
       "      <td>1.111111</td>\n",
       "      <td>6.444444</td>\n",
       "      <td>9.666667</td>\n",
       "      <td>0.944444</td>\n",
       "      <td>3.833333</td>\n",
       "      <td>45.0</td>\n",
       "      <td>195.0</td>\n",
       "      <td>73.0</td>\n",
       "      <td>0</td>\n",
       "      <td>0</td>\n",
       "      <td>1</td>\n",
       "      <td>0</td>\n",
       "      <td>1</td>\n",
       "    </tr>\n",
       "    <tr>\n",
       "      <th>4</th>\n",
       "      <td>44.428571</td>\n",
       "      <td>110.666667</td>\n",
       "      <td>11.476190</td>\n",
       "      <td>26.047619</td>\n",
       "      <td>4.476190</td>\n",
       "      <td>1.952381</td>\n",
       "      <td>1.142857</td>\n",
       "      <td>12.142857</td>\n",
       "      <td>0.619048</td>\n",
       "      <td>5.238095</td>\n",
       "      <td>14.809524</td>\n",
       "      <td>0.619048</td>\n",
       "      <td>3.333333</td>\n",
       "      <td>59.0</td>\n",
       "      <td>200.0</td>\n",
       "      <td>73.0</td>\n",
       "      <td>0</td>\n",
       "      <td>0</td>\n",
       "      <td>1</td>\n",
       "      <td>0</td>\n",
       "      <td>1</td>\n",
       "    </tr>\n",
       "  </tbody>\n",
       "</table>\n",
       "</div>"
      ],
      "text/plain": [
       "            G          AB          R           H         2B         3B  \\\n",
       "0  126.458333  476.416667  93.583333  174.541667  30.166667  12.291667   \n",
       "1  113.772727  381.727273  98.818182  130.590909  23.000000   6.181818   \n",
       "2  132.952381  496.666667  82.666667  162.619048  30.476190  12.000000   \n",
       "3   35.888889   93.555556   8.388889   20.111111   2.777778   0.666667   \n",
       "4   44.428571  110.666667  11.476190   26.047619   4.476190   1.952381   \n",
       "\n",
       "          HR         RBI         SB         BB         SO       HBP  \\\n",
       "0   4.875000   80.708333  37.166667  52.041667  18.208333  3.916667   \n",
       "1  32.454545  100.772727   5.590909  93.727273  60.454545  1.954545   \n",
       "2   4.809524   82.476190  34.380952  45.857143  21.761905  5.952381   \n",
       "3   0.388889    9.166667   1.111111   6.444444   9.666667  0.944444   \n",
       "4   1.142857   12.142857   0.619048   5.238095  14.809524  0.619048   \n",
       "\n",
       "          SH   age  weight  height  bats_B  bats_L  bats_R  throws_L  throws_R  \n",
       "0  12.291667  75.0   175.0    73.0       0       1       0         0         1  \n",
       "1   5.136364  53.0   215.0    74.0       0       1       0         1         0  \n",
       "2  10.523810  81.0   200.0    71.0       0       0       1         0         1  \n",
       "3   3.833333  45.0   195.0    73.0       0       0       1         0         1  \n",
       "4   3.333333  59.0   200.0    73.0       0       0       1         0         1  "
      ]
     },
     "execution_count": 65,
     "metadata": {
      "tags": []
     },
     "output_type": "execute_result"
    }
   ],
   "source": [
    "# preview dataframe with encoded categorical features\n",
    "x.head()"
   ]
  },
  {
   "cell_type": "markdown",
   "metadata": {
    "colab_type": "text",
    "id": "jBavgzsvdO68"
   },
   "source": [
    "### Normalize data\n",
    "Normalizing the features allows for faster gradient descent convergence and reduce bias of features which have large ranges."
   ]
  },
  {
   "cell_type": "code",
   "execution_count": 0,
   "metadata": {
    "colab": {},
    "colab_type": "code",
    "id": "pr6rVIrcdO68"
   },
   "outputs": [],
   "source": [
    "min_max_scaler = preprocessing.MinMaxScaler()\n",
    "x_scaled = min_max_scaler.fit_transform(x)\n",
    "x_scaled_df = pd.DataFrame(x_scaled, columns = x.columns)"
   ]
  },
  {
   "cell_type": "code",
   "execution_count": 0,
   "metadata": {
    "colab": {
     "base_uri": "https://localhost:8080/",
     "height": 224
    },
    "colab_type": "code",
    "executionInfo": {
     "elapsed": 609,
     "status": "ok",
     "timestamp": 1583685074218,
     "user": {
      "displayName": "Xiangke Chen",
      "photoUrl": "https://lh3.googleusercontent.com/a-/AOh14GhU8b9X1cBQL4I7pL6vh4lO_U7dhCO4vv1mws8RlQ=s64",
      "userId": "04092284610189200730"
     },
     "user_tz": 300
    },
    "id": "jLq7sYkcdO6-",
    "outputId": "69eacc2f-0393-49cf-dd0e-22340a15454e"
   },
   "outputs": [
    {
     "data": {
      "text/html": [
       "<div>\n",
       "<style scoped>\n",
       "    .dataframe tbody tr th:only-of-type {\n",
       "        vertical-align: middle;\n",
       "    }\n",
       "\n",
       "    .dataframe tbody tr th {\n",
       "        vertical-align: top;\n",
       "    }\n",
       "\n",
       "    .dataframe thead th {\n",
       "        text-align: right;\n",
       "    }\n",
       "</style>\n",
       "<table border=\"1\" class=\"dataframe\">\n",
       "  <thead>\n",
       "    <tr style=\"text-align: right;\">\n",
       "      <th></th>\n",
       "      <th>G</th>\n",
       "      <th>AB</th>\n",
       "      <th>R</th>\n",
       "      <th>H</th>\n",
       "      <th>2B</th>\n",
       "      <th>3B</th>\n",
       "      <th>HR</th>\n",
       "      <th>RBI</th>\n",
       "      <th>SB</th>\n",
       "      <th>BB</th>\n",
       "      <th>SO</th>\n",
       "      <th>HBP</th>\n",
       "      <th>SH</th>\n",
       "      <th>age</th>\n",
       "      <th>weight</th>\n",
       "      <th>height</th>\n",
       "      <th>bats_B</th>\n",
       "      <th>bats_L</th>\n",
       "      <th>bats_R</th>\n",
       "      <th>throws_L</th>\n",
       "      <th>throws_R</th>\n",
       "    </tr>\n",
       "  </thead>\n",
       "  <tbody>\n",
       "    <tr>\n",
       "      <th>0</th>\n",
       "      <td>0.835570</td>\n",
       "      <td>0.789147</td>\n",
       "      <td>0.775247</td>\n",
       "      <td>0.909071</td>\n",
       "      <td>0.837963</td>\n",
       "      <td>0.755798</td>\n",
       "      <td>0.140748</td>\n",
       "      <td>0.682634</td>\n",
       "      <td>0.570541</td>\n",
       "      <td>0.447583</td>\n",
       "      <td>0.146662</td>\n",
       "      <td>0.209534</td>\n",
       "      <td>0.470344</td>\n",
       "      <td>0.643836</td>\n",
       "      <td>0.401786</td>\n",
       "      <td>0.541667</td>\n",
       "      <td>0.0</td>\n",
       "      <td>1.0</td>\n",
       "      <td>0.0</td>\n",
       "      <td>0.0</td>\n",
       "      <td>1.0</td>\n",
       "    </tr>\n",
       "    <tr>\n",
       "      <th>1</th>\n",
       "      <td>0.745174</td>\n",
       "      <td>0.632246</td>\n",
       "      <td>0.818612</td>\n",
       "      <td>0.680161</td>\n",
       "      <td>0.638889</td>\n",
       "      <td>0.380112</td>\n",
       "      <td>0.937008</td>\n",
       "      <td>0.852339</td>\n",
       "      <td>0.085825</td>\n",
       "      <td>0.806099</td>\n",
       "      <td>0.488506</td>\n",
       "      <td>0.104564</td>\n",
       "      <td>0.196545</td>\n",
       "      <td>0.342466</td>\n",
       "      <td>0.758929</td>\n",
       "      <td>0.625000</td>\n",
       "      <td>0.0</td>\n",
       "      <td>1.0</td>\n",
       "      <td>0.0</td>\n",
       "      <td>1.0</td>\n",
       "      <td>0.0</td>\n",
       "    </tr>\n",
       "    <tr>\n",
       "      <th>2</th>\n",
       "      <td>0.881846</td>\n",
       "      <td>0.822701</td>\n",
       "      <td>0.684813</td>\n",
       "      <td>0.846974</td>\n",
       "      <td>0.846561</td>\n",
       "      <td>0.737864</td>\n",
       "      <td>0.138858</td>\n",
       "      <td>0.697587</td>\n",
       "      <td>0.527778</td>\n",
       "      <td>0.394393</td>\n",
       "      <td>0.175417</td>\n",
       "      <td>0.318440</td>\n",
       "      <td>0.402697</td>\n",
       "      <td>0.726027</td>\n",
       "      <td>0.625000</td>\n",
       "      <td>0.375000</td>\n",
       "      <td>0.0</td>\n",
       "      <td>0.0</td>\n",
       "      <td>1.0</td>\n",
       "      <td>0.0</td>\n",
       "      <td>1.0</td>\n",
       "    </tr>\n",
       "    <tr>\n",
       "      <th>3</th>\n",
       "      <td>0.190182</td>\n",
       "      <td>0.154745</td>\n",
       "      <td>0.069494</td>\n",
       "      <td>0.104745</td>\n",
       "      <td>0.077160</td>\n",
       "      <td>0.040992</td>\n",
       "      <td>0.011228</td>\n",
       "      <td>0.077532</td>\n",
       "      <td>0.017057</td>\n",
       "      <td>0.055425</td>\n",
       "      <td>0.077546</td>\n",
       "      <td>0.050526</td>\n",
       "      <td>0.146684</td>\n",
       "      <td>0.232877</td>\n",
       "      <td>0.580357</td>\n",
       "      <td>0.541667</td>\n",
       "      <td>0.0</td>\n",
       "      <td>0.0</td>\n",
       "      <td>1.0</td>\n",
       "      <td>0.0</td>\n",
       "      <td>1.0</td>\n",
       "    </tr>\n",
       "    <tr>\n",
       "      <th>4</th>\n",
       "      <td>0.251035</td>\n",
       "      <td>0.183099</td>\n",
       "      <td>0.095069</td>\n",
       "      <td>0.135665</td>\n",
       "      <td>0.124339</td>\n",
       "      <td>0.120049</td>\n",
       "      <td>0.032996</td>\n",
       "      <td>0.102705</td>\n",
       "      <td>0.009503</td>\n",
       "      <td>0.045050</td>\n",
       "      <td>0.119160</td>\n",
       "      <td>0.033118</td>\n",
       "      <td>0.127551</td>\n",
       "      <td>0.424658</td>\n",
       "      <td>0.625000</td>\n",
       "      <td>0.541667</td>\n",
       "      <td>0.0</td>\n",
       "      <td>0.0</td>\n",
       "      <td>1.0</td>\n",
       "      <td>0.0</td>\n",
       "      <td>1.0</td>\n",
       "    </tr>\n",
       "  </tbody>\n",
       "</table>\n",
       "</div>"
      ],
      "text/plain": [
       "          G        AB         R         H        2B        3B        HR  \\\n",
       "0  0.835570  0.789147  0.775247  0.909071  0.837963  0.755798  0.140748   \n",
       "1  0.745174  0.632246  0.818612  0.680161  0.638889  0.380112  0.937008   \n",
       "2  0.881846  0.822701  0.684813  0.846974  0.846561  0.737864  0.138858   \n",
       "3  0.190182  0.154745  0.069494  0.104745  0.077160  0.040992  0.011228   \n",
       "4  0.251035  0.183099  0.095069  0.135665  0.124339  0.120049  0.032996   \n",
       "\n",
       "        RBI        SB        BB        SO       HBP        SH       age  \\\n",
       "0  0.682634  0.570541  0.447583  0.146662  0.209534  0.470344  0.643836   \n",
       "1  0.852339  0.085825  0.806099  0.488506  0.104564  0.196545  0.342466   \n",
       "2  0.697587  0.527778  0.394393  0.175417  0.318440  0.402697  0.726027   \n",
       "3  0.077532  0.017057  0.055425  0.077546  0.050526  0.146684  0.232877   \n",
       "4  0.102705  0.009503  0.045050  0.119160  0.033118  0.127551  0.424658   \n",
       "\n",
       "     weight    height  bats_B  bats_L  bats_R  throws_L  throws_R  \n",
       "0  0.401786  0.541667     0.0     1.0     0.0       0.0       1.0  \n",
       "1  0.758929  0.625000     0.0     1.0     0.0       1.0       0.0  \n",
       "2  0.625000  0.375000     0.0     0.0     1.0       0.0       1.0  \n",
       "3  0.580357  0.541667     0.0     0.0     1.0       0.0       1.0  \n",
       "4  0.625000  0.541667     0.0     0.0     1.0       0.0       1.0  "
      ]
     },
     "execution_count": 67,
     "metadata": {
      "tags": []
     },
     "output_type": "execute_result"
    }
   ],
   "source": [
    "x_scaled_df.head()"
   ]
  },
  {
   "cell_type": "markdown",
   "metadata": {
    "colab_type": "text",
    "id": "sjKR8nG_dO7H"
   },
   "source": [
    "### Feature Selection - Chi2\n",
    "Taking a univariate selection approach, I choose to use the chi2 metric since the target is categorical.\n",
    "I also tested using f_classif which also worked, and mutual_info_classif (long runtime).\n",
    "\n",
    "Actually, there are multiple ways to do feature selection. \n",
    "\n",
    "* Univariate Selection\n",
    "* Feature Important\n",
    "* Correlation Matrics with Heatmap\n",
    "* And so on\n",
    "\n",
    "I chose the first approach for no reason. If I could have more time, I'll also try other approaches. In addition, the thrid approach returns me the result that there are tons of correlated features and leave nothing to me. I guess this might due to the small sample size. I need more inforamtion to make the decision. For now, Univariate could be a good approach. "
   ]
  },
  {
   "cell_type": "code",
   "execution_count": 0,
   "metadata": {
    "colab": {
     "base_uri": "https://localhost:8080/",
     "height": 700
    },
    "colab_type": "code",
    "executionInfo": {
     "elapsed": 1003,
     "status": "ok",
     "timestamp": 1583685075996,
     "user": {
      "displayName": "Xiangke Chen",
      "photoUrl": "https://lh3.googleusercontent.com/a-/AOh14GhU8b9X1cBQL4I7pL6vh4lO_U7dhCO4vv1mws8RlQ=s64",
      "userId": "04092284610189200730"
     },
     "user_tz": 300
    },
    "id": "Ws8IneVMdO7P",
    "outputId": "884b6be8-70d5-4972-d7db-1ec08ec1bbdb"
   },
   "outputs": [
    {
     "data": {
      "text/html": [
       "<div>\n",
       "<style scoped>\n",
       "    .dataframe tbody tr th:only-of-type {\n",
       "        vertical-align: middle;\n",
       "    }\n",
       "\n",
       "    .dataframe tbody tr th {\n",
       "        vertical-align: top;\n",
       "    }\n",
       "\n",
       "    .dataframe thead th {\n",
       "        text-align: right;\n",
       "    }\n",
       "</style>\n",
       "<table border=\"1\" class=\"dataframe\">\n",
       "  <thead>\n",
       "    <tr style=\"text-align: right;\">\n",
       "      <th></th>\n",
       "      <th>Feature</th>\n",
       "      <th>Score</th>\n",
       "    </tr>\n",
       "  </thead>\n",
       "  <tbody>\n",
       "    <tr>\n",
       "      <th>2</th>\n",
       "      <td>R</td>\n",
       "      <td>50.027255</td>\n",
       "    </tr>\n",
       "    <tr>\n",
       "      <th>7</th>\n",
       "      <td>RBI</td>\n",
       "      <td>49.348040</td>\n",
       "    </tr>\n",
       "    <tr>\n",
       "      <th>3</th>\n",
       "      <td>H</td>\n",
       "      <td>44.371156</td>\n",
       "    </tr>\n",
       "    <tr>\n",
       "      <th>5</th>\n",
       "      <td>3B</td>\n",
       "      <td>44.143595</td>\n",
       "    </tr>\n",
       "    <tr>\n",
       "      <th>4</th>\n",
       "      <td>2B</td>\n",
       "      <td>42.858307</td>\n",
       "    </tr>\n",
       "    <tr>\n",
       "      <th>6</th>\n",
       "      <td>HR</td>\n",
       "      <td>35.384612</td>\n",
       "    </tr>\n",
       "    <tr>\n",
       "      <th>1</th>\n",
       "      <td>AB</td>\n",
       "      <td>32.470012</td>\n",
       "    </tr>\n",
       "    <tr>\n",
       "      <th>9</th>\n",
       "      <td>BB</td>\n",
       "      <td>30.573615</td>\n",
       "    </tr>\n",
       "    <tr>\n",
       "      <th>0</th>\n",
       "      <td>G</td>\n",
       "      <td>19.729211</td>\n",
       "    </tr>\n",
       "    <tr>\n",
       "      <th>8</th>\n",
       "      <td>SB</td>\n",
       "      <td>17.219282</td>\n",
       "    </tr>\n",
       "    <tr>\n",
       "      <th>12</th>\n",
       "      <td>SH</td>\n",
       "      <td>11.133036</td>\n",
       "    </tr>\n",
       "    <tr>\n",
       "      <th>11</th>\n",
       "      <td>HBP</td>\n",
       "      <td>6.669446</td>\n",
       "    </tr>\n",
       "    <tr>\n",
       "      <th>10</th>\n",
       "      <td>SO</td>\n",
       "      <td>3.869280</td>\n",
       "    </tr>\n",
       "    <tr>\n",
       "      <th>13</th>\n",
       "      <td>age</td>\n",
       "      <td>3.259780</td>\n",
       "    </tr>\n",
       "    <tr>\n",
       "      <th>17</th>\n",
       "      <td>bats_L</td>\n",
       "      <td>1.382163</td>\n",
       "    </tr>\n",
       "    <tr>\n",
       "      <th>15</th>\n",
       "      <td>height</td>\n",
       "      <td>1.052806</td>\n",
       "    </tr>\n",
       "    <tr>\n",
       "      <th>18</th>\n",
       "      <td>bats_R</td>\n",
       "      <td>0.653240</td>\n",
       "    </tr>\n",
       "    <tr>\n",
       "      <th>19</th>\n",
       "      <td>throws_L</td>\n",
       "      <td>0.230769</td>\n",
       "    </tr>\n",
       "    <tr>\n",
       "      <th>20</th>\n",
       "      <td>throws_R</td>\n",
       "      <td>0.053715</td>\n",
       "    </tr>\n",
       "    <tr>\n",
       "      <th>14</th>\n",
       "      <td>weight</td>\n",
       "      <td>0.021867</td>\n",
       "    </tr>\n",
       "    <tr>\n",
       "      <th>16</th>\n",
       "      <td>bats_B</td>\n",
       "      <td>0.003446</td>\n",
       "    </tr>\n",
       "  </tbody>\n",
       "</table>\n",
       "</div>"
      ],
      "text/plain": [
       "     Feature      Score\n",
       "2          R  50.027255\n",
       "7        RBI  49.348040\n",
       "3          H  44.371156\n",
       "5         3B  44.143595\n",
       "4         2B  42.858307\n",
       "6         HR  35.384612\n",
       "1         AB  32.470012\n",
       "9         BB  30.573615\n",
       "0          G  19.729211\n",
       "8         SB  17.219282\n",
       "12        SH  11.133036\n",
       "11       HBP   6.669446\n",
       "10        SO   3.869280\n",
       "13       age   3.259780\n",
       "17    bats_L   1.382163\n",
       "15    height   1.052806\n",
       "18    bats_R   0.653240\n",
       "19  throws_L   0.230769\n",
       "20  throws_R   0.053715\n",
       "14    weight   0.021867\n",
       "16    bats_B   0.003446"
      ]
     },
     "execution_count": 68,
     "metadata": {
      "tags": []
     },
     "output_type": "execute_result"
    }
   ],
   "source": [
    "selector = SelectPercentile(chi2, percentile=20)\n",
    "fit = selector.fit(x_scaled_df,y)\n",
    "\n",
    "# Show results from greatest to least\n",
    "x_scores = pd.DataFrame(fit.scores_)\n",
    "x_col = pd.DataFrame(x_scaled_df.columns)\n",
    "featureScores = pd.concat([x_col,x_scores],axis=1)\n",
    "featureScores.columns = ['Feature', 'Score']\n",
    "fs_sorted = featureScores.sort_values('Score', ascending=False)\n",
    "fs_sorted"
   ]
  },
  {
   "cell_type": "code",
   "execution_count": 0,
   "metadata": {
    "colab": {
     "base_uri": "https://localhost:8080/",
     "height": 204
    },
    "colab_type": "code",
    "executionInfo": {
     "elapsed": 595,
     "status": "ok",
     "timestamp": 1583685077140,
     "user": {
      "displayName": "Xiangke Chen",
      "photoUrl": "https://lh3.googleusercontent.com/a-/AOh14GhU8b9X1cBQL4I7pL6vh4lO_U7dhCO4vv1mws8RlQ=s64",
      "userId": "04092284610189200730"
     },
     "user_tz": 300
    },
    "id": "rqRFOKUjdO7b",
    "outputId": "bac19880-3b8e-4ea2-9c4f-8a135887608a"
   },
   "outputs": [
    {
     "data": {
      "text/html": [
       "<div>\n",
       "<style scoped>\n",
       "    .dataframe tbody tr th:only-of-type {\n",
       "        vertical-align: middle;\n",
       "    }\n",
       "\n",
       "    .dataframe tbody tr th {\n",
       "        vertical-align: top;\n",
       "    }\n",
       "\n",
       "    .dataframe thead th {\n",
       "        text-align: right;\n",
       "    }\n",
       "</style>\n",
       "<table border=\"1\" class=\"dataframe\">\n",
       "  <thead>\n",
       "    <tr style=\"text-align: right;\">\n",
       "      <th></th>\n",
       "      <th>R</th>\n",
       "      <th>RBI</th>\n",
       "      <th>H</th>\n",
       "      <th>3B</th>\n",
       "      <th>2B</th>\n",
       "      <th>HR</th>\n",
       "      <th>AB</th>\n",
       "      <th>BB</th>\n",
       "      <th>G</th>\n",
       "      <th>SB</th>\n",
       "      <th>SH</th>\n",
       "      <th>HBP</th>\n",
       "      <th>SO</th>\n",
       "      <th>age</th>\n",
       "    </tr>\n",
       "  </thead>\n",
       "  <tbody>\n",
       "    <tr>\n",
       "      <th>0</th>\n",
       "      <td>0.775247</td>\n",
       "      <td>0.682634</td>\n",
       "      <td>0.909071</td>\n",
       "      <td>0.755798</td>\n",
       "      <td>0.837963</td>\n",
       "      <td>0.140748</td>\n",
       "      <td>0.789147</td>\n",
       "      <td>0.447583</td>\n",
       "      <td>0.835570</td>\n",
       "      <td>0.570541</td>\n",
       "      <td>0.470344</td>\n",
       "      <td>0.209534</td>\n",
       "      <td>0.146662</td>\n",
       "      <td>0.643836</td>\n",
       "    </tr>\n",
       "    <tr>\n",
       "      <th>1</th>\n",
       "      <td>0.818612</td>\n",
       "      <td>0.852339</td>\n",
       "      <td>0.680161</td>\n",
       "      <td>0.380112</td>\n",
       "      <td>0.638889</td>\n",
       "      <td>0.937008</td>\n",
       "      <td>0.632246</td>\n",
       "      <td>0.806099</td>\n",
       "      <td>0.745174</td>\n",
       "      <td>0.085825</td>\n",
       "      <td>0.196545</td>\n",
       "      <td>0.104564</td>\n",
       "      <td>0.488506</td>\n",
       "      <td>0.342466</td>\n",
       "    </tr>\n",
       "    <tr>\n",
       "      <th>2</th>\n",
       "      <td>0.684813</td>\n",
       "      <td>0.697587</td>\n",
       "      <td>0.846974</td>\n",
       "      <td>0.737864</td>\n",
       "      <td>0.846561</td>\n",
       "      <td>0.138858</td>\n",
       "      <td>0.822701</td>\n",
       "      <td>0.394393</td>\n",
       "      <td>0.881846</td>\n",
       "      <td>0.527778</td>\n",
       "      <td>0.402697</td>\n",
       "      <td>0.318440</td>\n",
       "      <td>0.175417</td>\n",
       "      <td>0.726027</td>\n",
       "    </tr>\n",
       "    <tr>\n",
       "      <th>3</th>\n",
       "      <td>0.069494</td>\n",
       "      <td>0.077532</td>\n",
       "      <td>0.104745</td>\n",
       "      <td>0.040992</td>\n",
       "      <td>0.077160</td>\n",
       "      <td>0.011228</td>\n",
       "      <td>0.154745</td>\n",
       "      <td>0.055425</td>\n",
       "      <td>0.190182</td>\n",
       "      <td>0.017057</td>\n",
       "      <td>0.146684</td>\n",
       "      <td>0.050526</td>\n",
       "      <td>0.077546</td>\n",
       "      <td>0.232877</td>\n",
       "    </tr>\n",
       "    <tr>\n",
       "      <th>4</th>\n",
       "      <td>0.095069</td>\n",
       "      <td>0.102705</td>\n",
       "      <td>0.135665</td>\n",
       "      <td>0.120049</td>\n",
       "      <td>0.124339</td>\n",
       "      <td>0.032996</td>\n",
       "      <td>0.183099</td>\n",
       "      <td>0.045050</td>\n",
       "      <td>0.251035</td>\n",
       "      <td>0.009503</td>\n",
       "      <td>0.127551</td>\n",
       "      <td>0.033118</td>\n",
       "      <td>0.119160</td>\n",
       "      <td>0.424658</td>\n",
       "    </tr>\n",
       "  </tbody>\n",
       "</table>\n",
       "</div>"
      ],
      "text/plain": [
       "          R       RBI         H        3B        2B        HR        AB  \\\n",
       "0  0.775247  0.682634  0.909071  0.755798  0.837963  0.140748  0.789147   \n",
       "1  0.818612  0.852339  0.680161  0.380112  0.638889  0.937008  0.632246   \n",
       "2  0.684813  0.697587  0.846974  0.737864  0.846561  0.138858  0.822701   \n",
       "3  0.069494  0.077532  0.104745  0.040992  0.077160  0.011228  0.154745   \n",
       "4  0.095069  0.102705  0.135665  0.120049  0.124339  0.032996  0.183099   \n",
       "\n",
       "         BB         G        SB        SH       HBP        SO       age  \n",
       "0  0.447583  0.835570  0.570541  0.470344  0.209534  0.146662  0.643836  \n",
       "1  0.806099  0.745174  0.085825  0.196545  0.104564  0.488506  0.342466  \n",
       "2  0.394393  0.881846  0.527778  0.402697  0.318440  0.175417  0.726027  \n",
       "3  0.055425  0.190182  0.017057  0.146684  0.050526  0.077546  0.232877  \n",
       "4  0.045050  0.251035  0.009503  0.127551  0.033118  0.119160  0.424658  "
      ]
     },
     "execution_count": 69,
     "metadata": {
      "tags": []
     },
     "output_type": "execute_result"
    }
   ],
   "source": [
    "# Filter dataframe on features with highest scores\n",
    "x_chi2 = x_scaled_df[fs_sorted.Feature[0:14].tolist()]\n",
    "x_chi2.head()"
   ]
  },
  {
   "cell_type": "markdown",
   "metadata": {
    "colab_type": "text",
    "id": "NO1Ut2zRdO7d"
   },
   "source": [
    "**Split x_chi2 set into train and testing**"
   ]
  },
  {
   "cell_type": "code",
   "execution_count": 0,
   "metadata": {
    "colab": {},
    "colab_type": "code",
    "id": "ZYQgWq3hdO7e"
   },
   "outputs": [],
   "source": [
    "X_train, X_test, y_train, y_test = train_test_split(x_chi2, y, test_size = 0.3, random_state = 42) #Predictor and target variables"
   ]
  },
  {
   "cell_type": "code",
   "execution_count": 0,
   "metadata": {
    "colab": {
     "base_uri": "https://localhost:8080/",
     "height": 204
    },
    "colab_type": "code",
    "executionInfo": {
     "elapsed": 929,
     "status": "ok",
     "timestamp": 1583685739335,
     "user": {
      "displayName": "Xiangke Chen",
      "photoUrl": "https://lh3.googleusercontent.com/a-/AOh14GhU8b9X1cBQL4I7pL6vh4lO_U7dhCO4vv1mws8RlQ=s64",
      "userId": "04092284610189200730"
     },
     "user_tz": 300
    },
    "id": "KS-9JOrNBoVd",
    "outputId": "0201c914-cc71-4fd7-ed52-07e8e75d4c82"
   },
   "outputs": [
    {
     "data": {
      "text/html": [
       "<div>\n",
       "<style scoped>\n",
       "    .dataframe tbody tr th:only-of-type {\n",
       "        vertical-align: middle;\n",
       "    }\n",
       "\n",
       "    .dataframe tbody tr th {\n",
       "        vertical-align: top;\n",
       "    }\n",
       "\n",
       "    .dataframe thead th {\n",
       "        text-align: right;\n",
       "    }\n",
       "</style>\n",
       "<table border=\"1\" class=\"dataframe\">\n",
       "  <thead>\n",
       "    <tr style=\"text-align: right;\">\n",
       "      <th></th>\n",
       "      <th>R</th>\n",
       "      <th>RBI</th>\n",
       "      <th>H</th>\n",
       "      <th>3B</th>\n",
       "      <th>2B</th>\n",
       "      <th>HR</th>\n",
       "      <th>AB</th>\n",
       "      <th>BB</th>\n",
       "      <th>G</th>\n",
       "      <th>SB</th>\n",
       "      <th>SH</th>\n",
       "      <th>HBP</th>\n",
       "      <th>SO</th>\n",
       "      <th>age</th>\n",
       "    </tr>\n",
       "  </thead>\n",
       "  <tbody>\n",
       "    <tr>\n",
       "      <th>1225</th>\n",
       "      <td>0.117720</td>\n",
       "      <td>0.143341</td>\n",
       "      <td>0.202303</td>\n",
       "      <td>0.087379</td>\n",
       "      <td>0.181287</td>\n",
       "      <td>0.031910</td>\n",
       "      <td>0.238245</td>\n",
       "      <td>0.140776</td>\n",
       "      <td>0.328241</td>\n",
       "      <td>0.047669</td>\n",
       "      <td>0.134936</td>\n",
       "      <td>0.084470</td>\n",
       "      <td>0.104518</td>\n",
       "      <td>0.671233</td>\n",
       "    </tr>\n",
       "    <tr>\n",
       "      <th>2665</th>\n",
       "      <td>0.252663</td>\n",
       "      <td>0.182788</td>\n",
       "      <td>0.381076</td>\n",
       "      <td>0.109313</td>\n",
       "      <td>0.297840</td>\n",
       "      <td>0.024059</td>\n",
       "      <td>0.446194</td>\n",
       "      <td>0.109417</td>\n",
       "      <td>0.524307</td>\n",
       "      <td>0.046905</td>\n",
       "      <td>0.197704</td>\n",
       "      <td>0.118884</td>\n",
       "      <td>0.227692</td>\n",
       "      <td>0.273973</td>\n",
       "    </tr>\n",
       "    <tr>\n",
       "      <th>1378</th>\n",
       "      <td>0.107692</td>\n",
       "      <td>0.137866</td>\n",
       "      <td>0.154687</td>\n",
       "      <td>0.122977</td>\n",
       "      <td>0.141667</td>\n",
       "      <td>0.031759</td>\n",
       "      <td>0.203535</td>\n",
       "      <td>0.035262</td>\n",
       "      <td>0.218765</td>\n",
       "      <td>0.010746</td>\n",
       "      <td>0.084184</td>\n",
       "      <td>0.058848</td>\n",
       "      <td>0.106136</td>\n",
       "      <td>0.520548</td>\n",
       "    </tr>\n",
       "    <tr>\n",
       "      <th>2921</th>\n",
       "      <td>0.298862</td>\n",
       "      <td>0.351984</td>\n",
       "      <td>0.508013</td>\n",
       "      <td>0.208116</td>\n",
       "      <td>0.448718</td>\n",
       "      <td>0.108823</td>\n",
       "      <td>0.647866</td>\n",
       "      <td>0.190533</td>\n",
       "      <td>0.713356</td>\n",
       "      <td>0.022436</td>\n",
       "      <td>0.270801</td>\n",
       "      <td>0.028807</td>\n",
       "      <td>0.283158</td>\n",
       "      <td>0.849315</td>\n",
       "    </tr>\n",
       "    <tr>\n",
       "      <th>1094</th>\n",
       "      <td>0.288666</td>\n",
       "      <td>0.378660</td>\n",
       "      <td>0.426282</td>\n",
       "      <td>0.245955</td>\n",
       "      <td>0.480769</td>\n",
       "      <td>0.079952</td>\n",
       "      <td>0.416396</td>\n",
       "      <td>0.133638</td>\n",
       "      <td>0.540691</td>\n",
       "      <td>0.049595</td>\n",
       "      <td>0.259027</td>\n",
       "      <td>0.082305</td>\n",
       "      <td>0.109497</td>\n",
       "      <td>0.178082</td>\n",
       "    </tr>\n",
       "  </tbody>\n",
       "</table>\n",
       "</div>"
      ],
      "text/plain": [
       "             R       RBI         H        3B        2B        HR        AB  \\\n",
       "1225  0.117720  0.143341  0.202303  0.087379  0.181287  0.031910  0.238245   \n",
       "2665  0.252663  0.182788  0.381076  0.109313  0.297840  0.024059  0.446194   \n",
       "1378  0.107692  0.137866  0.154687  0.122977  0.141667  0.031759  0.203535   \n",
       "2921  0.298862  0.351984  0.508013  0.208116  0.448718  0.108823  0.647866   \n",
       "1094  0.288666  0.378660  0.426282  0.245955  0.480769  0.079952  0.416396   \n",
       "\n",
       "            BB         G        SB        SH       HBP        SO       age  \n",
       "1225  0.140776  0.328241  0.047669  0.134936  0.084470  0.104518  0.671233  \n",
       "2665  0.109417  0.524307  0.046905  0.197704  0.118884  0.227692  0.273973  \n",
       "1378  0.035262  0.218765  0.010746  0.084184  0.058848  0.106136  0.520548  \n",
       "2921  0.190533  0.713356  0.022436  0.270801  0.028807  0.283158  0.849315  \n",
       "1094  0.133638  0.540691  0.049595  0.259027  0.082305  0.109497  0.178082  "
      ]
     },
     "execution_count": 120,
     "metadata": {
      "tags": []
     },
     "output_type": "execute_result"
    }
   ],
   "source": [
    "x_chi2.head()"
   ]
  },
  {
   "cell_type": "code",
   "execution_count": 0,
   "metadata": {
    "colab": {
     "base_uri": "https://localhost:8080/",
     "height": 119
    },
    "colab_type": "code",
    "executionInfo": {
     "elapsed": 959,
     "status": "ok",
     "timestamp": 1583685772103,
     "user": {
      "displayName": "Xiangke Chen",
      "photoUrl": "https://lh3.googleusercontent.com/a-/AOh14GhU8b9X1cBQL4I7pL6vh4lO_U7dhCO4vv1mws8RlQ=s64",
      "userId": "04092284610189200730"
     },
     "user_tz": 300
    },
    "id": "966c30uCBqwo",
    "outputId": "137115b2-18ed-45c7-866f-94e3d4dc500f"
   },
   "outputs": [
    {
     "data": {
      "text/plain": [
       "0    1\n",
       "1    1\n",
       "2    1\n",
       "3    1\n",
       "4    1\n",
       "Name: TARGET, dtype: int64"
      ]
     },
     "execution_count": 122,
     "metadata": {
      "tags": []
     },
     "output_type": "execute_result"
    }
   ],
   "source": [
    "y.head()"
   ]
  },
  {
   "cell_type": "markdown",
   "metadata": {
    "colab_type": "text",
    "id": "Xlu-n9cdsXo-"
   },
   "source": [
    "**Define Functions for evaluation**"
   ]
  },
  {
   "cell_type": "code",
   "execution_count": 0,
   "metadata": {
    "colab": {},
    "colab_type": "code",
    "id": "DW8qHUsasWbd"
   },
   "outputs": [],
   "source": [
    "# generate a report for model including accraucy, precision, recall and F1\n",
    "def get_all_measurements(y_test, y_pred, model_name):\n",
    "    column_names = ['Accuracy', 'Precision', 'Recall', 'F1-Score', 'AUC']\n",
    "    acc = accuracy_score(y_test, y_pred)\n",
    "    cm = confusion_matrix(y_test, y_pred)\n",
    "    tn, fp, fn, tp = cm.ravel()\n",
    "    precision = tp / (tp + fp)\n",
    "    fpr, tpr, thresholds = roc_curve(y_test, y_pred)\n",
    "    Auc = auc(fpr,tpr)\n",
    "    recall = tp / (tp + fn)\n",
    "    f1 = (2 * precision * recall) / (precision + recall)\n",
    "    # parameters = model.best_params_\n",
    "    values = np.array([[acc, precision, recall, f1, Auc]])\n",
    "    summary = pd.DataFrame(values, index=[model_name], columns=column_names)\n",
    "    return summary"
   ]
  },
  {
   "cell_type": "markdown",
   "metadata": {
    "colab_type": "text",
    "id": "o5bTmd2m828l"
   },
   "source": [
    "## Model Construction"
   ]
  },
  {
   "cell_type": "markdown",
   "metadata": {
    "colab_type": "text",
    "id": "Lnyg6-xCdO7g"
   },
   "source": [
    "### K-Nearest Neighbors \n",
    "Documentation: https://scikit-learn.org/stable/modules/neighbors.html"
   ]
  },
  {
   "cell_type": "code",
   "execution_count": 0,
   "metadata": {
    "colab": {
     "base_uri": "https://localhost:8080/",
     "height": 233
    },
    "colab_type": "code",
    "executionInfo": {
     "elapsed": 870,
     "status": "ok",
     "timestamp": 1583685542912,
     "user": {
      "displayName": "Xiangke Chen",
      "photoUrl": "https://lh3.googleusercontent.com/a-/AOh14GhU8b9X1cBQL4I7pL6vh4lO_U7dhCO4vv1mws8RlQ=s64",
      "userId": "04092284610189200730"
     },
     "user_tz": 300
    },
    "id": "upJQwlj4dO7h",
    "outputId": "75d74831-eb62-4f61-b56f-5da73990bce5"
   },
   "outputs": [
    {
     "name": "stdout",
     "output_type": "stream",
     "text": [
      "              precision    recall  f1-score   support\n",
      "\n",
      "           0       0.94      0.98      0.96       923\n",
      "           1       0.50      0.21      0.30        75\n",
      "\n",
      "    accuracy                           0.92       998\n",
      "   macro avg       0.72      0.60      0.63       998\n",
      "weighted avg       0.91      0.92      0.91       998\n",
      "\n"
     ]
    },
    {
     "data": {
      "text/html": [
       "<div>\n",
       "<style scoped>\n",
       "    .dataframe tbody tr th:only-of-type {\n",
       "        vertical-align: middle;\n",
       "    }\n",
       "\n",
       "    .dataframe tbody tr th {\n",
       "        vertical-align: top;\n",
       "    }\n",
       "\n",
       "    .dataframe thead th {\n",
       "        text-align: right;\n",
       "    }\n",
       "</style>\n",
       "<table border=\"1\" class=\"dataframe\">\n",
       "  <thead>\n",
       "    <tr style=\"text-align: right;\">\n",
       "      <th></th>\n",
       "      <th>Accuracy</th>\n",
       "      <th>Precision</th>\n",
       "      <th>Recall</th>\n",
       "      <th>F1-Score</th>\n",
       "      <th>AUC</th>\n",
       "    </tr>\n",
       "  </thead>\n",
       "  <tbody>\n",
       "    <tr>\n",
       "      <th>KNN</th>\n",
       "      <td>0.92485</td>\n",
       "      <td>0.5</td>\n",
       "      <td>0.213333</td>\n",
       "      <td>0.299065</td>\n",
       "      <td>0.597999</td>\n",
       "    </tr>\n",
       "  </tbody>\n",
       "</table>\n",
       "</div>"
      ],
      "text/plain": [
       "     Accuracy  Precision    Recall  F1-Score       AUC\n",
       "KNN   0.92485        0.5  0.213333  0.299065  0.597999"
      ]
     },
     "execution_count": 105,
     "metadata": {
      "tags": []
     },
     "output_type": "execute_result"
    }
   ],
   "source": [
    "# Fit K Nearest Neighbors Classification to the Training set\n",
    "knn = KNeighborsClassifier(n_neighbors = 5)\n",
    "knn.fit(X_train, y_train)\n",
    "\n",
    "# Test the model\n",
    "pred_knn = knn.predict(X_test)\n",
    "\n",
    "# Get the model performance\n",
    "print(classification_report(y_test, pred_knn))\n",
    "\n",
    "# Get all Measurements\n",
    "knn_summary = get_all_measurements(y_test, pred_knn, \"KNN\")\n",
    "knn_summary"
   ]
  },
  {
   "cell_type": "code",
   "execution_count": 0,
   "metadata": {
    "colab": {
     "base_uri": "https://localhost:8080/",
     "height": 281
    },
    "colab_type": "code",
    "executionInfo": {
     "elapsed": 921,
     "status": "ok",
     "timestamp": 1583685544113,
     "user": {
      "displayName": "Xiangke Chen",
      "photoUrl": "https://lh3.googleusercontent.com/a-/AOh14GhU8b9X1cBQL4I7pL6vh4lO_U7dhCO4vv1mws8RlQ=s64",
      "userId": "04092284610189200730"
     },
     "user_tz": 300
    },
    "id": "LLKfTV-xcfNL",
    "outputId": "1e6edd59-4501-4180-9bf6-e25da5c60d55"
   },
   "outputs": [
    {
     "data": {
      "image/png": "[encoded data removed]",
      "text/plain": [
       "<Figure size 432x288 with 1 Axes>"
      ]
     },
     "metadata": {
      "tags": []
     },
     "output_type": "display_data"
    }
   ],
   "source": [
    "# plot roc curve\n",
    "plt.figure(figsize = (6,4))\n",
    "fpr_knn, tpr_knn, thresholds = roc_curve(y_test, pred_knn)\n",
    "plt.plot(fpr_knn, tpr_knn, linewidth=1, label='KNN') \n",
    "plt.title(\"KNN ROC Curve\")\n",
    "plt.show()"
   ]
  },
  {
   "cell_type": "markdown",
   "metadata": {
    "colab_type": "text",
    "id": "JFU20FUwniLK"
   },
   "source": [
    "### Decision Tree\n",
    "Documentation: https://scikit-learn.org/stable/modules/tree.html"
   ]
  },
  {
   "cell_type": "code",
   "execution_count": 0,
   "metadata": {
    "colab": {
     "base_uri": "https://localhost:8080/",
     "height": 233
    },
    "colab_type": "code",
    "executionInfo": {
     "elapsed": 496,
     "status": "ok",
     "timestamp": 1583685554439,
     "user": {
      "displayName": "Xiangke Chen",
      "photoUrl": "https://lh3.googleusercontent.com/a-/AOh14GhU8b9X1cBQL4I7pL6vh4lO_U7dhCO4vv1mws8RlQ=s64",
      "userId": "04092284610189200730"
     },
     "user_tz": 300
    },
    "id": "zNL1ghfAn9y9",
    "outputId": "ecb66724-0ac4-4f32-db43-cbdfd8e14a9c"
   },
   "outputs": [
    {
     "name": "stdout",
     "output_type": "stream",
     "text": [
      "              precision    recall  f1-score   support\n",
      "\n",
      "           0       0.95      0.97      0.96       923\n",
      "           1       0.44      0.31      0.36        75\n",
      "\n",
      "    accuracy                           0.92       998\n",
      "   macro avg       0.69      0.64      0.66       998\n",
      "weighted avg       0.91      0.92      0.91       998\n",
      "\n"
     ]
    },
    {
     "data": {
      "text/html": [
       "<div>\n",
       "<style scoped>\n",
       "    .dataframe tbody tr th:only-of-type {\n",
       "        vertical-align: middle;\n",
       "    }\n",
       "\n",
       "    .dataframe tbody tr th {\n",
       "        vertical-align: top;\n",
       "    }\n",
       "\n",
       "    .dataframe thead th {\n",
       "        text-align: right;\n",
       "    }\n",
       "</style>\n",
       "<table border=\"1\" class=\"dataframe\">\n",
       "  <thead>\n",
       "    <tr style=\"text-align: right;\">\n",
       "      <th></th>\n",
       "      <th>Accuracy</th>\n",
       "      <th>Precision</th>\n",
       "      <th>Recall</th>\n",
       "      <th>F1-Score</th>\n",
       "      <th>AUC</th>\n",
       "    </tr>\n",
       "  </thead>\n",
       "  <tbody>\n",
       "    <tr>\n",
       "      <th>Decision Tree</th>\n",
       "      <td>0.918838</td>\n",
       "      <td>0.442308</td>\n",
       "      <td>0.306667</td>\n",
       "      <td>0.362205</td>\n",
       "      <td>0.637624</td>\n",
       "    </tr>\n",
       "  </tbody>\n",
       "</table>\n",
       "</div>"
      ],
      "text/plain": [
       "               Accuracy  Precision    Recall  F1-Score       AUC\n",
       "Decision Tree  0.918838   0.442308  0.306667  0.362205  0.637624"
      ]
     },
     "execution_count": 107,
     "metadata": {
      "tags": []
     },
     "output_type": "execute_result"
    }
   ],
   "source": [
    "# Fit K Nearest Neighbors Classification to the Training set\n",
    "dt = DecisionTreeClassifier()\n",
    "dt.fit(X_train, y_train)\n",
    "\n",
    "# Test the model\n",
    "pred_dt = dt.predict(X_test)\n",
    "\n",
    "# Get the model performance\n",
    "print(classification_report(y_test, pred_dt))\n",
    "\n",
    "# Get all Measurements\n",
    "dt_summary = get_all_measurements(y_test, pred_dt, \"Decision Tree\")\n",
    "dt_summary"
   ]
  },
  {
   "cell_type": "code",
   "execution_count": 0,
   "metadata": {
    "colab": {
     "base_uri": "https://localhost:8080/",
     "height": 281
    },
    "colab_type": "code",
    "executionInfo": {
     "elapsed": 961,
     "status": "ok",
     "timestamp": 1583685555939,
     "user": {
      "displayName": "Xiangke Chen",
      "photoUrl": "https://lh3.googleusercontent.com/a-/AOh14GhU8b9X1cBQL4I7pL6vh4lO_U7dhCO4vv1mws8RlQ=s64",
      "userId": "04092284610189200730"
     },
     "user_tz": 300
    },
    "id": "2Wmeb2yCoV0B",
    "outputId": "ed51fe32-8511-40f2-cdce-170a283ac7bd"
   },
   "outputs": [
    {
     "data": {
      "image/png": "[encoded data removed]",
      "text/plain": [
       "<Figure size 432x288 with 1 Axes>"
      ]
     },
     "metadata": {
      "tags": []
     },
     "output_type": "display_data"
    }
   ],
   "source": [
    "# plot roc curve\n",
    "plt.figure(figsize = (6,4))\n",
    "fpr_dt, tpr_dt, thresholds = roc_curve(y_test, pred_dt)\n",
    "plt.plot(fpr_dt, tpr_dt, linewidth=1, label='Decision Tree') \n",
    "plt.title(\"Decision Tree ROC Curve\")\n",
    "plt.show()"
   ]
  },
  {
   "cell_type": "markdown",
   "metadata": {
    "colab_type": "text",
    "id": "iuuHdqVwdO7t"
   },
   "source": [
    "### Random Forest\n",
    "Documentation: https://scikit-learn.org/stable/modules/generated/sklearn.ensemble.RandomForestClassifier.html"
   ]
  },
  {
   "cell_type": "code",
   "execution_count": 0,
   "metadata": {
    "colab": {
     "base_uri": "https://localhost:8080/",
     "height": 233
    },
    "colab_type": "code",
    "executionInfo": {
     "elapsed": 909,
     "status": "ok",
     "timestamp": 1583685567355,
     "user": {
      "displayName": "Xiangke Chen",
      "photoUrl": "https://lh3.googleusercontent.com/a-/AOh14GhU8b9X1cBQL4I7pL6vh4lO_U7dhCO4vv1mws8RlQ=s64",
      "userId": "04092284610189200730"
     },
     "user_tz": 300
    },
    "id": "m9fCGPVEdO7t",
    "outputId": "32d743a9-9ef9-443c-9f0b-e17a44f3b294"
   },
   "outputs": [
    {
     "name": "stdout",
     "output_type": "stream",
     "text": [
      "              precision    recall  f1-score   support\n",
      "\n",
      "           0       0.95      0.99      0.97       923\n",
      "           1       0.74      0.35      0.47        75\n",
      "\n",
      "    accuracy                           0.94       998\n",
      "   macro avg       0.85      0.67      0.72       998\n",
      "weighted avg       0.93      0.94      0.93       998\n",
      "\n"
     ]
    },
    {
     "data": {
      "text/html": [
       "<div>\n",
       "<style scoped>\n",
       "    .dataframe tbody tr th:only-of-type {\n",
       "        vertical-align: middle;\n",
       "    }\n",
       "\n",
       "    .dataframe tbody tr th {\n",
       "        vertical-align: top;\n",
       "    }\n",
       "\n",
       "    .dataframe thead th {\n",
       "        text-align: right;\n",
       "    }\n",
       "</style>\n",
       "<table border=\"1\" class=\"dataframe\">\n",
       "  <thead>\n",
       "    <tr style=\"text-align: right;\">\n",
       "      <th></th>\n",
       "      <th>Accuracy</th>\n",
       "      <th>Precision</th>\n",
       "      <th>Recall</th>\n",
       "      <th>F1-Score</th>\n",
       "      <th>AUC</th>\n",
       "    </tr>\n",
       "  </thead>\n",
       "  <tbody>\n",
       "    <tr>\n",
       "      <th>Random Forest</th>\n",
       "      <td>0.941884</td>\n",
       "      <td>0.742857</td>\n",
       "      <td>0.346667</td>\n",
       "      <td>0.472727</td>\n",
       "      <td>0.668458</td>\n",
       "    </tr>\n",
       "  </tbody>\n",
       "</table>\n",
       "</div>"
      ],
      "text/plain": [
       "               Accuracy  Precision    Recall  F1-Score       AUC\n",
       "Random Forest  0.941884   0.742857  0.346667  0.472727  0.668458"
      ]
     },
     "execution_count": 111,
     "metadata": {
      "tags": []
     },
     "output_type": "execute_result"
    }
   ],
   "source": [
    "# Fit Random Forest Classification to the Training set\n",
    "trees = RandomForestClassifier(n_estimators=100)\n",
    "trees.fit(X_train, y_train)\n",
    "\n",
    "# Test the model\n",
    "pred_rfc = trees.predict(X_test)\n",
    "\n",
    "# Get the model performance\n",
    "print(classification_report(y_test, pred_rfc))\n",
    "\n",
    "# Get all Measurements\n",
    "rf_summary = get_all_measurements(y_test, pred_rfc, \"Random Forest\")\n",
    "rf_summary"
   ]
  },
  {
   "cell_type": "code",
   "execution_count": 0,
   "metadata": {
    "colab": {
     "base_uri": "https://localhost:8080/",
     "height": 281
    },
    "colab_type": "code",
    "executionInfo": {
     "elapsed": 966,
     "status": "ok",
     "timestamp": 1583685568022,
     "user": {
      "displayName": "Xiangke Chen",
      "photoUrl": "https://lh3.googleusercontent.com/a-/AOh14GhU8b9X1cBQL4I7pL6vh4lO_U7dhCO4vv1mws8RlQ=s64",
      "userId": "04092284610189200730"
     },
     "user_tz": 300
    },
    "id": "Q7LxSMD4dNzC",
    "outputId": "93a11cce-1469-4fa7-8fd8-f6d08f933abe"
   },
   "outputs": [
    {
     "data": {
      "image/png": "[encoded data removed]",
      "text/plain": [
       "<Figure size 432x288 with 1 Axes>"
      ]
     },
     "metadata": {
      "tags": []
     },
     "output_type": "display_data"
    }
   ],
   "source": [
    "# plot roc curve\n",
    "plt.figure(figsize = (6,4))\n",
    "fpr_rf, tpr_rf, thresholds = roc_curve(y_test, pred_rfc)\n",
    "plt.plot(fpr_rf, tpr_rf, linewidth=1, label='Random Forest') \n",
    "plt.title(\"Random Forest ROC Curve\")\n",
    "plt.show()"
   ]
  },
  {
   "cell_type": "markdown",
   "metadata": {
    "colab_type": "text",
    "id": "_X1BtGLmdO7z"
   },
   "source": [
    "### XGBoost\n",
    "Documentation: https://xgboost.readthedocs.io/en/latest/"
   ]
  },
  {
   "cell_type": "code",
   "execution_count": 0,
   "metadata": {
    "colab": {
     "base_uri": "https://localhost:8080/",
     "height": 267
    },
    "colab_type": "code",
    "executionInfo": {
     "elapsed": 1187,
     "status": "ok",
     "timestamp": 1583685586907,
     "user": {
      "displayName": "Xiangke Chen",
      "photoUrl": "https://lh3.googleusercontent.com/a-/AOh14GhU8b9X1cBQL4I7pL6vh4lO_U7dhCO4vv1mws8RlQ=s64",
      "userId": "04092284610189200730"
     },
     "user_tz": 300
    },
    "id": "-BbB13hfdO72",
    "outputId": "ac07852b-a149-46a7-b351-2a76c6163152"
   },
   "outputs": [
    {
     "name": "stderr",
     "output_type": "stream",
     "text": [
      "/usr/local/lib/python3.6/dist-packages/xgboost/core.py:587: FutureWarning: Series.base is deprecated and will be removed in a future version\n",
      "  if getattr(data, 'base', None) is not None and \\\n"
     ]
    },
    {
     "name": "stdout",
     "output_type": "stream",
     "text": [
      "              precision    recall  f1-score   support\n",
      "\n",
      "           0       0.95      0.98      0.96       923\n",
      "           1       0.59      0.36      0.45        75\n",
      "\n",
      "    accuracy                           0.93       998\n",
      "   macro avg       0.77      0.67      0.71       998\n",
      "weighted avg       0.92      0.93      0.93       998\n",
      "\n"
     ]
    },
    {
     "data": {
      "text/html": [
       "<div>\n",
       "<style scoped>\n",
       "    .dataframe tbody tr th:only-of-type {\n",
       "        vertical-align: middle;\n",
       "    }\n",
       "\n",
       "    .dataframe tbody tr th {\n",
       "        vertical-align: top;\n",
       "    }\n",
       "\n",
       "    .dataframe thead th {\n",
       "        text-align: right;\n",
       "    }\n",
       "</style>\n",
       "<table border=\"1\" class=\"dataframe\">\n",
       "  <thead>\n",
       "    <tr style=\"text-align: right;\">\n",
       "      <th></th>\n",
       "      <th>Accuracy</th>\n",
       "      <th>Precision</th>\n",
       "      <th>Recall</th>\n",
       "      <th>F1-Score</th>\n",
       "      <th>AUC</th>\n",
       "    </tr>\n",
       "  </thead>\n",
       "  <tbody>\n",
       "    <tr>\n",
       "      <th>XGBoost</th>\n",
       "      <td>0.932866</td>\n",
       "      <td>0.586957</td>\n",
       "      <td>0.36</td>\n",
       "      <td>0.446281</td>\n",
       "      <td>0.669707</td>\n",
       "    </tr>\n",
       "  </tbody>\n",
       "</table>\n",
       "</div>"
      ],
      "text/plain": [
       "         Accuracy  Precision  Recall  F1-Score       AUC\n",
       "XGBoost  0.932866   0.586957    0.36  0.446281  0.669707"
      ]
     },
     "execution_count": 113,
     "metadata": {
      "tags": []
     },
     "output_type": "execute_result"
    }
   ],
   "source": [
    "# Fit XGRegressor to the Training set\n",
    "xg_reg = xgb.XGBRegressor(objective ='binary:hinge', colsample_bytree = 0.3, learning_rate = 0.1,\n",
    "                            max_depth = 5, alpha = 10, n_estimators = 1000)\n",
    "xg_reg.fit(X_train,y_train)\n",
    "\n",
    "# Test the model\n",
    "pred_xgb = xg_reg.predict(X_test)\n",
    "\n",
    "# Get the model performance\n",
    "print(classification_report(y_test, pred_xgb))\n",
    "\n",
    "# Get all Measurements\n",
    "xgb_summary = get_all_measurements(y_test, pred_xgb, \"XGBoost\")\n",
    "xgb_summary"
   ]
  },
  {
   "cell_type": "code",
   "execution_count": 0,
   "metadata": {
    "colab": {
     "base_uri": "https://localhost:8080/",
     "height": 281
    },
    "colab_type": "code",
    "executionInfo": {
     "elapsed": 1129,
     "status": "ok",
     "timestamp": 1583685587888,
     "user": {
      "displayName": "Xiangke Chen",
      "photoUrl": "https://lh3.googleusercontent.com/a-/AOh14GhU8b9X1cBQL4I7pL6vh4lO_U7dhCO4vv1mws8RlQ=s64",
      "userId": "04092284610189200730"
     },
     "user_tz": 300
    },
    "id": "epWWsNUnuxhC",
    "outputId": "bc155bdc-e178-4732-b035-a646f809eb12"
   },
   "outputs": [
    {
     "data": {
      "image/png": "[encoded data removed]",
      "text/plain": [
       "<Figure size 432x288 with 1 Axes>"
      ]
     },
     "metadata": {
      "tags": []
     },
     "output_type": "display_data"
    }
   ],
   "source": [
    "# plot roc curve\n",
    "plt.figure(figsize = (6,4))\n",
    "fpr_xgb, tpr_xgb, thresholds = roc_curve(y_test, pred_xgb)\n",
    "plt.plot(fpr_xgb, tpr_xgb, linewidth=1, label='XGBoost') \n",
    "plt.title(\"XGBoost ROC Curve\")\n",
    "plt.show()"
   ]
  },
  {
   "cell_type": "markdown",
   "metadata": {
    "colab_type": "text",
    "id": "1F32JvlodO7-"
   },
   "source": [
    "I can improve the performance (AUC, accuracy, etc) by tuning the parameters, but this requires more time. I have included code below that can be used for this purpose."
   ]
  },
  {
   "cell_type": "markdown",
   "metadata": {
    "colab_type": "text",
    "id": "n64CT1-KdO7_"
   },
   "source": [
    "#### Hyperparameter Tuning\n",
    "The most popular method for tuning hyperparameters is using GridSearch.\n",
    "\n",
    "Documentation: https://scikit-learn.org/stable/modules/generated/sklearn.model_selection.GridSearchCV.html"
   ]
  },
  {
   "cell_type": "code",
   "execution_count": 0,
   "metadata": {
    "colab": {
     "base_uri": "https://localhost:8080/",
     "height": 153
    },
    "colab_type": "code",
    "executionInfo": {
     "elapsed": 5470,
     "status": "ok",
     "timestamp": 1583680882825,
     "user": {
      "displayName": "Xiangke Chen",
      "photoUrl": "https://lh3.googleusercontent.com/a-/AOh14GhU8b9X1cBQL4I7pL6vh4lO_U7dhCO4vv1mws8RlQ=s64",
      "userId": "04092284610189200730"
     },
     "user_tz": 300
    },
    "id": "4-qwxrIadO7_",
    "outputId": "47c84c6f-e80a-45d4-da0b-9ee1a416d816",
    "scrolled": true
   },
   "outputs": [
    {
     "name": "stdout",
     "output_type": "stream",
     "text": [
      "Fitting 5 folds for each of 2 candidates, totalling 10 fits\n"
     ]
    },
    {
     "name": "stderr",
     "output_type": "stream",
     "text": [
      "[Parallel(n_jobs=5)]: Using backend LokyBackend with 5 concurrent workers.\n",
      "[Parallel(n_jobs=5)]: Done   7 out of  10 | elapsed:    4.9s remaining:    2.1s\n",
      "[Parallel(n_jobs=5)]: Done  10 out of  10 | elapsed:    5.0s finished\n",
      "/usr/local/lib/python3.6/dist-packages/xgboost/core.py:587: FutureWarning: Series.base is deprecated and will be removed in a future version\n",
      "  if getattr(data, 'base', None) is not None and \\\n"
     ]
    },
    {
     "name": "stdout",
     "output_type": "stream",
     "text": [
      "0.9061710653839832\n",
      "{'objective': 'binary:logistic'}\n"
     ]
    }
   ],
   "source": [
    "# Code for using GridSearch to tune hyperparameters\n",
    "# list some feasible features for tuning, Will add more in the feature\n",
    "parameters = {'objective' : ['binary:hinge','binary:logistic']}\n",
    "              # 'learning_rate' : [0.05, 0.1],\n",
    "              # 'max_depth' : [5, 4, 3],\n",
    "              # 'gamma' : [0.5, 1]}\n",
    "\n",
    "clf = GridSearchCV(xgb.XGBRegressor(), parameters, n_jobs=5 ,\n",
    "                   cv=StratifiedKFold(n_splits=5, shuffle=True), \n",
    "                   scoring='roc_auc',\n",
    "                   verbose=2, refit=True)\n",
    "\n",
    "clf.fit(X_train, y_train)\n",
    "\n",
    "print(clf.best_score_)\n",
    "print(clf.best_params_)"
   ]
  },
  {
   "cell_type": "markdown",
   "metadata": {
    "colab_type": "text",
    "id": "arzQwGG-dO8O"
   },
   "source": [
    "#### Visualize Results: Feature Importance and sample tree\n",
    "Visualizing the model for a better idea of what's going on in the blackbox."
   ]
  },
  {
   "cell_type": "code",
   "execution_count": 0,
   "metadata": {
    "colab": {
     "base_uri": "https://localhost:8080/",
     "height": 367
    },
    "colab_type": "code",
    "executionInfo": {
     "elapsed": 1352,
     "status": "ok",
     "timestamp": 1583685301605,
     "user": {
      "displayName": "Xiangke Chen",
      "photoUrl": "https://lh3.googleusercontent.com/a-/AOh14GhU8b9X1cBQL4I7pL6vh4lO_U7dhCO4vv1mws8RlQ=s64",
      "userId": "04092284610189200730"
     },
     "user_tz": 300
    },
    "id": "NG4yXPSvdO8O",
    "outputId": "ffeffdb8-76e0-4091-e803-1e1d002fc8e3",
    "scrolled": false
   },
   "outputs": [
    {
     "data": {
      "text/plain": [
       "<matplotlib.axes._subplots.AxesSubplot at 0x7f4be36919b0>"
      ]
     },
     "execution_count": 82,
     "metadata": {
      "tags": []
     },
     "output_type": "execute_result"
    },
    {
     "data": {
      "image/png": "[encoded data removed]",
      "text/plain": [
       "<Figure size 360x360 with 1 Axes>"
      ]
     },
     "metadata": {
      "tags": []
     },
     "output_type": "display_data"
    }
   ],
   "source": [
    "# Display features by importance\n",
    "plt.rcParams['figure.figsize'] = [5, 5]\n",
    "xgb.plot_importance(xg_reg)"
   ]
  },
  {
   "cell_type": "code",
   "execution_count": 0,
   "metadata": {
    "colab": {
     "base_uri": "https://localhost:8080/",
     "height": 516
    },
    "colab_type": "code",
    "executionInfo": {
     "elapsed": 3467,
     "status": "ok",
     "timestamp": 1583685360374,
     "user": {
      "displayName": "Xiangke Chen",
      "photoUrl": "https://lh3.googleusercontent.com/a-/AOh14GhU8b9X1cBQL4I7pL6vh4lO_U7dhCO4vv1mws8RlQ=s64",
      "userId": "04092284610189200730"
     },
     "user_tz": 300
    },
    "id": "OCvTzAfxdO8Z",
    "outputId": "b4875110-d008-4a81-a14b-90da6a0e790b",
    "scrolled": true
   },
   "outputs": [
    {
     "data": {
      "text/plain": [
       "<matplotlib.axes._subplots.AxesSubplot at 0x7f4be43ab828>"
      ]
     },
     "execution_count": 91,
     "metadata": {
      "tags": []
     },
     "output_type": "execute_result"
    },
    {
     "data": {
      "image/png": "[encoded data removed]",
      "text/plain": [
       "<Figure size 5040x2520 with 1 Axes>"
      ]
     },
     "metadata": {
      "tags": []
     },
     "output_type": "display_data"
    }
   ],
   "source": [
    "# Visualizing: Shows the sixth boosted tree\n",
    "plt.rcParams['figure.figsize'] = [70, 35]\n",
    "xgb.plot_tree(xg_reg, num_trees=5)"
   ]
  },
  {
   "cell_type": "markdown",
   "metadata": {
    "colab_type": "text",
    "id": "t76IJYfqpNWO"
   },
   "source": [
    "## Model Comparison"
   ]
  },
  {
   "cell_type": "code",
   "execution_count": 0,
   "metadata": {
    "colab": {
     "base_uri": "https://localhost:8080/",
     "height": 513
    },
    "colab_type": "code",
    "executionInfo": {
     "elapsed": 1311,
     "status": "ok",
     "timestamp": 1583685652777,
     "user": {
      "displayName": "Xiangke Chen",
      "photoUrl": "https://lh3.googleusercontent.com/a-/AOh14GhU8b9X1cBQL4I7pL6vh4lO_U7dhCO4vv1mws8RlQ=s64",
      "userId": "04092284610189200730"
     },
     "user_tz": 300
    },
    "id": "weTcmu_epMvw",
    "outputId": "d6014ab3-442c-4103-b1d4-f97f6cec93c9"
   },
   "outputs": [
    {
     "data": {
      "image/png": "[encoded data removed]",
      "text/plain": [
       "<Figure size 864x576 with 1 Axes>"
      ]
     },
     "metadata": {
      "tags": []
     },
     "output_type": "display_data"
    }
   ],
   "source": [
    "plt.figure(figsize = (12,8))\n",
    "plt.plot(fpr_xgb, tpr_xgb, linewidth=1, label='XGBoost') \n",
    "plt.plot(fpr_knn, tpr_knn, linewidth=1, label='KNN') \n",
    "plt.plot(fpr_dt, tpr_dt, linewidth=1, label='Decision Tree') \n",
    "plt.plot(fpr_rf, tpr_rf, linewidth=1, label='Random Forest') \n",
    "plt.title(\"Model ROC Curves\")\n",
    "plt.xlabel('False Positive Rate')\n",
    "plt.ylabel('True Positive Rate')\n",
    "plt.legend(loc = 'lower right')\n",
    "plt.show()"
   ]
  },
  {
   "cell_type": "code",
   "execution_count": 0,
   "metadata": {
    "colab": {
     "base_uri": "https://localhost:8080/",
     "height": 173
    },
    "colab_type": "code",
    "executionInfo": {
     "elapsed": 890,
     "status": "ok",
     "timestamp": 1583685659975,
     "user": {
      "displayName": "Xiangke Chen",
      "photoUrl": "https://lh3.googleusercontent.com/a-/AOh14GhU8b9X1cBQL4I7pL6vh4lO_U7dhCO4vv1mws8RlQ=s64",
      "userId": "04092284610189200730"
     },
     "user_tz": 300
    },
    "id": "Z7wiX-VtwnVs",
    "outputId": "a179fb6b-bf03-46ae-f873-3351cfedd437"
   },
   "outputs": [
    {
     "data": {
      "text/html": [
       "<div>\n",
       "<style scoped>\n",
       "    .dataframe tbody tr th:only-of-type {\n",
       "        vertical-align: middle;\n",
       "    }\n",
       "\n",
       "    .dataframe tbody tr th {\n",
       "        vertical-align: top;\n",
       "    }\n",
       "\n",
       "    .dataframe thead th {\n",
       "        text-align: right;\n",
       "    }\n",
       "</style>\n",
       "<table border=\"1\" class=\"dataframe\">\n",
       "  <thead>\n",
       "    <tr style=\"text-align: right;\">\n",
       "      <th></th>\n",
       "      <th>Accuracy</th>\n",
       "      <th>Precision</th>\n",
       "      <th>Recall</th>\n",
       "      <th>F1-Score</th>\n",
       "      <th>AUC</th>\n",
       "    </tr>\n",
       "  </thead>\n",
       "  <tbody>\n",
       "    <tr>\n",
       "      <th>KNN</th>\n",
       "      <td>0.924850</td>\n",
       "      <td>0.500000</td>\n",
       "      <td>0.213333</td>\n",
       "      <td>0.299065</td>\n",
       "      <td>0.597999</td>\n",
       "    </tr>\n",
       "    <tr>\n",
       "      <th>Decision Tree</th>\n",
       "      <td>0.918838</td>\n",
       "      <td>0.442308</td>\n",
       "      <td>0.306667</td>\n",
       "      <td>0.362205</td>\n",
       "      <td>0.637624</td>\n",
       "    </tr>\n",
       "    <tr>\n",
       "      <th>Random Forest</th>\n",
       "      <td>0.941884</td>\n",
       "      <td>0.742857</td>\n",
       "      <td>0.346667</td>\n",
       "      <td>0.472727</td>\n",
       "      <td>0.668458</td>\n",
       "    </tr>\n",
       "    <tr>\n",
       "      <th>XGBoost</th>\n",
       "      <td>0.932866</td>\n",
       "      <td>0.586957</td>\n",
       "      <td>0.360000</td>\n",
       "      <td>0.446281</td>\n",
       "      <td>0.669707</td>\n",
       "    </tr>\n",
       "  </tbody>\n",
       "</table>\n",
       "</div>"
      ],
      "text/plain": [
       "               Accuracy  Precision    Recall  F1-Score       AUC\n",
       "KNN            0.924850   0.500000  0.213333  0.299065  0.597999\n",
       "Decision Tree  0.918838   0.442308  0.306667  0.362205  0.637624\n",
       "Random Forest  0.941884   0.742857  0.346667  0.472727  0.668458\n",
       "XGBoost        0.932866   0.586957  0.360000  0.446281  0.669707"
      ]
     },
     "execution_count": 116,
     "metadata": {
      "tags": []
     },
     "output_type": "execute_result"
    }
   ],
   "source": [
    "frame = [knn_summary, dt_summary, rf_summary, xgb_summary]\n",
    "overall_summary = pd.concat(frame)\n",
    "overall_summary"
   ]
  },
  {
   "cell_type": "markdown",
   "metadata": {
    "colab_type": "text",
    "id": "eYrv7l2cdO8q"
   },
   "source": [
    "# Final Data Outpuut\n",
    "\n",
    "**Prepare final data for submitting**\n",
    "\n",
    "Since I prepared the training data with one-hot encoding of several variables, as well as normalization, I want to apply the same transformations to ensure that the testing data is consistent when fed into the model."
   ]
  },
  {
   "cell_type": "code",
   "execution_count": 0,
   "metadata": {
    "colab": {},
    "colab_type": "code",
    "id": "6vSPimuYjzLM"
   },
   "outputs": [],
   "source": [
    "# Reuses some code from Step 3\n",
    "# Encode categorical features into dataframe\n",
    "x2 = pd.get_dummies(final,columns = cat_cols)\n",
    "\n",
    "# Filter on selected features before normalizing\n",
    "x2_filter = x2[x.columns]\n",
    "\n",
    "# Use the same scaling as done on the training set (calls the same function used from earlier)\n",
    "x2_scaled = min_max_scaler.transform(x2_filter)\n",
    "x2_scaled_df = pd.DataFrame(x2_scaled, columns = x2_filter.columns)\n",
    "\n",
    "# Filter on selected features from training\n",
    "x2_test = x2_scaled_df[x_chi2.columns]"
   ]
  },
  {
   "cell_type": "code",
   "execution_count": 0,
   "metadata": {
    "colab": {
     "base_uri": "https://localhost:8080/",
     "height": 204
    },
    "colab_type": "code",
    "executionInfo": {
     "elapsed": 1140,
     "status": "ok",
     "timestamp": 1583685404704,
     "user": {
      "displayName": "Xiangke Chen",
      "photoUrl": "https://lh3.googleusercontent.com/a-/AOh14GhU8b9X1cBQL4I7pL6vh4lO_U7dhCO4vv1mws8RlQ=s64",
      "userId": "04092284610189200730"
     },
     "user_tz": 300
    },
    "id": "ubUJ76OrdO8w",
    "outputId": "786de886-73c8-46ec-87d7-1960b3071e08"
   },
   "outputs": [
    {
     "data": {
      "text/html": [
       "<div>\n",
       "<style scoped>\n",
       "    .dataframe tbody tr th:only-of-type {\n",
       "        vertical-align: middle;\n",
       "    }\n",
       "\n",
       "    .dataframe tbody tr th {\n",
       "        vertical-align: top;\n",
       "    }\n",
       "\n",
       "    .dataframe thead th {\n",
       "        text-align: right;\n",
       "    }\n",
       "</style>\n",
       "<table border=\"1\" class=\"dataframe\">\n",
       "  <thead>\n",
       "    <tr style=\"text-align: right;\">\n",
       "      <th></th>\n",
       "      <th>R</th>\n",
       "      <th>RBI</th>\n",
       "      <th>H</th>\n",
       "      <th>3B</th>\n",
       "      <th>2B</th>\n",
       "      <th>HR</th>\n",
       "      <th>AB</th>\n",
       "      <th>BB</th>\n",
       "      <th>G</th>\n",
       "      <th>SB</th>\n",
       "      <th>SH</th>\n",
       "      <th>HBP</th>\n",
       "      <th>SO</th>\n",
       "      <th>age</th>\n",
       "    </tr>\n",
       "  </thead>\n",
       "  <tbody>\n",
       "    <tr>\n",
       "      <th>0</th>\n",
       "      <td>0.775247</td>\n",
       "      <td>0.682634</td>\n",
       "      <td>0.909071</td>\n",
       "      <td>0.755798</td>\n",
       "      <td>0.837963</td>\n",
       "      <td>0.140748</td>\n",
       "      <td>0.789147</td>\n",
       "      <td>0.447583</td>\n",
       "      <td>0.835570</td>\n",
       "      <td>0.570541</td>\n",
       "      <td>0.470344</td>\n",
       "      <td>0.209534</td>\n",
       "      <td>0.146662</td>\n",
       "      <td>0.643836</td>\n",
       "    </tr>\n",
       "    <tr>\n",
       "      <th>1</th>\n",
       "      <td>0.818612</td>\n",
       "      <td>0.852339</td>\n",
       "      <td>0.680161</td>\n",
       "      <td>0.380112</td>\n",
       "      <td>0.638889</td>\n",
       "      <td>0.937008</td>\n",
       "      <td>0.632246</td>\n",
       "      <td>0.806099</td>\n",
       "      <td>0.745174</td>\n",
       "      <td>0.085825</td>\n",
       "      <td>0.196545</td>\n",
       "      <td>0.104564</td>\n",
       "      <td>0.488506</td>\n",
       "      <td>0.342466</td>\n",
       "    </tr>\n",
       "    <tr>\n",
       "      <th>2</th>\n",
       "      <td>0.684813</td>\n",
       "      <td>0.697587</td>\n",
       "      <td>0.846974</td>\n",
       "      <td>0.737864</td>\n",
       "      <td>0.846561</td>\n",
       "      <td>0.138858</td>\n",
       "      <td>0.822701</td>\n",
       "      <td>0.394393</td>\n",
       "      <td>0.881846</td>\n",
       "      <td>0.527778</td>\n",
       "      <td>0.402697</td>\n",
       "      <td>0.318440</td>\n",
       "      <td>0.175417</td>\n",
       "      <td>0.726027</td>\n",
       "    </tr>\n",
       "    <tr>\n",
       "      <th>3</th>\n",
       "      <td>0.069494</td>\n",
       "      <td>0.077532</td>\n",
       "      <td>0.104745</td>\n",
       "      <td>0.040992</td>\n",
       "      <td>0.077160</td>\n",
       "      <td>0.011228</td>\n",
       "      <td>0.154745</td>\n",
       "      <td>0.055425</td>\n",
       "      <td>0.190182</td>\n",
       "      <td>0.017057</td>\n",
       "      <td>0.146684</td>\n",
       "      <td>0.050526</td>\n",
       "      <td>0.077546</td>\n",
       "      <td>0.232877</td>\n",
       "    </tr>\n",
       "    <tr>\n",
       "      <th>4</th>\n",
       "      <td>0.095069</td>\n",
       "      <td>0.102705</td>\n",
       "      <td>0.135665</td>\n",
       "      <td>0.120049</td>\n",
       "      <td>0.124339</td>\n",
       "      <td>0.032996</td>\n",
       "      <td>0.183099</td>\n",
       "      <td>0.045050</td>\n",
       "      <td>0.251035</td>\n",
       "      <td>0.009503</td>\n",
       "      <td>0.127551</td>\n",
       "      <td>0.033118</td>\n",
       "      <td>0.119160</td>\n",
       "      <td>0.424658</td>\n",
       "    </tr>\n",
       "  </tbody>\n",
       "</table>\n",
       "</div>"
      ],
      "text/plain": [
       "          R       RBI         H        3B        2B        HR        AB  \\\n",
       "0  0.775247  0.682634  0.909071  0.755798  0.837963  0.140748  0.789147   \n",
       "1  0.818612  0.852339  0.680161  0.380112  0.638889  0.937008  0.632246   \n",
       "2  0.684813  0.697587  0.846974  0.737864  0.846561  0.138858  0.822701   \n",
       "3  0.069494  0.077532  0.104745  0.040992  0.077160  0.011228  0.154745   \n",
       "4  0.095069  0.102705  0.135665  0.120049  0.124339  0.032996  0.183099   \n",
       "\n",
       "         BB         G        SB        SH       HBP        SO       age  \n",
       "0  0.447583  0.835570  0.570541  0.470344  0.209534  0.146662  0.643836  \n",
       "1  0.806099  0.745174  0.085825  0.196545  0.104564  0.488506  0.342466  \n",
       "2  0.394393  0.881846  0.527778  0.402697  0.318440  0.175417  0.726027  \n",
       "3  0.055425  0.190182  0.017057  0.146684  0.050526  0.077546  0.232877  \n",
       "4  0.045050  0.251035  0.009503  0.127551  0.033118  0.119160  0.424658  "
      ]
     },
     "execution_count": 95,
     "metadata": {
      "tags": []
     },
     "output_type": "execute_result"
    }
   ],
   "source": [
    "# The data is ready for scoring\n",
    "x2_test.head()"
   ]
  },
  {
   "cell_type": "markdown",
   "metadata": {
    "colab_type": "text",
    "id": "R_k1JdZlxorH"
   },
   "source": [
    "I am not done with the hyperparamers tuning which means I don't know which model works the best. Here, Let me just choose random forest as our final model. And I want the output result to be probability instead of 0 or 1."
   ]
  },
  {
   "cell_type": "code",
   "execution_count": 0,
   "metadata": {
    "colab": {
     "base_uri": "https://localhost:8080/",
     "height": 51
    },
    "colab_type": "code",
    "executionInfo": {
     "elapsed": 2259,
     "status": "ok",
     "timestamp": 1583685406848,
     "user": {
      "displayName": "Xiangke Chen",
      "photoUrl": "https://lh3.googleusercontent.com/a-/AOh14GhU8b9X1cBQL4I7pL6vh4lO_U7dhCO4vv1mws8RlQ=s64",
      "userId": "04092284610189200730"
     },
     "user_tz": 300
    },
    "id": "dq3EdwCBx4vK",
    "outputId": "7b9deae7-9215-405d-d0da-71a9dc4e42b2"
   },
   "outputs": [
    {
     "name": "stderr",
     "output_type": "stream",
     "text": [
      "/usr/local/lib/python3.6/dist-packages/xgboost/core.py:587: FutureWarning: Series.base is deprecated and will be removed in a future version\n",
      "  if getattr(data, 'base', None) is not None and \\\n"
     ]
    }
   ],
   "source": [
    "# Fit XGRegressor to the Training set\n",
    "xg_reg = xgb.XGBRegressor(objective ='binary:logistic', colsample_bytree = 0.3, learning_rate = 0.1,\n",
    "                            max_depth = 5, alpha = 10, n_estimators = 1000)\n",
    "xg_reg.fit(X_train,y_train)\n",
    "\n",
    "# Test the model\n",
    "pred_xgb = xg_reg.predict(X_test)"
   ]
  },
  {
   "cell_type": "code",
   "execution_count": 0,
   "metadata": {
    "colab": {
     "base_uri": "https://localhost:8080/",
     "height": 119
    },
    "colab_type": "code",
    "executionInfo": {
     "elapsed": 1646,
     "status": "ok",
     "timestamp": 1583685406849,
     "user": {
      "displayName": "Xiangke Chen",
      "photoUrl": "https://lh3.googleusercontent.com/a-/AOh14GhU8b9X1cBQL4I7pL6vh4lO_U7dhCO4vv1mws8RlQ=s64",
      "userId": "04092284610189200730"
     },
     "user_tz": 300
    },
    "id": "eZrpp1I2dO8y",
    "outputId": "f656eda4-c20a-4a0a-f15c-9e47afac62af",
    "scrolled": true
   },
   "outputs": [
    {
     "name": "stdout",
     "output_type": "stream",
     "text": [
      "    playerID    TARGET\n",
      "0   cobbty01  0.990812\n",
      "1   ruthba01  0.989870\n",
      "2  wagneho01  0.997783\n",
      "3  mathech01  0.956830\n",
      "4  johnswa01  0.959624\n"
     ]
    }
   ],
   "source": [
    "# Scoring the data\n",
    "predictions = xg_reg.predict(x2_test)\n",
    "output = pd.DataFrame({'playerID': final['playerID'], 'TARGET': predictions})\n",
    "print(output.head())\n",
    "\n",
    "# Save the prediction to a csv file\n",
    "output.to_csv('sample_submission.csv', index = False)"
   ]
  },
  {
   "cell_type": "markdown",
   "metadata": {
    "colab_type": "text",
    "id": "OXLg4C3LnHON"
   },
   "source": [
    "-----------"
   ]
  },
  {
   "cell_type": "markdown",
   "metadata": {
    "colab_type": "text",
    "id": "IED8NQj6jtb9"
   },
   "source": [
    "# Reflection & What's Next\n",
    "## Imbalanced Issue\n",
    "This is a very **imbalanced data** in terms of target variable and will cause some problem in our feature prediction. With this in mind, let me finish the prediction and discuss more about the consequence of using imbalanced data.\n",
    "\n",
    "And most time we are referring to **accuracy**. However, for imbalanced data, accuracy might not make perfect sense. \n",
    "\n",
    "The conventional model evaluation methods do not accurately measure model performance when faced with imbalanced datasets.\n",
    "\n",
    "\"*Standard classifier algorithms like Decision Tree and Logistic Regression have a bias towards classes which have number of instances. They tend to only predict the majority class data. The features of the minority class are treated as noise and are often ignored. Thus, there is a high probability of misclassification of the minority class as compared to the majority class\"*   (from [Link] )\n",
    "\n",
    "So we need to address this issue.\n"
   ]
  },
  {
   "cell_type": "markdown",
   "metadata": {
    "colab_type": "text",
    "id": "Achg0dXxkMSt"
   },
   "source": [
    "- Collect more data\n",
    "- Resampling Techniques\n",
    "  - Random Undersample\n",
    "  - Random oversample\n",
    "- Cluster-Based Over Sampling\n",
    "- Try more ensemble models"
   ]
  },
  {
   "cell_type": "markdown",
   "metadata": {
    "colab_type": "text",
    "id": "ZAsS9-zAkN0M"
   },
   "source": [
    "## Model Aspect\n",
    "\n",
    "### Constructing Model\n",
    "\n",
    "I tried some baseline models to have a feeling of the prediction. However, I was unable to do hyper-parameter tuning which is very important for modeling.\n",
    "\n",
    "Also, try to use more ensemble models techniques\n",
    "\n",
    "So, next\n",
    "\n",
    "1. Try hyper-parameter turning.\n",
    "   1. Grid Search\n",
    "   2. Random Search\n",
    "2. Try ensemble model\n",
    "   1. Bagging\n",
    "   2. Boosting\n",
    "   3. Stacking etc\n",
    "\n",
    "### Evaluating Models\n",
    "\n",
    "Apart from constructing models, we should also come up with more evaluation metrics.\n",
    "\n",
    "Lift chart could be a good example.\n",
    "\n",
    "In addition, we should also collect information about the cost of wrong prediction (false positive and false negative) so that we can better decide which metrics works better in our context.\n",
    "\n",
    "By having the penalty/cost information, we could also build a **cost matrix**, combined with confusion matrix, we can know the expected value (cost) of making a wrong prediction. This is helpful for us when choosing models.\n",
    "\n",
    "### Time Series Model\n",
    "\n",
    "Our current objective is to predict if a player is in the Hall of Fame or not. In the future, we can extend our analysis/model to predict if a player will be in the Hall of Fame next year.\n",
    "\n",
    "This is a time-series prediction problem.\n",
    "\n",
    "We could take advantage of history data to predict future. From business application prospective, this model might be more widely used.\n",
    "\n"
   ]
  },
  {
   "cell_type": "markdown",
   "metadata": {
    "colab_type": "text",
    "id": "u61XcCoDkNwr"
   },
   "source": [
    "## Data Source Aspect\n",
    "\n",
    "This time, I only used some tables. In the future analysis, we should include more players' information.\n",
    "\n",
    "For example:\n",
    "\n",
    "- Number of Big Awards Received\n",
    "- Win times\n",
    "- Lose Time\n",
    "- Team\n",
    "- League\n",
    "- Salary Information\n",
    "- And so on\n",
    "\n",
    "With more sound and reliable data, we can have a better prediction."
   ]
  },
  {
   "cell_type": "markdown",
   "metadata": {
    "colab_type": "text",
    "id": "u9Px-VK5kNsa"
   },
   "source": [
    "## Data Engineer Aspect\n",
    "\n",
    "We cannot ensure the quality of the data. Missing values, outliers always exists.\n",
    "\n",
    "This time, I dropped some outliers directly because of they are very small proportion of the whole data. But with more time, research and information, I think we can try some imputation like\n",
    "\n",
    "- Aggregation (min/max/median)\n",
    "- Prediction Models\n",
    "\n",
    "Or we might find some third part data to supplement our source table.\n",
    "\n",
    "In addition,\n",
    "\n",
    "More Exploratory Data Analysis should be performed."
   ]
  },
  {
   "cell_type": "markdown",
   "metadata": {
    "colab_type": "text",
    "id": "6jtBQghOkNm9"
   },
   "source": [
    "## Application Aspect\n",
    "\n",
    "Think more about how this prediction can impact the real-world business so that we could better tailor our product to the market.\n",
    "\n",
    "Maybe design an **interactive dashboard** for baseball executives to use. Or maybe we can try to program a phone application etc."
   ]
  }
 ],
 "metadata": {
  "accelerator": "GPU",
  "colab": {
   "collapsed_sections": [],
   "name": "ebay_data_challenge_xiangke_chen.ipynb",
   "provenance": [],
   "toc_visible": true
  },
  "kernelspec": {
   "display_name": "Python 3",
   "language": "python",
   "name": "python3"
  },
  "language_info": {
   "codemirror_mode": {
    "name": "ipython",
    "version": 3
   },
   "file_extension": ".py",
   "mimetype": "text/x-python",
   "name": "python",
   "nbconvert_exporter": "python",
   "pygments_lexer": "ipython3",
   "version": "3.7.4"
  },
  "toc": {
   "base_numbering": 1,
   "nav_menu": {},
   "number_sections": true,
   "sideBar": true,
   "skip_h1_title": false,
   "title_cell": "Table of Contents",
   "title_sidebar": "Contents",
   "toc_cell": true,
   "toc_position": {
    "height": "calc(100% - 180px)",
    "left": "10px",
    "top": "150px",
    "width": "288px"
   },
   "toc_section_display": true,
   "toc_window_display": true
  },
  "varInspector": {
   "cols": {
    "lenName": 16,
    "lenType": 16,
    "lenVar": 40
   },
   "kernels_config": {
    "python": {
     "delete_cmd_postfix": "",
     "delete_cmd_prefix": "del ",
     "library": "var_list.py",
     "varRefreshCmd": "print(var_dic_list())"
    },
    "r": {
     "delete_cmd_postfix": ") ",
     "delete_cmd_prefix": "rm(",
     "library": "var_list.r",
     "varRefreshCmd": "cat(var_dic_list()) "
    }
   },
   "types_to_exclude": [
    "module",
    "function",
    "builtin_function_or_method",
    "instance",
    "_Feature"
   ],
   "window_display": false
  }
 },
 "nbformat": 4,
 "nbformat_minor": 1
}
